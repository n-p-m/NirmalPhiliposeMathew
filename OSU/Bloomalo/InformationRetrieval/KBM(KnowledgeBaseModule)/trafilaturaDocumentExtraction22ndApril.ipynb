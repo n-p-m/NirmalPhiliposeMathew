{
  "cells": [
    {
      "cell_type": "code",
      "execution_count": null,
      "metadata": {
        "colab": {
          "base_uri": "https://localhost:8080/"
        },
        "id": "PkwEob2deg4D",
        "outputId": "f383c67b-fec2-4e24-b400-5ceb17f84f2a"
      },
      "outputs": [
        {
          "output_type": "stream",
          "name": "stdout",
          "text": [
            "Looking in indexes: https://pypi.org/simple, https://us-python.pkg.dev/colab-wheels/public/simple/\n",
            "Requirement already satisfied: datasets in /usr/local/lib/python3.9/dist-packages (2.11.0)\n",
            "Requirement already satisfied: evaluate in /usr/local/lib/python3.9/dist-packages (0.4.0)\n",
            "Requirement already satisfied: transformers[sentencepiece] in /usr/local/lib/python3.9/dist-packages (4.28.1)\n",
            "Requirement already satisfied: responses<0.19 in /usr/local/lib/python3.9/dist-packages (from datasets) (0.18.0)\n",
            "Requirement already satisfied: pyarrow>=8.0.0 in /usr/local/lib/python3.9/dist-packages (from datasets) (9.0.0)\n",
            "Requirement already satisfied: tqdm>=4.62.1 in /usr/local/lib/python3.9/dist-packages (from datasets) (4.65.0)\n",
            "Requirement already satisfied: huggingface-hub<1.0.0,>=0.11.0 in /usr/local/lib/python3.9/dist-packages (from datasets) (0.13.4)\n",
            "Requirement already satisfied: requests>=2.19.0 in /usr/local/lib/python3.9/dist-packages (from datasets) (2.27.1)\n",
            "Requirement already satisfied: dill<0.3.7,>=0.3.0 in /usr/local/lib/python3.9/dist-packages (from datasets) (0.3.6)\n",
            "Requirement already satisfied: xxhash in /usr/local/lib/python3.9/dist-packages (from datasets) (3.2.0)\n",
            "Requirement already satisfied: aiohttp in /usr/local/lib/python3.9/dist-packages (from datasets) (3.8.4)\n",
            "Requirement already satisfied: pyyaml>=5.1 in /usr/local/lib/python3.9/dist-packages (from datasets) (6.0)\n",
            "Requirement already satisfied: packaging in /usr/local/lib/python3.9/dist-packages (from datasets) (23.1)\n",
            "Requirement already satisfied: pandas in /usr/local/lib/python3.9/dist-packages (from datasets) (1.5.3)\n",
            "Requirement already satisfied: fsspec[http]>=2021.11.1 in /usr/local/lib/python3.9/dist-packages (from datasets) (2023.4.0)\n",
            "Requirement already satisfied: multiprocess in /usr/local/lib/python3.9/dist-packages (from datasets) (0.70.14)\n",
            "Requirement already satisfied: numpy>=1.17 in /usr/local/lib/python3.9/dist-packages (from datasets) (1.22.4)\n",
            "Requirement already satisfied: filelock in /usr/local/lib/python3.9/dist-packages (from transformers[sentencepiece]) (3.11.0)\n",
            "Requirement already satisfied: tokenizers!=0.11.3,<0.14,>=0.11.1 in /usr/local/lib/python3.9/dist-packages (from transformers[sentencepiece]) (0.13.3)\n",
            "Requirement already satisfied: regex!=2019.12.17 in /usr/local/lib/python3.9/dist-packages (from transformers[sentencepiece]) (2022.10.31)\n",
            "Requirement already satisfied: sentencepiece!=0.1.92,>=0.1.91 in /usr/local/lib/python3.9/dist-packages (from transformers[sentencepiece]) (0.1.98)\n",
            "Requirement already satisfied: protobuf<=3.20.2 in /usr/local/lib/python3.9/dist-packages (from transformers[sentencepiece]) (3.20.2)\n",
            "Requirement already satisfied: aiosignal>=1.1.2 in /usr/local/lib/python3.9/dist-packages (from aiohttp->datasets) (1.3.1)\n",
            "Requirement already satisfied: charset-normalizer<4.0,>=2.0 in /usr/local/lib/python3.9/dist-packages (from aiohttp->datasets) (3.1.0)\n",
            "Requirement already satisfied: yarl<2.0,>=1.0 in /usr/local/lib/python3.9/dist-packages (from aiohttp->datasets) (1.9.1)\n",
            "Requirement already satisfied: async-timeout<5.0,>=4.0.0a3 in /usr/local/lib/python3.9/dist-packages (from aiohttp->datasets) (4.0.2)\n",
            "Requirement already satisfied: multidict<7.0,>=4.5 in /usr/local/lib/python3.9/dist-packages (from aiohttp->datasets) (6.0.4)\n",
            "Requirement already satisfied: frozenlist>=1.1.1 in /usr/local/lib/python3.9/dist-packages (from aiohttp->datasets) (1.3.3)\n",
            "Requirement already satisfied: attrs>=17.3.0 in /usr/local/lib/python3.9/dist-packages (from aiohttp->datasets) (23.1.0)\n",
            "Requirement already satisfied: typing-extensions>=3.7.4.3 in /usr/local/lib/python3.9/dist-packages (from huggingface-hub<1.0.0,>=0.11.0->datasets) (4.5.0)\n",
            "Requirement already satisfied: idna<4,>=2.5 in /usr/local/lib/python3.9/dist-packages (from requests>=2.19.0->datasets) (3.4)\n",
            "Collecting charset-normalizer<4.0,>=2.0\n",
            "  Downloading charset_normalizer-2.0.12-py3-none-any.whl (39 kB)\n",
            "Requirement already satisfied: certifi>=2017.4.17 in /usr/local/lib/python3.9/dist-packages (from requests>=2.19.0->datasets) (2022.12.7)\n",
            "Requirement already satisfied: urllib3<1.27,>=1.21.1 in /usr/local/lib/python3.9/dist-packages (from requests>=2.19.0->datasets) (1.26.15)\n",
            "Requirement already satisfied: pytz>=2020.1 in /usr/local/lib/python3.9/dist-packages (from pandas->datasets) (2022.7.1)\n",
            "Requirement already satisfied: python-dateutil>=2.8.1 in /usr/local/lib/python3.9/dist-packages (from pandas->datasets) (2.8.2)\n",
            "Requirement already satisfied: six>=1.5 in /usr/local/lib/python3.9/dist-packages (from python-dateutil>=2.8.1->pandas->datasets) (1.16.0)\n",
            "Installing collected packages: charset-normalizer\n",
            "  Attempting uninstall: charset-normalizer\n",
            "    Found existing installation: charset-normalizer 3.1.0\n",
            "    Uninstalling charset-normalizer-3.1.0:\n",
            "      Successfully uninstalled charset-normalizer-3.1.0\n",
            "\u001b[31mERROR: pip's dependency resolver does not currently take into account all the packages that are installed. This behaviour is the source of the following dependency conflicts.\n",
            "trafilatura 1.5.0 requires charset-normalizer>=3.1.0; python_version >= \"3.7\", but you have charset-normalizer 2.0.12 which is incompatible.\n",
            "htmldate 1.4.2 requires charset-normalizer>=3.1.0; python_version >= \"3.7\", but you have charset-normalizer 2.0.12 which is incompatible.\u001b[0m\u001b[31m\n",
            "\u001b[0mSuccessfully installed charset-normalizer-2.0.12\n",
            "Looking in indexes: https://pypi.org/simple, https://us-python.pkg.dev/colab-wheels/public/simple/\n",
            "Requirement already satisfied: faiss-gpu in /usr/local/lib/python3.9/dist-packages (1.7.2)\n"
          ]
        }
      ],
      "source": [
        "!pip install datasets evaluate transformers[sentencepiece]\n",
        "!pip install faiss-gpu"
      ]
    },
    {
      "cell_type": "code",
      "execution_count": null,
      "metadata": {
        "colab": {
          "base_uri": "https://localhost:8080/"
        },
        "id": "vm0OrtcXT3C9",
        "outputId": "35ff3f09-7aa6-4409-cfde-a636b92c9392"
      },
      "outputs": [
        {
          "output_type": "stream",
          "name": "stdout",
          "text": [
            "Looking in indexes: https://pypi.org/simple, https://us-python.pkg.dev/colab-wheels/public/simple/\n",
            "Requirement already satisfied: trafilatura in /usr/local/lib/python3.9/dist-packages (1.5.0)\n",
            "Requirement already satisfied: justext>=3.0.0 in /usr/local/lib/python3.9/dist-packages (from trafilatura) (3.0.0)\n",
            "Collecting charset-normalizer>=3.1.0\n",
            "  Using cached charset_normalizer-3.1.0-cp39-cp39-manylinux_2_17_x86_64.manylinux2014_x86_64.whl (199 kB)\n",
            "Requirement already satisfied: certifi in /usr/local/lib/python3.9/dist-packages (from trafilatura) (2022.12.7)\n",
            "Requirement already satisfied: htmldate>=1.4.2 in /usr/local/lib/python3.9/dist-packages (from trafilatura) (1.4.2)\n",
            "Requirement already satisfied: urllib3<2,>=1.26 in /usr/local/lib/python3.9/dist-packages (from trafilatura) (1.26.15)\n",
            "Requirement already satisfied: lxml>=4.9.2 in /usr/local/lib/python3.9/dist-packages (from trafilatura) (4.9.2)\n",
            "Requirement already satisfied: courlan>=0.9.0 in /usr/local/lib/python3.9/dist-packages (from trafilatura) (0.9.0)\n",
            "Requirement already satisfied: langcodes>=3.3.0 in /usr/local/lib/python3.9/dist-packages (from courlan>=0.9.0->trafilatura) (3.3.0)\n",
            "Requirement already satisfied: tld>=0.13 in /usr/local/lib/python3.9/dist-packages (from courlan>=0.9.0->trafilatura) (0.13)\n",
            "Requirement already satisfied: python-dateutil>=2.8.2 in /usr/local/lib/python3.9/dist-packages (from htmldate>=1.4.2->trafilatura) (2.8.2)\n",
            "Requirement already satisfied: dateparser>=1.1.2 in /usr/local/lib/python3.9/dist-packages (from htmldate>=1.4.2->trafilatura) (1.1.8)\n",
            "Requirement already satisfied: tzlocal in /usr/local/lib/python3.9/dist-packages (from dateparser>=1.1.2->htmldate>=1.4.2->trafilatura) (4.3)\n",
            "Requirement already satisfied: regex!=2019.02.19,!=2021.8.27 in /usr/local/lib/python3.9/dist-packages (from dateparser>=1.1.2->htmldate>=1.4.2->trafilatura) (2022.10.31)\n",
            "Requirement already satisfied: pytz in /usr/local/lib/python3.9/dist-packages (from dateparser>=1.1.2->htmldate>=1.4.2->trafilatura) (2022.7.1)\n",
            "Requirement already satisfied: six>=1.5 in /usr/local/lib/python3.9/dist-packages (from python-dateutil>=2.8.2->htmldate>=1.4.2->trafilatura) (1.16.0)\n",
            "Requirement already satisfied: pytz-deprecation-shim in /usr/local/lib/python3.9/dist-packages (from tzlocal->dateparser>=1.1.2->htmldate>=1.4.2->trafilatura) (0.1.0.post0)\n",
            "Requirement already satisfied: tzdata in /usr/local/lib/python3.9/dist-packages (from pytz-deprecation-shim->tzlocal->dateparser>=1.1.2->htmldate>=1.4.2->trafilatura) (2023.3)\n",
            "Installing collected packages: charset-normalizer\n",
            "  Attempting uninstall: charset-normalizer\n",
            "    Found existing installation: charset-normalizer 2.0.12\n",
            "    Uninstalling charset-normalizer-2.0.12:\n",
            "      Successfully uninstalled charset-normalizer-2.0.12\n",
            "\u001b[31mERROR: pip's dependency resolver does not currently take into account all the packages that are installed. This behaviour is the source of the following dependency conflicts.\n",
            "requests 2.27.1 requires charset-normalizer~=2.0.0; python_version >= \"3\", but you have charset-normalizer 3.1.0 which is incompatible.\u001b[0m\u001b[31m\n",
            "\u001b[0mSuccessfully installed charset-normalizer-3.1.0\n"
          ]
        }
      ],
      "source": [
        "! pip install trafilatura "
      ]
    },
    {
      "cell_type": "code",
      "execution_count": null,
      "metadata": {
        "id": "i6ZPQD5hdair"
      },
      "outputs": [],
      "source": [
        "from transformers import AutoTokenizer, AutoModel\n",
        "\n",
        "#model_ckpt = \"sentence-transformers/multi-qa-mpnet-base-dot-v1\"\n",
        "model_ckpt = \"sentence-transformers/distilbert-base-nli-stsb-mean-tokens\"\n",
        "tokenizer = AutoTokenizer.from_pretrained(model_ckpt)\n",
        "model = AutoModel.from_pretrained(model_ckpt)\n",
        "     \n",
        "def cls_pooling(model_output):\n",
        "    return model_output.last_hidden_state[:, 0]\n",
        "  \n",
        "def get_embeddings(text_list):\n",
        "    encoded_input = tokenizer(\n",
        "        text_list, padding=True, truncation=True, return_tensors=\"pt\"\n",
        "    )\n",
        "    #encoded_input = {k: v.to(device) for k, v in encoded_input.items()}\n",
        "    model_output = model(**encoded_input)\n",
        "    return cls_pooling(model_output)"
      ]
    },
    {
      "cell_type": "code",
      "execution_count": null,
      "metadata": {
        "id": "IotaFk-0X7ap"
      },
      "outputs": [],
      "source": [
        "import pandas as pd\n",
        "\n",
        "df=pd.read_csv('Test Links.csv')\n",
        "df=df['Link']"
      ]
    },
    {
      "cell_type": "markdown",
      "source": [
        "Loading Dataset for getting just the title."
      ],
      "metadata": {
        "id": "pmBFVwvi7czw"
      }
    },
    {
      "cell_type": "code",
      "source": [
        "import pandas as pd\n",
        "\n",
        "title_dataset=pd.read_csv('ExtractedText.csv')\n",
        "title_dataset=title_dataset[['DocumentID','Title']]\n",
        "final_title_dataset = pd.DataFrame(columns=['DocID','Title'])"
      ],
      "metadata": {
        "id": "-CWJclPR6o5k"
      },
      "execution_count": null,
      "outputs": []
    },
    {
      "cell_type": "code",
      "source": [
        "\n",
        "# drop duplicates and create new dataframe\n",
        "title_dataset = title_dataset.drop_duplicates(subset=['DocumentID', 'Title'])\n",
        "\n",
        "print(title_dataset[title_dataset['DocumentID']==4]['Title'].values[0])"
      ],
      "metadata": {
        "colab": {
          "base_uri": "https://localhost:8080/"
        },
        "id": "6rWj687gAwpi",
        "outputId": "df09fb9e-7a02-41a1-959c-d44927158b9b"
      },
      "execution_count": null,
      "outputs": [
        {
          "output_type": "stream",
          "name": "stdout",
          "text": [
            "Ending Homework Battles | Psychology Today\n"
          ]
        }
      ]
    },
    {
      "cell_type": "code",
      "execution_count": null,
      "metadata": {
        "colab": {
          "base_uri": "https://localhost:8080/"
        },
        "id": "yMB9MUK2mB0m",
        "outputId": "ba88e49b-fa3d-4920-ef25-ecec185d9297"
      },
      "outputs": [
        {
          "output_type": "execute_result",
          "data": {
            "text/plain": [
              "200"
            ]
          },
          "metadata": {},
          "execution_count": 105
        }
      ],
      "source": [
        "df.shape[0]"
      ]
    },
    {
      "cell_type": "code",
      "execution_count": null,
      "metadata": {
        "id": "KjfetLgleoKC"
      },
      "outputs": [],
      "source": [
        "from datasets import load_dataset,Dataset\n",
        "\n",
        "doc_Df = pd.DataFrame(columns=['Title','DocID','URL','Embeddings'])\n",
        "Dataset_doc_Df=Dataset.from_pandas(doc_Df)"
      ]
    },
    {
      "cell_type": "code",
      "execution_count": null,
      "metadata": {
        "colab": {
          "base_uri": "https://localhost:8080/"
        },
        "id": "DchHwNMeo7Se",
        "outputId": "3596d732-aeea-473b-f1b8-4ed24dbddd68"
      },
      "outputs": [
        {
          "output_type": "stream",
          "name": "stdout",
          "text": [
            "Empty DataFrame\n",
            "Columns: [Title, DocID, URL, Embeddings]\n",
            "Index: []\n"
          ]
        }
      ],
      "source": [
        "print(doc_Df)"
      ]
    },
    {
      "cell_type": "code",
      "execution_count": null,
      "metadata": {
        "id": "KHghlILAYwtm"
      },
      "outputs": [],
      "source": [
        "import trafilatura\n",
        "# url='https://www.psychologytoday.com/us/basics/child-development'\n",
        "\n",
        "for i,url in enumerate(df):\n",
        "  t=trafilatura.fetch_url(url)\n",
        "  text=trafilatura.extract(t)\n",
        "  # doc_Df['DocID'][i]=i\n",
        "  # doc_Df['URL'][i]=link\n",
        "  # doc_Df['Embeddings'][i]=get_embeddings(text)\n",
        "  doc_Df.loc[i]=[title_dataset[title_dataset['DocumentID']==i]['Title'].values[0],i,url,get_embeddings(text).detach().cpu().numpy()[0]]\n"
      ]
    },
    {
      "cell_type": "code",
      "source": [
        "doc_Df"
      ],
      "metadata": {
        "id": "ncLjZHvPJTs8",
        "outputId": "bfe6be27-f908-4576-8cb3-ea0fd2102643",
        "colab": {
          "base_uri": "https://localhost:8080/",
          "height": 423
        }
      },
      "execution_count": null,
      "outputs": [
        {
          "output_type": "execute_result",
          "data": {
            "text/plain": [
              "                                                 Title  DocID  \\\n",
              "0                 Child Development | Psychology Today      0   \n",
              "1       Parenting a Child with ADHD | Psychology Today      1   \n",
              "2          Raising an Adopted Child | Psychology Today      2   \n",
              "3     Parenting a Child with Autism | Psychology Today      3   \n",
              "4           Ending Homework Battles | Psychology Today      4   \n",
              "..                                                 ...    ...   \n",
              "195  My Kid's Toddler Tantrums Are Getting Out of H...    195   \n",
              "196  10 Ways to Make Feeding Your Toddler 10 Times ...    196   \n",
              "197              Separation and Social Anxiety in Kids    197   \n",
              "198                  How Much Does My Kid Need to Eat?    198   \n",
              "199      8 Things to Do With Your Placenta After Birth    199   \n",
              "\n",
              "                                                   URL  \\\n",
              "0    https://www.mother.ly/life/motherly-stories/ki...   \n",
              "1    https://www.mother.ly/life/motherly-stories/ki...   \n",
              "2    https://www.mother.ly/life/motherly-stories/ki...   \n",
              "3    https://www.mother.ly/life/motherly-stories/ki...   \n",
              "4    https://www.mother.ly/life/motherly-stories/ki...   \n",
              "..                                                 ...   \n",
              "195  https://www.mother.ly/life/motherly-stories/ki...   \n",
              "196  https://www.mother.ly/life/motherly-stories/ki...   \n",
              "197  https://www.mother.ly/life/motherly-stories/ki...   \n",
              "198  https://www.mother.ly/life/motherly-stories/ki...   \n",
              "199  https://www.mother.ly/life/motherly-stories/ki...   \n",
              "\n",
              "                                            Embeddings  \n",
              "0    [0.2803007, 0.23809318, -0.19282328, -0.159848...  \n",
              "1    [-0.057591643, 0.2632406, 0.36278155, 0.245281...  \n",
              "2    [0.30209792, -0.043051302, -0.1418182, -0.2052...  \n",
              "3    [-0.030700075, 0.390369, 0.41788584, -0.278411...  \n",
              "4    [0.26746687, 0.18432264, -0.11905984, 0.089509...  \n",
              "..                                                 ...  \n",
              "195  [0.17019387, -0.038686477, 0.18198003, -0.1769...  \n",
              "196  [0.4790843, 0.36725512, -0.06070934, -0.125382...  \n",
              "197  [0.097834304, -0.50916183, 0.33884814, -0.6288...  \n",
              "198  [0.9504991, 0.4124903, 0.634642, -0.18082817, ...  \n",
              "199  [0.5487868, -0.37285843, 0.6230989, -0.5215451...  \n",
              "\n",
              "[200 rows x 4 columns]"
            ],
            "text/html": [
              "\n",
              "  <div id=\"df-f0e104a8-e54e-4090-a554-c1c328cf1544\">\n",
              "    <div class=\"colab-df-container\">\n",
              "      <div>\n",
              "<style scoped>\n",
              "    .dataframe tbody tr th:only-of-type {\n",
              "        vertical-align: middle;\n",
              "    }\n",
              "\n",
              "    .dataframe tbody tr th {\n",
              "        vertical-align: top;\n",
              "    }\n",
              "\n",
              "    .dataframe thead th {\n",
              "        text-align: right;\n",
              "    }\n",
              "</style>\n",
              "<table border=\"1\" class=\"dataframe\">\n",
              "  <thead>\n",
              "    <tr style=\"text-align: right;\">\n",
              "      <th></th>\n",
              "      <th>Title</th>\n",
              "      <th>DocID</th>\n",
              "      <th>URL</th>\n",
              "      <th>Embeddings</th>\n",
              "    </tr>\n",
              "  </thead>\n",
              "  <tbody>\n",
              "    <tr>\n",
              "      <th>0</th>\n",
              "      <td>Child Development | Psychology Today</td>\n",
              "      <td>0</td>\n",
              "      <td>https://www.mother.ly/life/motherly-stories/ki...</td>\n",
              "      <td>[0.2803007, 0.23809318, -0.19282328, -0.159848...</td>\n",
              "    </tr>\n",
              "    <tr>\n",
              "      <th>1</th>\n",
              "      <td>Parenting a Child with ADHD | Psychology Today</td>\n",
              "      <td>1</td>\n",
              "      <td>https://www.mother.ly/life/motherly-stories/ki...</td>\n",
              "      <td>[-0.057591643, 0.2632406, 0.36278155, 0.245281...</td>\n",
              "    </tr>\n",
              "    <tr>\n",
              "      <th>2</th>\n",
              "      <td>Raising an Adopted Child | Psychology Today</td>\n",
              "      <td>2</td>\n",
              "      <td>https://www.mother.ly/life/motherly-stories/ki...</td>\n",
              "      <td>[0.30209792, -0.043051302, -0.1418182, -0.2052...</td>\n",
              "    </tr>\n",
              "    <tr>\n",
              "      <th>3</th>\n",
              "      <td>Parenting a Child with Autism | Psychology Today</td>\n",
              "      <td>3</td>\n",
              "      <td>https://www.mother.ly/life/motherly-stories/ki...</td>\n",
              "      <td>[-0.030700075, 0.390369, 0.41788584, -0.278411...</td>\n",
              "    </tr>\n",
              "    <tr>\n",
              "      <th>4</th>\n",
              "      <td>Ending Homework Battles | Psychology Today</td>\n",
              "      <td>4</td>\n",
              "      <td>https://www.mother.ly/life/motherly-stories/ki...</td>\n",
              "      <td>[0.26746687, 0.18432264, -0.11905984, 0.089509...</td>\n",
              "    </tr>\n",
              "    <tr>\n",
              "      <th>...</th>\n",
              "      <td>...</td>\n",
              "      <td>...</td>\n",
              "      <td>...</td>\n",
              "      <td>...</td>\n",
              "    </tr>\n",
              "    <tr>\n",
              "      <th>195</th>\n",
              "      <td>My Kid's Toddler Tantrums Are Getting Out of H...</td>\n",
              "      <td>195</td>\n",
              "      <td>https://www.mother.ly/life/motherly-stories/ki...</td>\n",
              "      <td>[0.17019387, -0.038686477, 0.18198003, -0.1769...</td>\n",
              "    </tr>\n",
              "    <tr>\n",
              "      <th>196</th>\n",
              "      <td>10 Ways to Make Feeding Your Toddler 10 Times ...</td>\n",
              "      <td>196</td>\n",
              "      <td>https://www.mother.ly/life/motherly-stories/ki...</td>\n",
              "      <td>[0.4790843, 0.36725512, -0.06070934, -0.125382...</td>\n",
              "    </tr>\n",
              "    <tr>\n",
              "      <th>197</th>\n",
              "      <td>Separation and Social Anxiety in Kids</td>\n",
              "      <td>197</td>\n",
              "      <td>https://www.mother.ly/life/motherly-stories/ki...</td>\n",
              "      <td>[0.097834304, -0.50916183, 0.33884814, -0.6288...</td>\n",
              "    </tr>\n",
              "    <tr>\n",
              "      <th>198</th>\n",
              "      <td>How Much Does My Kid Need to Eat?</td>\n",
              "      <td>198</td>\n",
              "      <td>https://www.mother.ly/life/motherly-stories/ki...</td>\n",
              "      <td>[0.9504991, 0.4124903, 0.634642, -0.18082817, ...</td>\n",
              "    </tr>\n",
              "    <tr>\n",
              "      <th>199</th>\n",
              "      <td>8 Things to Do With Your Placenta After Birth</td>\n",
              "      <td>199</td>\n",
              "      <td>https://www.mother.ly/life/motherly-stories/ki...</td>\n",
              "      <td>[0.5487868, -0.37285843, 0.6230989, -0.5215451...</td>\n",
              "    </tr>\n",
              "  </tbody>\n",
              "</table>\n",
              "<p>200 rows × 4 columns</p>\n",
              "</div>\n",
              "      <button class=\"colab-df-convert\" onclick=\"convertToInteractive('df-f0e104a8-e54e-4090-a554-c1c328cf1544')\"\n",
              "              title=\"Convert this dataframe to an interactive table.\"\n",
              "              style=\"display:none;\">\n",
              "        \n",
              "  <svg xmlns=\"http://www.w3.org/2000/svg\" height=\"24px\"viewBox=\"0 0 24 24\"\n",
              "       width=\"24px\">\n",
              "    <path d=\"M0 0h24v24H0V0z\" fill=\"none\"/>\n",
              "    <path d=\"M18.56 5.44l.94 2.06.94-2.06 2.06-.94-2.06-.94-.94-2.06-.94 2.06-2.06.94zm-11 1L8.5 8.5l.94-2.06 2.06-.94-2.06-.94L8.5 2.5l-.94 2.06-2.06.94zm10 10l.94 2.06.94-2.06 2.06-.94-2.06-.94-.94-2.06-.94 2.06-2.06.94z\"/><path d=\"M17.41 7.96l-1.37-1.37c-.4-.4-.92-.59-1.43-.59-.52 0-1.04.2-1.43.59L10.3 9.45l-7.72 7.72c-.78.78-.78 2.05 0 2.83L4 21.41c.39.39.9.59 1.41.59.51 0 1.02-.2 1.41-.59l7.78-7.78 2.81-2.81c.8-.78.8-2.07 0-2.86zM5.41 20L4 18.59l7.72-7.72 1.47 1.35L5.41 20z\"/>\n",
              "  </svg>\n",
              "      </button>\n",
              "      \n",
              "  <style>\n",
              "    .colab-df-container {\n",
              "      display:flex;\n",
              "      flex-wrap:wrap;\n",
              "      gap: 12px;\n",
              "    }\n",
              "\n",
              "    .colab-df-convert {\n",
              "      background-color: #E8F0FE;\n",
              "      border: none;\n",
              "      border-radius: 50%;\n",
              "      cursor: pointer;\n",
              "      display: none;\n",
              "      fill: #1967D2;\n",
              "      height: 32px;\n",
              "      padding: 0 0 0 0;\n",
              "      width: 32px;\n",
              "    }\n",
              "\n",
              "    .colab-df-convert:hover {\n",
              "      background-color: #E2EBFA;\n",
              "      box-shadow: 0px 1px 2px rgba(60, 64, 67, 0.3), 0px 1px 3px 1px rgba(60, 64, 67, 0.15);\n",
              "      fill: #174EA6;\n",
              "    }\n",
              "\n",
              "    [theme=dark] .colab-df-convert {\n",
              "      background-color: #3B4455;\n",
              "      fill: #D2E3FC;\n",
              "    }\n",
              "\n",
              "    [theme=dark] .colab-df-convert:hover {\n",
              "      background-color: #434B5C;\n",
              "      box-shadow: 0px 1px 3px 1px rgba(0, 0, 0, 0.15);\n",
              "      filter: drop-shadow(0px 1px 2px rgba(0, 0, 0, 0.3));\n",
              "      fill: #FFFFFF;\n",
              "    }\n",
              "  </style>\n",
              "\n",
              "      <script>\n",
              "        const buttonEl =\n",
              "          document.querySelector('#df-f0e104a8-e54e-4090-a554-c1c328cf1544 button.colab-df-convert');\n",
              "        buttonEl.style.display =\n",
              "          google.colab.kernel.accessAllowed ? 'block' : 'none';\n",
              "\n",
              "        async function convertToInteractive(key) {\n",
              "          const element = document.querySelector('#df-f0e104a8-e54e-4090-a554-c1c328cf1544');\n",
              "          const dataTable =\n",
              "            await google.colab.kernel.invokeFunction('convertToInteractive',\n",
              "                                                     [key], {});\n",
              "          if (!dataTable) return;\n",
              "\n",
              "          const docLinkHtml = 'Like what you see? Visit the ' +\n",
              "            '<a target=\"_blank\" href=https://colab.research.google.com/notebooks/data_table.ipynb>data table notebook</a>'\n",
              "            + ' to learn more about interactive tables.';\n",
              "          element.innerHTML = '';\n",
              "          dataTable['output_type'] = 'display_data';\n",
              "          await google.colab.output.renderOutput(dataTable, element);\n",
              "          const docLink = document.createElement('div');\n",
              "          docLink.innerHTML = docLinkHtml;\n",
              "          element.appendChild(docLink);\n",
              "        }\n",
              "      </script>\n",
              "    </div>\n",
              "  </div>\n",
              "  "
            ]
          },
          "metadata": {},
          "execution_count": 118
        }
      ]
    },
    {
      "cell_type": "code",
      "execution_count": null,
      "metadata": {
        "id": "MshLJPWEjW8Y"
      },
      "outputs": [],
      "source": [
        "doc_Df.to_csv('CompleteMainText.csv')"
      ]
    },
    {
      "cell_type": "code",
      "execution_count": null,
      "metadata": {
        "colab": {
          "base_uri": "https://localhost:8080/"
        },
        "id": "Pp_bp40WUq-a",
        "outputId": "4cf1ab59-abc8-41a8-9b76-0442c2b57813"
      },
      "outputs": [
        {
          "output_type": "execute_result",
          "data": {
            "text/plain": [
              "Dataset({\n",
              "    features: ['Title', 'DocID', 'URL', 'Embeddings'],\n",
              "    num_rows: 200\n",
              "})"
            ]
          },
          "metadata": {},
          "execution_count": 112
        }
      ],
      "source": [
        "embeddings_dataset = Dataset.from_pandas(doc_Df)\n",
        "embeddings_dataset=embeddings_dataset.remove_columns('__index_level_0__')\n",
        "embeddings_dataset"
      ]
    },
    {
      "cell_type": "code",
      "execution_count": null,
      "metadata": {
        "colab": {
          "base_uri": "https://localhost:8080/",
          "height": 121,
          "referenced_widgets": [
            "4e30fe597d3f44c4bfd432e1db5903a6",
            "acb220ff0d7a4efa8e6ce477001c745f",
            "e32af7e02c1d4e4cace7423cb113d4c3",
            "d6c51389113f4401a0c6b4eb4681ecae",
            "67e64b9dcb9949fd9017ffa5e85022cc",
            "d713433ab29349638527e44ee6624a58",
            "c76c74bed924442d936c760ede4734e3",
            "f40cae09ef9f4cb0adf2d4a689fd82b8",
            "43b1f90d19d94140b364a016d38d0862",
            "542204f3173c4a8c87b92f311e4e4400",
            "f567ba484c1447d9a89be8f698f6b0ea"
          ]
        },
        "id": "S2uzr46grxp_",
        "outputId": "b8feaef5-0f7d-4bfd-a7e5-2e71a142390c"
      },
      "outputs": [
        {
          "output_type": "display_data",
          "data": {
            "text/plain": [
              "  0%|          | 0/1 [00:00<?, ?it/s]"
            ],
            "application/vnd.jupyter.widget-view+json": {
              "version_major": 2,
              "version_minor": 0,
              "model_id": "4e30fe597d3f44c4bfd432e1db5903a6"
            }
          },
          "metadata": {}
        },
        {
          "output_type": "execute_result",
          "data": {
            "text/plain": [
              "Dataset({\n",
              "    features: ['Title', 'DocID', 'URL', 'Embeddings'],\n",
              "    num_rows: 200\n",
              "})"
            ]
          },
          "metadata": {},
          "execution_count": 113
        }
      ],
      "source": [
        "embeddings_dataset.add_faiss_index(column=\"Embeddings\")\n"
      ]
    },
    {
      "cell_type": "code",
      "execution_count": null,
      "metadata": {
        "id": "mgqFxLLprzYT"
      },
      "outputs": [],
      "source": [
        "# loading library\n",
        "import pickle\n",
        "# create an iterator object with write permission - model.pkl\n",
        "with open('Distillbert_DocumentLevel_pkl', 'wb') as files:\n",
        "    pickle.dump(embeddings_dataset, files)\n",
        "\n",
        "# We will save/send this file to the Data Base."
      ]
    },
    {
      "cell_type": "code",
      "execution_count": null,
      "metadata": {
        "id": "pbVJQ-dRsHJ2"
      },
      "outputs": [],
      "source": []
    }
  ],
  "metadata": {
    "colab": {
      "provenance": []
    },
    "kernelspec": {
      "display_name": "Python 3",
      "name": "python3"
    },
    "language_info": {
      "name": "python"
    },
    "widgets": {
      "application/vnd.jupyter.widget-state+json": {
        "4e30fe597d3f44c4bfd432e1db5903a6": {
          "model_module": "@jupyter-widgets/controls",
          "model_name": "HBoxModel",
          "model_module_version": "1.5.0",
          "state": {
            "_dom_classes": [],
            "_model_module": "@jupyter-widgets/controls",
            "_model_module_version": "1.5.0",
            "_model_name": "HBoxModel",
            "_view_count": null,
            "_view_module": "@jupyter-widgets/controls",
            "_view_module_version": "1.5.0",
            "_view_name": "HBoxView",
            "box_style": "",
            "children": [
              "IPY_MODEL_acb220ff0d7a4efa8e6ce477001c745f",
              "IPY_MODEL_e32af7e02c1d4e4cace7423cb113d4c3",
              "IPY_MODEL_d6c51389113f4401a0c6b4eb4681ecae"
            ],
            "layout": "IPY_MODEL_67e64b9dcb9949fd9017ffa5e85022cc"
          }
        },
        "acb220ff0d7a4efa8e6ce477001c745f": {
          "model_module": "@jupyter-widgets/controls",
          "model_name": "HTMLModel",
          "model_module_version": "1.5.0",
          "state": {
            "_dom_classes": [],
            "_model_module": "@jupyter-widgets/controls",
            "_model_module_version": "1.5.0",
            "_model_name": "HTMLModel",
            "_view_count": null,
            "_view_module": "@jupyter-widgets/controls",
            "_view_module_version": "1.5.0",
            "_view_name": "HTMLView",
            "description": "",
            "description_tooltip": null,
            "layout": "IPY_MODEL_d713433ab29349638527e44ee6624a58",
            "placeholder": "​",
            "style": "IPY_MODEL_c76c74bed924442d936c760ede4734e3",
            "value": "100%"
          }
        },
        "e32af7e02c1d4e4cace7423cb113d4c3": {
          "model_module": "@jupyter-widgets/controls",
          "model_name": "FloatProgressModel",
          "model_module_version": "1.5.0",
          "state": {
            "_dom_classes": [],
            "_model_module": "@jupyter-widgets/controls",
            "_model_module_version": "1.5.0",
            "_model_name": "FloatProgressModel",
            "_view_count": null,
            "_view_module": "@jupyter-widgets/controls",
            "_view_module_version": "1.5.0",
            "_view_name": "ProgressView",
            "bar_style": "success",
            "description": "",
            "description_tooltip": null,
            "layout": "IPY_MODEL_f40cae09ef9f4cb0adf2d4a689fd82b8",
            "max": 1,
            "min": 0,
            "orientation": "horizontal",
            "style": "IPY_MODEL_43b1f90d19d94140b364a016d38d0862",
            "value": 1
          }
        },
        "d6c51389113f4401a0c6b4eb4681ecae": {
          "model_module": "@jupyter-widgets/controls",
          "model_name": "HTMLModel",
          "model_module_version": "1.5.0",
          "state": {
            "_dom_classes": [],
            "_model_module": "@jupyter-widgets/controls",
            "_model_module_version": "1.5.0",
            "_model_name": "HTMLModel",
            "_view_count": null,
            "_view_module": "@jupyter-widgets/controls",
            "_view_module_version": "1.5.0",
            "_view_name": "HTMLView",
            "description": "",
            "description_tooltip": null,
            "layout": "IPY_MODEL_542204f3173c4a8c87b92f311e4e4400",
            "placeholder": "​",
            "style": "IPY_MODEL_f567ba484c1447d9a89be8f698f6b0ea",
            "value": " 1/1 [00:00&lt;00:00, 28.87it/s]"
          }
        },
        "67e64b9dcb9949fd9017ffa5e85022cc": {
          "model_module": "@jupyter-widgets/base",
          "model_name": "LayoutModel",
          "model_module_version": "1.2.0",
          "state": {
            "_model_module": "@jupyter-widgets/base",
            "_model_module_version": "1.2.0",
            "_model_name": "LayoutModel",
            "_view_count": null,
            "_view_module": "@jupyter-widgets/base",
            "_view_module_version": "1.2.0",
            "_view_name": "LayoutView",
            "align_content": null,
            "align_items": null,
            "align_self": null,
            "border": null,
            "bottom": null,
            "display": null,
            "flex": null,
            "flex_flow": null,
            "grid_area": null,
            "grid_auto_columns": null,
            "grid_auto_flow": null,
            "grid_auto_rows": null,
            "grid_column": null,
            "grid_gap": null,
            "grid_row": null,
            "grid_template_areas": null,
            "grid_template_columns": null,
            "grid_template_rows": null,
            "height": null,
            "justify_content": null,
            "justify_items": null,
            "left": null,
            "margin": null,
            "max_height": null,
            "max_width": null,
            "min_height": null,
            "min_width": null,
            "object_fit": null,
            "object_position": null,
            "order": null,
            "overflow": null,
            "overflow_x": null,
            "overflow_y": null,
            "padding": null,
            "right": null,
            "top": null,
            "visibility": null,
            "width": null
          }
        },
        "d713433ab29349638527e44ee6624a58": {
          "model_module": "@jupyter-widgets/base",
          "model_name": "LayoutModel",
          "model_module_version": "1.2.0",
          "state": {
            "_model_module": "@jupyter-widgets/base",
            "_model_module_version": "1.2.0",
            "_model_name": "LayoutModel",
            "_view_count": null,
            "_view_module": "@jupyter-widgets/base",
            "_view_module_version": "1.2.0",
            "_view_name": "LayoutView",
            "align_content": null,
            "align_items": null,
            "align_self": null,
            "border": null,
            "bottom": null,
            "display": null,
            "flex": null,
            "flex_flow": null,
            "grid_area": null,
            "grid_auto_columns": null,
            "grid_auto_flow": null,
            "grid_auto_rows": null,
            "grid_column": null,
            "grid_gap": null,
            "grid_row": null,
            "grid_template_areas": null,
            "grid_template_columns": null,
            "grid_template_rows": null,
            "height": null,
            "justify_content": null,
            "justify_items": null,
            "left": null,
            "margin": null,
            "max_height": null,
            "max_width": null,
            "min_height": null,
            "min_width": null,
            "object_fit": null,
            "object_position": null,
            "order": null,
            "overflow": null,
            "overflow_x": null,
            "overflow_y": null,
            "padding": null,
            "right": null,
            "top": null,
            "visibility": null,
            "width": null
          }
        },
        "c76c74bed924442d936c760ede4734e3": {
          "model_module": "@jupyter-widgets/controls",
          "model_name": "DescriptionStyleModel",
          "model_module_version": "1.5.0",
          "state": {
            "_model_module": "@jupyter-widgets/controls",
            "_model_module_version": "1.5.0",
            "_model_name": "DescriptionStyleModel",
            "_view_count": null,
            "_view_module": "@jupyter-widgets/base",
            "_view_module_version": "1.2.0",
            "_view_name": "StyleView",
            "description_width": ""
          }
        },
        "f40cae09ef9f4cb0adf2d4a689fd82b8": {
          "model_module": "@jupyter-widgets/base",
          "model_name": "LayoutModel",
          "model_module_version": "1.2.0",
          "state": {
            "_model_module": "@jupyter-widgets/base",
            "_model_module_version": "1.2.0",
            "_model_name": "LayoutModel",
            "_view_count": null,
            "_view_module": "@jupyter-widgets/base",
            "_view_module_version": "1.2.0",
            "_view_name": "LayoutView",
            "align_content": null,
            "align_items": null,
            "align_self": null,
            "border": null,
            "bottom": null,
            "display": null,
            "flex": null,
            "flex_flow": null,
            "grid_area": null,
            "grid_auto_columns": null,
            "grid_auto_flow": null,
            "grid_auto_rows": null,
            "grid_column": null,
            "grid_gap": null,
            "grid_row": null,
            "grid_template_areas": null,
            "grid_template_columns": null,
            "grid_template_rows": null,
            "height": null,
            "justify_content": null,
            "justify_items": null,
            "left": null,
            "margin": null,
            "max_height": null,
            "max_width": null,
            "min_height": null,
            "min_width": null,
            "object_fit": null,
            "object_position": null,
            "order": null,
            "overflow": null,
            "overflow_x": null,
            "overflow_y": null,
            "padding": null,
            "right": null,
            "top": null,
            "visibility": null,
            "width": null
          }
        },
        "43b1f90d19d94140b364a016d38d0862": {
          "model_module": "@jupyter-widgets/controls",
          "model_name": "ProgressStyleModel",
          "model_module_version": "1.5.0",
          "state": {
            "_model_module": "@jupyter-widgets/controls",
            "_model_module_version": "1.5.0",
            "_model_name": "ProgressStyleModel",
            "_view_count": null,
            "_view_module": "@jupyter-widgets/base",
            "_view_module_version": "1.2.0",
            "_view_name": "StyleView",
            "bar_color": null,
            "description_width": ""
          }
        },
        "542204f3173c4a8c87b92f311e4e4400": {
          "model_module": "@jupyter-widgets/base",
          "model_name": "LayoutModel",
          "model_module_version": "1.2.0",
          "state": {
            "_model_module": "@jupyter-widgets/base",
            "_model_module_version": "1.2.0",
            "_model_name": "LayoutModel",
            "_view_count": null,
            "_view_module": "@jupyter-widgets/base",
            "_view_module_version": "1.2.0",
            "_view_name": "LayoutView",
            "align_content": null,
            "align_items": null,
            "align_self": null,
            "border": null,
            "bottom": null,
            "display": null,
            "flex": null,
            "flex_flow": null,
            "grid_area": null,
            "grid_auto_columns": null,
            "grid_auto_flow": null,
            "grid_auto_rows": null,
            "grid_column": null,
            "grid_gap": null,
            "grid_row": null,
            "grid_template_areas": null,
            "grid_template_columns": null,
            "grid_template_rows": null,
            "height": null,
            "justify_content": null,
            "justify_items": null,
            "left": null,
            "margin": null,
            "max_height": null,
            "max_width": null,
            "min_height": null,
            "min_width": null,
            "object_fit": null,
            "object_position": null,
            "order": null,
            "overflow": null,
            "overflow_x": null,
            "overflow_y": null,
            "padding": null,
            "right": null,
            "top": null,
            "visibility": null,
            "width": null
          }
        },
        "f567ba484c1447d9a89be8f698f6b0ea": {
          "model_module": "@jupyter-widgets/controls",
          "model_name": "DescriptionStyleModel",
          "model_module_version": "1.5.0",
          "state": {
            "_model_module": "@jupyter-widgets/controls",
            "_model_module_version": "1.5.0",
            "_model_name": "DescriptionStyleModel",
            "_view_count": null,
            "_view_module": "@jupyter-widgets/base",
            "_view_module_version": "1.2.0",
            "_view_name": "StyleView",
            "description_width": ""
          }
        }
      }
    }
  },
  "nbformat": 4,
  "nbformat_minor": 0
}