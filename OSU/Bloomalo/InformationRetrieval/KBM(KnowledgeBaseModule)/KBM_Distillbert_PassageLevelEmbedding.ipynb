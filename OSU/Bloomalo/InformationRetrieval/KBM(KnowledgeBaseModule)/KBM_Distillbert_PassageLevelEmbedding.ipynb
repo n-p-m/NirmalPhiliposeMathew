{
  "cells": [
    {
      "cell_type": "markdown",
      "id": "61af065b",
      "metadata": {
        "id": "61af065b"
      },
      "source": [
        "Passing URL's to the KBM module, here we have text file which has the URL's we need to extract text from. "
      ]
    },
    {
      "cell_type": "code",
      "execution_count": null,
      "id": "8d98c45d",
      "metadata": {
        "id": "8d98c45d",
        "colab": {
          "base_uri": "https://localhost:8080/",
          "height": 204
        },
        "outputId": "d835ec6a-9774-4ea8-bb46-35b4893bf1d8"
      },
      "outputs": [
        {
          "output_type": "error",
          "ename": "FileNotFoundError",
          "evalue": "ignored",
          "traceback": [
            "\u001b[0;31m---------------------------------------------------------------------------\u001b[0m",
            "\u001b[0;31mFileNotFoundError\u001b[0m                         Traceback (most recent call last)",
            "\u001b[0;32m<ipython-input-27-e293dec7b6e9>\u001b[0m in \u001b[0;36m<module>\u001b[0;34m\u001b[0m\n\u001b[1;32m      1\u001b[0m \u001b[0;31m#We can pass in external links for source of URL's\u001b[0m\u001b[0;34m\u001b[0m\u001b[0;34m\u001b[0m\u001b[0;34m\u001b[0m\u001b[0m\n\u001b[0;32m----> 2\u001b[0;31m \u001b[0;32mwith\u001b[0m \u001b[0mopen\u001b[0m\u001b[0;34m(\u001b[0m\u001b[0;34m'Final_Clean_URL_List.txt'\u001b[0m\u001b[0;34m)\u001b[0m \u001b[0;32mas\u001b[0m \u001b[0mf\u001b[0m\u001b[0;34m:\u001b[0m\u001b[0;34m\u001b[0m\u001b[0;34m\u001b[0m\u001b[0m\n\u001b[0m\u001b[1;32m      3\u001b[0m     \u001b[0mlines\u001b[0m \u001b[0;34m=\u001b[0m \u001b[0mf\u001b[0m\u001b[0;34m.\u001b[0m\u001b[0mreadlines\u001b[0m\u001b[0;34m(\u001b[0m\u001b[0;34m)\u001b[0m\u001b[0;34m\u001b[0m\u001b[0;34m\u001b[0m\u001b[0m\n",
            "\u001b[0;31mFileNotFoundError\u001b[0m: [Errno 2] No such file or directory: 'Final_Clean_URL_List.txt'"
          ]
        }
      ],
      "source": [
        "#We can pass in external links for source of URL's\n",
        "with open('Final_Clean_URL_List.txt') as f:\n",
        "    lines = f.readlines()"
      ]
    },
    {
      "cell_type": "markdown",
      "id": "047fac9c",
      "metadata": {
        "id": "047fac9c"
      },
      "source": [
        "Defining Text extracting function which will convert text into CSV format"
      ]
    },
    {
      "cell_type": "code",
      "execution_count": null,
      "id": "6b749aef",
      "metadata": {
        "id": "6b749aef"
      },
      "outputs": [],
      "source": [
        "import csv\n",
        "\n",
        "def extract_text(text):\n",
        "    lines = text.split(\"\\n\")\n",
        "    title_subtitle = lines[0] + \", \" + lines[1]\n",
        "    headings = []\n",
        "    paragraphs = []\n",
        "    heading = \"\"\n",
        "    paragraph = \"\"\n",
        "    for line in lines[2:]:\n",
        "        if line.startswith(\"H\"):\n",
        "            if heading:\n",
        "                headings.append(heading)\n",
        "            heading = line[3:]\n",
        "            if paragraph:\n",
        "                paragraphs.append(paragraph)\n",
        "            paragraph = \"\"\n",
        "        else:\n",
        "            paragraph += line + \" \"\n",
        "    headings.append(heading)\n",
        "    paragraphs.append(paragraph)\n",
        "    return [(title_subtitle, h, p) for h, p in zip(headings, paragraphs)]\n",
        "\n",
        "with open('ExtractedText.csv', mode='a', newline='') as file:\n",
        "    writer = csv.writer(file)\n",
        "    writer.writerow(['DocumentID', 'PassageID', 'Title', 'Subheading', 'Paragraph','URL'])\n",
        "\n",
        "def store_output_in_csv(text,i,url):\n",
        "    data = extract_text(text)\n",
        "    with open('ExtractedText.csv', mode='a', newline='') as file:\n",
        "        writer = csv.writer(file)\n",
        "        DocumentID = i\n",
        "        PassageID = 1\n",
        "        for item in data:\n",
        "            Title = item[0].split(\",\")[0][7:]\n",
        "            Subheading = item[1]\n",
        "            Paragraph = item[2][3:]\n",
        "            writer.writerow([DocumentID, PassageID, Title, Subheading, Paragraph,url])\n",
        "            PassageID += 1\n",
        "\n",
        "# convertion_csverror_list=[]            \n",
        "# for i in range(89):\n",
        "#     try:\n",
        "#         with open(\"%d\"%(i), \"r\", encoding=\"utf8\") as f:         \n",
        "#             text = f.read()\n",
        "#             f1=open(\"{}_url\".format(i),\"r\")\n",
        "#             url=f1.read()\n",
        "#             store_output_in_csv(text,i,url)\n",
        "#     except:\n",
        "#         convertion_csverror_list.append(i)"
      ]
    },
    {
      "cell_type": "markdown",
      "id": "7e2b3186",
      "metadata": {
        "id": "7e2b3186"
      },
      "source": [
        "Below we are extracting all the text from the URL's and converting it into CSV format by calling *store_output_in_csv(text,i,url)*"
      ]
    },
    {
      "cell_type": "code",
      "execution_count": null,
      "id": "a21014b1",
      "metadata": {
        "id": "a21014b1",
        "outputId": "ecf8d637-6cd7-4dee-9dd1-42e06777cdc7"
      },
      "outputs": [
        {
          "name": "stdout",
          "output_type": "stream",
          "text": [
            "END\n"
          ]
        }
      ],
      "source": [
        "import requests\n",
        "from bs4 import BeautifulSoup\n",
        "\n",
        "def get_data(url):\n",
        "    r = requests.get(url, headers={'User-Agent': 'Mozilla/5.0'})\n",
        "    return r.text\n",
        "\n",
        "final_text_BS4=[]\n",
        "\n",
        "with open('Final_Clean_URL_List.txt') as f:\n",
        "    lines = f.readlines()\n",
        "\n",
        "# test_url= [\"https://kidshealth.org/en/parents/adhd-therapy.html#catlearning\",\n",
        "# \"https://kidshealth.org/en/parents/ocd.html#catbehavior\",\n",
        "# \"https://www.parents.com/toddlers-preschoolers/discipline/tips/7-tips-for-disciplining-your-toddler/\",\n",
        "# \"https://www.parents.com/toddlers-preschoolers/discipline/tantrum/a-parents-guide-to-temper-tantrums/\",\n",
        "# \"https://www.webmd.com/children/guide/anxiety-disorders-in-children#091e9c5e80e5f208-1-3\",\n",
        "# \"https://www.webmd.com/parenting/guide/preventing-temper-tantrums-in-children\",\n",
        "# \"https://www.webmd.com/parenting/guide/7-secrets-of-toddler-discipline#1\"]\n",
        "\n",
        "for i,url in enumerate(test_url):\n",
        "    html_data = get_data(url)\n",
        "    soup = BeautifulSoup(html_data, 'html.parser')\n",
        "\n",
        "    try:\n",
        "        title = soup.find(\"title\").get_text()\n",
        "        subtitle = soup.find(\"h1\").get_text()\n",
        "\n",
        "        #data = \"Title: \" + title + \"\\nSubtitle: \" + subtitle\n",
        "        data=\"Title: \" + title + \"\\nSubtitle: \" + subtitle\n",
        "        seen=False\n",
        "\n",
        "        for element in soup.find_all([\"p\", \"h2\", \"h3\",\"li\",\"h4\",\"h1\"]):\n",
        "            temp=element.get_text()\n",
        "            if temp.count('\\n')<2:\n",
        "                if element.name in [\"h1\",\"h2\",\"h3\",\"h4\"]:\n",
        "                    head=element.get_text()\n",
        "\n",
        "                    #if element.name == \"li\":\n",
        "                        #data += \"\\n-LIST- \" + element.get_text()+ \"####\"\n",
        "                    data+=\"H: \"+head+\"\\n\"\n",
        "                    seen=True\n",
        "\n",
        "                else:\n",
        "                    if seen:\n",
        "                        #if element.name in [\"nav\"]:\n",
        "                        body=element.get_text()\n",
        "                                #data += \"\\n-LIST- \" + element.get_text()+ \"####\"\n",
        "                                #data += \"\\n MAINCONTENT\" + element.name.capitalize() + \": \" + element.get_text()\n",
        "                        data+=\"P: \"+body+\"\\n\"\n",
        "        \n",
        "        store_output_in_csv(text,i,url)\n",
        "        # with open(\"{}\".format(i), \"w\",encoding=\"utf-8\") as fp:\n",
        "        #     fp.write(''.join(data))\n",
        "        # with open(\"{}_url\".format(i), \"w\",encoding=\"utf-8\") as fp1:\n",
        "        #     fp1.write(''.join(url))\n",
        "        # #final_text_BS4.append(data)\n",
        "        \n",
        "        #Getting the URL's that are working\n",
        "        with open(\"{}_url\".format(i), \"w\",encoding=\"utf-8\") as fp1:\n",
        "            fp1.write(''.join(url))\n",
        "    \n",
        "    except:\n",
        "        # with open(\"!{}\".format(i), \"w\",encoding=\"utf-8\") as fp:\n",
        "        #     fp.write('{}'.format(\"Failed\"))\n",
        "        # Getting the URL's that are not working\n",
        "        with open(\"!{}_url\".format(i), \"w\",encoding=\"utf-8\") as fp1:\n",
        "            fp1.write(''.join(url))\n",
        "        \n",
        "\n",
        "\"\"\"for i in range(len(final_text_BS4)):\n",
        "    with open(\"{}\".format(i), \"w\",encoding=\"utf-8\") as fp:\n",
        "        fp.write(''.join(final_text_BS4[i]))\n",
        "    # list of names\n",
        "\"\"\"\n",
        "\n",
        "\n",
        "\"\"\"\n",
        "try:\n",
        "    html_data = get_data(url)\n",
        "    soup = BeautifulSoup(html_data, 'html.parser')\n",
        "\n",
        "    #title = soup.find(\"title\").get_text()\n",
        "    #subtitle = soup.find(\"h1\").get_text()\n",
        "\n",
        "    #data = \"Title: \" + title + \"\\nSubtitle: \" + subtitle\n",
        "\n",
        "    for element in soup.find_all([\"p\", \"h2\", \"h3\",\"li\"]):\n",
        "        temp=element.get_text()\n",
        "        if temp.count('\\n')<2:\n",
        "            if element.name in [\"h1\",\"h2\",\"h3\",\"h4\"]:\n",
        "                head=element.get_text()\n",
        "            #if element.name == \"li\":\n",
        "                #data += \"\\n-LIST- \" + element.get_text()+ \"####\"\n",
        "            else:\n",
        "                body=element.get_text()\n",
        "                #data += \"\\n-LIST- \" + element.get_text()+ \"####\"\n",
        "                #data += \"\\n MAINCONTENT\" + element.name.capitalize() + \": \" + element.get_text()\n",
        "        print(head)\n",
        "        print(body)\n",
        "    test_1.append(data)\n",
        "    print(test_1)\n",
        "    \n",
        "except:\n",
        "    #final_text_BS4.append(\"Failed\")\n",
        "    #print(\"{}\".format(k))\n",
        "    print(\"FAILED\")\"\"\"\n",
        "#printing out END to ensure that the complete code is executed\n",
        "print(\"END\")"
      ]
    },
    {
      "cell_type": "markdown",
      "id": "07be643c",
      "metadata": {
        "id": "07be643c"
      },
      "source": [
        "Here we are performing the embeddinngs on the text we have in CSV. "
      ]
    },
    {
      "cell_type": "code",
      "execution_count": null,
      "id": "b06f1518",
      "metadata": {
        "colab": {
          "base_uri": "https://localhost:8080/"
        },
        "id": "b06f1518",
        "outputId": "1f3fbfec-4045-4e1c-8905-62a2d2ed5294"
      },
      "outputs": [
        {
          "output_type": "stream",
          "name": "stdout",
          "text": [
            "Looking in indexes: https://pypi.org/simple, https://us-python.pkg.dev/colab-wheels/public/simple/\n",
            "Requirement already satisfied: datasets in /usr/local/lib/python3.8/dist-packages (2.10.1)\n",
            "Requirement already satisfied: evaluate in /usr/local/lib/python3.8/dist-packages (0.4.0)\n",
            "Requirement already satisfied: transformers[sentencepiece] in /usr/local/lib/python3.8/dist-packages (4.26.1)\n",
            "Requirement already satisfied: pandas in /usr/local/lib/python3.8/dist-packages (from datasets) (1.3.5)\n",
            "Requirement already satisfied: dill<0.3.7,>=0.3.0 in /usr/local/lib/python3.8/dist-packages (from datasets) (0.3.6)\n",
            "Requirement already satisfied: fsspec[http]>=2021.11.1 in /usr/local/lib/python3.8/dist-packages (from datasets) (2023.1.0)\n",
            "Requirement already satisfied: multiprocess in /usr/local/lib/python3.8/dist-packages (from datasets) (0.70.14)\n",
            "Requirement already satisfied: aiohttp in /usr/local/lib/python3.8/dist-packages (from datasets) (3.8.4)\n",
            "Requirement already satisfied: tqdm>=4.62.1 in /usr/local/lib/python3.8/dist-packages (from datasets) (4.64.1)\n",
            "Requirement already satisfied: xxhash in /usr/local/lib/python3.8/dist-packages (from datasets) (3.2.0)\n",
            "Requirement already satisfied: packaging in /usr/local/lib/python3.8/dist-packages (from datasets) (23.0)\n",
            "Requirement already satisfied: pyarrow>=6.0.0 in /usr/local/lib/python3.8/dist-packages (from datasets) (9.0.0)\n",
            "Requirement already satisfied: responses<0.19 in /usr/local/lib/python3.8/dist-packages (from datasets) (0.18.0)\n",
            "Requirement already satisfied: requests>=2.19.0 in /usr/local/lib/python3.8/dist-packages (from datasets) (2.25.1)\n",
            "Requirement already satisfied: pyyaml>=5.1 in /usr/local/lib/python3.8/dist-packages (from datasets) (6.0)\n",
            "Requirement already satisfied: huggingface-hub<1.0.0,>=0.2.0 in /usr/local/lib/python3.8/dist-packages (from datasets) (0.12.1)\n",
            "Requirement already satisfied: numpy>=1.17 in /usr/local/lib/python3.8/dist-packages (from datasets) (1.22.4)\n",
            "Requirement already satisfied: tokenizers!=0.11.3,<0.14,>=0.11.1 in /usr/local/lib/python3.8/dist-packages (from transformers[sentencepiece]) (0.13.2)\n",
            "Requirement already satisfied: regex!=2019.12.17 in /usr/local/lib/python3.8/dist-packages (from transformers[sentencepiece]) (2022.6.2)\n",
            "Requirement already satisfied: filelock in /usr/local/lib/python3.8/dist-packages (from transformers[sentencepiece]) (3.9.0)\n",
            "Requirement already satisfied: protobuf<=3.20.2 in /usr/local/lib/python3.8/dist-packages (from transformers[sentencepiece]) (3.19.6)\n",
            "Requirement already satisfied: sentencepiece!=0.1.92,>=0.1.91 in /usr/local/lib/python3.8/dist-packages (from transformers[sentencepiece]) (0.1.97)\n",
            "Requirement already satisfied: multidict<7.0,>=4.5 in /usr/local/lib/python3.8/dist-packages (from aiohttp->datasets) (6.0.4)\n",
            "Requirement already satisfied: charset-normalizer<4.0,>=2.0 in /usr/local/lib/python3.8/dist-packages (from aiohttp->datasets) (3.0.1)\n",
            "Requirement already satisfied: aiosignal>=1.1.2 in /usr/local/lib/python3.8/dist-packages (from aiohttp->datasets) (1.3.1)\n",
            "Requirement already satisfied: attrs>=17.3.0 in /usr/local/lib/python3.8/dist-packages (from aiohttp->datasets) (22.2.0)\n",
            "Requirement already satisfied: frozenlist>=1.1.1 in /usr/local/lib/python3.8/dist-packages (from aiohttp->datasets) (1.3.3)\n",
            "Requirement already satisfied: yarl<2.0,>=1.0 in /usr/local/lib/python3.8/dist-packages (from aiohttp->datasets) (1.8.2)\n",
            "Requirement already satisfied: async-timeout<5.0,>=4.0.0a3 in /usr/local/lib/python3.8/dist-packages (from aiohttp->datasets) (4.0.2)\n",
            "Requirement already satisfied: typing-extensions>=3.7.4.3 in /usr/local/lib/python3.8/dist-packages (from huggingface-hub<1.0.0,>=0.2.0->datasets) (4.5.0)\n",
            "Requirement already satisfied: idna<3,>=2.5 in /usr/local/lib/python3.8/dist-packages (from requests>=2.19.0->datasets) (2.10)\n",
            "Requirement already satisfied: urllib3<1.27,>=1.21.1 in /usr/local/lib/python3.8/dist-packages (from requests>=2.19.0->datasets) (1.26.14)\n",
            "Requirement already satisfied: chardet<5,>=3.0.2 in /usr/local/lib/python3.8/dist-packages (from requests>=2.19.0->datasets) (4.0.0)\n",
            "Requirement already satisfied: certifi>=2017.4.17 in /usr/local/lib/python3.8/dist-packages (from requests>=2.19.0->datasets) (2022.12.7)\n",
            "Requirement already satisfied: python-dateutil>=2.7.3 in /usr/local/lib/python3.8/dist-packages (from pandas->datasets) (2.8.2)\n",
            "Requirement already satisfied: pytz>=2017.3 in /usr/local/lib/python3.8/dist-packages (from pandas->datasets) (2022.7.1)\n",
            "Requirement already satisfied: six>=1.5 in /usr/local/lib/python3.8/dist-packages (from python-dateutil>=2.7.3->pandas->datasets) (1.15.0)\n",
            "Looking in indexes: https://pypi.org/simple, https://us-python.pkg.dev/colab-wheels/public/simple/\n",
            "Requirement already satisfied: faiss-gpu in /usr/local/lib/python3.8/dist-packages (1.7.2)\n"
          ]
        }
      ],
      "source": [
        "!pip install datasets evaluate transformers[sentencepiece]\n",
        "!pip install faiss-gpu"
      ]
    },
    {
      "cell_type": "code",
      "execution_count": null,
      "id": "2b9ae838",
      "metadata": {
        "colab": {
          "base_uri": "https://localhost:8080/"
        },
        "id": "2b9ae838",
        "outputId": "4f4ef1a9-6ed4-40bd-ad5c-5b7bbb5bac9e"
      },
      "outputs": [
        {
          "output_type": "stream",
          "name": "stderr",
          "text": [
            "WARNING:datasets.builder:Found cached dataset csv (/root/.cache/huggingface/datasets/csv/default-82c3b023df615ef0/0.0.0/6b34fb8fcf56f7c8ba51dc895bfa2bfbe43546f190a60fcf74bb5e8afdcc2317)\n"
          ]
        },
        {
          "output_type": "execute_result",
          "data": {
            "text/plain": [
              "Dataset({\n",
              "    features: ['DocumentID', 'PassageID', 'Title', 'Subheading', 'Paragraph', 'URL'],\n",
              "    num_rows: 478\n",
              "})"
            ]
          },
          "metadata": {},
          "execution_count": 48
        }
      ],
      "source": [
        "from datasets import load_dataset\n",
        "issues_dataset = load_dataset(\"csv\", data_files=\"ExtractedText.csv\",encoding='cp1252',split=\"train\")\n",
        "issues_dataset"
      ]
    },
    {
      "cell_type": "code",
      "execution_count": null,
      "id": "7d5ecf9e",
      "metadata": {
        "colab": {
          "base_uri": "https://localhost:8080/"
        },
        "id": "7d5ecf9e",
        "outputId": "c10e90ea-c370-4a61-bfde-76207aae0b73"
      },
      "outputs": [
        {
          "output_type": "execute_result",
          "data": {
            "text/plain": [
              "Dataset({\n",
              "    features: ['DocumentID', 'PassageID', 'Title', 'Subheading', 'Paragraph', 'URL'],\n",
              "    num_rows: 478\n",
              "})"
            ]
          },
          "metadata": {},
          "execution_count": 49
        }
      ],
      "source": [
        "columns = issues_dataset.column_names\n",
        "columns_to_keep = ['DocumentID', 'PassageID', 'Title', 'Subheading', 'Paragraph','URL']\n",
        "columns_to_remove = set(columns_to_keep).symmetric_difference(columns)\n",
        "issues_dataset = issues_dataset.remove_columns(columns_to_remove)\n",
        "issues_dataset"
      ]
    },
    {
      "cell_type": "code",
      "execution_count": null,
      "id": "1780e2e4",
      "metadata": {
        "colab": {
          "base_uri": "https://localhost:8080/",
          "height": 815
        },
        "id": "1780e2e4",
        "outputId": "a3c90875-9436-454f-ef2c-ebceb10c1e48"
      },
      "outputs": [
        {
          "output_type": "execute_result",
          "data": {
            "text/plain": [
              "     DocumentID  PassageID                                              Title  \\\n",
              "0             0          1  Anxiety Disorders  (for Parents) - Nemours Kid...   \n",
              "1             0          2  Anxiety Disorders  (for Parents) - Nemours Kid...   \n",
              "2             0          3  Anxiety Disorders  (for Parents) - Nemours Kid...   \n",
              "3             0          4  Anxiety Disorders  (for Parents) - Nemours Kid...   \n",
              "4             0          5  Anxiety Disorders  (for Parents) - Nemours Kid...   \n",
              "..          ...        ...                                                ...   \n",
              "473          88         13  23 Mom-Tested Ways to Manage a Tantrum - Motherly   \n",
              "474          88         14  23 Mom-Tested Ways to Manage a Tantrum - Motherly   \n",
              "475          88         15  23 Mom-Tested Ways to Manage a Tantrum - Motherly   \n",
              "476          88         16  23 Mom-Tested Ways to Manage a Tantrum - Motherly   \n",
              "477          88         17  23 Mom-Tested Ways to Manage a Tantrum - Motherly   \n",
              "\n",
              "                                            Subheading  \\\n",
              "0                          What Are Anxiety Disorders?   \n",
              "1             What Are the Kinds of Anxiety Disorders?   \n",
              "2            What Are the Signs & Symptoms of Anxiety?   \n",
              "3                       What Causes Anxiety Disorders?   \n",
              "4                 How Are Anxiety Disorders Diagnosed?   \n",
              "..                                                 ...   \n",
              "473                                 Toddler Milestones   \n",
              "474                                   Viral & Trending   \n",
              "475                                 Toddler Milestones   \n",
              "476  We believe in creating a world in which all mo...   \n",
              "477                                            Connect   \n",
              "\n",
              "                                             Paragraph  \\\n",
              "0    Anxiety disorders cause extreme fear and worry...   \n",
              "1    Different anxiety disorders can affect kids an...   \n",
              "2    A parent or teacher may see signs that a child...   \n",
              "3    Several things play a role in causing the over...   \n",
              "4    Anxiety disorders can be diagnosed by a traine...   \n",
              "..                                                 ...   \n",
              "473  20. “We blow bubbles to calm [them] down and r...   \n",
              "474  21. “I’ve learned it’s different for each chil...   \n",
              "475                             Related Stories          \n",
              "476  Contact Us P: Advertise with Us P: Share Your ...   \n",
              "477  Our Story P: Diversity Commitment P: Careers A...   \n",
              "\n",
              "                                                   URL  \n",
              "0    https://kidshealth.org/en/parents/anxiety-diso...  \n",
              "1    https://kidshealth.org/en/parents/anxiety-diso...  \n",
              "2    https://kidshealth.org/en/parents/anxiety-diso...  \n",
              "3    https://kidshealth.org/en/parents/anxiety-diso...  \n",
              "4    https://kidshealth.org/en/parents/anxiety-diso...  \n",
              "..                                                 ...  \n",
              "473  https://www.mother.ly/toddler/toddler-mileston...  \n",
              "474  https://www.mother.ly/toddler/toddler-mileston...  \n",
              "475  https://www.mother.ly/toddler/toddler-mileston...  \n",
              "476  https://www.mother.ly/toddler/toddler-mileston...  \n",
              "477  https://www.mother.ly/toddler/toddler-mileston...  \n",
              "\n",
              "[478 rows x 6 columns]"
            ],
            "text/html": [
              "\n",
              "  <div id=\"df-ec08ef7d-0f07-4d9f-90f1-be5b1ed41bf8\">\n",
              "    <div class=\"colab-df-container\">\n",
              "      <div>\n",
              "<style scoped>\n",
              "    .dataframe tbody tr th:only-of-type {\n",
              "        vertical-align: middle;\n",
              "    }\n",
              "\n",
              "    .dataframe tbody tr th {\n",
              "        vertical-align: top;\n",
              "    }\n",
              "\n",
              "    .dataframe thead th {\n",
              "        text-align: right;\n",
              "    }\n",
              "</style>\n",
              "<table border=\"1\" class=\"dataframe\">\n",
              "  <thead>\n",
              "    <tr style=\"text-align: right;\">\n",
              "      <th></th>\n",
              "      <th>DocumentID</th>\n",
              "      <th>PassageID</th>\n",
              "      <th>Title</th>\n",
              "      <th>Subheading</th>\n",
              "      <th>Paragraph</th>\n",
              "      <th>URL</th>\n",
              "    </tr>\n",
              "  </thead>\n",
              "  <tbody>\n",
              "    <tr>\n",
              "      <th>0</th>\n",
              "      <td>0</td>\n",
              "      <td>1</td>\n",
              "      <td>Anxiety Disorders  (for Parents) - Nemours Kid...</td>\n",
              "      <td>What Are Anxiety Disorders?</td>\n",
              "      <td>Anxiety disorders cause extreme fear and worry...</td>\n",
              "      <td>https://kidshealth.org/en/parents/anxiety-diso...</td>\n",
              "    </tr>\n",
              "    <tr>\n",
              "      <th>1</th>\n",
              "      <td>0</td>\n",
              "      <td>2</td>\n",
              "      <td>Anxiety Disorders  (for Parents) - Nemours Kid...</td>\n",
              "      <td>What Are the Kinds of Anxiety Disorders?</td>\n",
              "      <td>Different anxiety disorders can affect kids an...</td>\n",
              "      <td>https://kidshealth.org/en/parents/anxiety-diso...</td>\n",
              "    </tr>\n",
              "    <tr>\n",
              "      <th>2</th>\n",
              "      <td>0</td>\n",
              "      <td>3</td>\n",
              "      <td>Anxiety Disorders  (for Parents) - Nemours Kid...</td>\n",
              "      <td>What Are the Signs &amp; Symptoms of Anxiety?</td>\n",
              "      <td>A parent or teacher may see signs that a child...</td>\n",
              "      <td>https://kidshealth.org/en/parents/anxiety-diso...</td>\n",
              "    </tr>\n",
              "    <tr>\n",
              "      <th>3</th>\n",
              "      <td>0</td>\n",
              "      <td>4</td>\n",
              "      <td>Anxiety Disorders  (for Parents) - Nemours Kid...</td>\n",
              "      <td>What Causes Anxiety Disorders?</td>\n",
              "      <td>Several things play a role in causing the over...</td>\n",
              "      <td>https://kidshealth.org/en/parents/anxiety-diso...</td>\n",
              "    </tr>\n",
              "    <tr>\n",
              "      <th>4</th>\n",
              "      <td>0</td>\n",
              "      <td>5</td>\n",
              "      <td>Anxiety Disorders  (for Parents) - Nemours Kid...</td>\n",
              "      <td>How Are Anxiety Disorders Diagnosed?</td>\n",
              "      <td>Anxiety disorders can be diagnosed by a traine...</td>\n",
              "      <td>https://kidshealth.org/en/parents/anxiety-diso...</td>\n",
              "    </tr>\n",
              "    <tr>\n",
              "      <th>...</th>\n",
              "      <td>...</td>\n",
              "      <td>...</td>\n",
              "      <td>...</td>\n",
              "      <td>...</td>\n",
              "      <td>...</td>\n",
              "      <td>...</td>\n",
              "    </tr>\n",
              "    <tr>\n",
              "      <th>473</th>\n",
              "      <td>88</td>\n",
              "      <td>13</td>\n",
              "      <td>23 Mom-Tested Ways to Manage a Tantrum - Motherly</td>\n",
              "      <td>Toddler Milestones</td>\n",
              "      <td>20. “We blow bubbles to calm [them] down and r...</td>\n",
              "      <td>https://www.mother.ly/toddler/toddler-mileston...</td>\n",
              "    </tr>\n",
              "    <tr>\n",
              "      <th>474</th>\n",
              "      <td>88</td>\n",
              "      <td>14</td>\n",
              "      <td>23 Mom-Tested Ways to Manage a Tantrum - Motherly</td>\n",
              "      <td>Viral &amp; Trending</td>\n",
              "      <td>21. “I’ve learned it’s different for each chil...</td>\n",
              "      <td>https://www.mother.ly/toddler/toddler-mileston...</td>\n",
              "    </tr>\n",
              "    <tr>\n",
              "      <th>475</th>\n",
              "      <td>88</td>\n",
              "      <td>15</td>\n",
              "      <td>23 Mom-Tested Ways to Manage a Tantrum - Motherly</td>\n",
              "      <td>Toddler Milestones</td>\n",
              "      <td>Related Stories</td>\n",
              "      <td>https://www.mother.ly/toddler/toddler-mileston...</td>\n",
              "    </tr>\n",
              "    <tr>\n",
              "      <th>476</th>\n",
              "      <td>88</td>\n",
              "      <td>16</td>\n",
              "      <td>23 Mom-Tested Ways to Manage a Tantrum - Motherly</td>\n",
              "      <td>We believe in creating a world in which all mo...</td>\n",
              "      <td>Contact Us P: Advertise with Us P: Share Your ...</td>\n",
              "      <td>https://www.mother.ly/toddler/toddler-mileston...</td>\n",
              "    </tr>\n",
              "    <tr>\n",
              "      <th>477</th>\n",
              "      <td>88</td>\n",
              "      <td>17</td>\n",
              "      <td>23 Mom-Tested Ways to Manage a Tantrum - Motherly</td>\n",
              "      <td>Connect</td>\n",
              "      <td>Our Story P: Diversity Commitment P: Careers A...</td>\n",
              "      <td>https://www.mother.ly/toddler/toddler-mileston...</td>\n",
              "    </tr>\n",
              "  </tbody>\n",
              "</table>\n",
              "<p>478 rows × 6 columns</p>\n",
              "</div>\n",
              "      <button class=\"colab-df-convert\" onclick=\"convertToInteractive('df-ec08ef7d-0f07-4d9f-90f1-be5b1ed41bf8')\"\n",
              "              title=\"Convert this dataframe to an interactive table.\"\n",
              "              style=\"display:none;\">\n",
              "        \n",
              "  <svg xmlns=\"http://www.w3.org/2000/svg\" height=\"24px\"viewBox=\"0 0 24 24\"\n",
              "       width=\"24px\">\n",
              "    <path d=\"M0 0h24v24H0V0z\" fill=\"none\"/>\n",
              "    <path d=\"M18.56 5.44l.94 2.06.94-2.06 2.06-.94-2.06-.94-.94-2.06-.94 2.06-2.06.94zm-11 1L8.5 8.5l.94-2.06 2.06-.94-2.06-.94L8.5 2.5l-.94 2.06-2.06.94zm10 10l.94 2.06.94-2.06 2.06-.94-2.06-.94-.94-2.06-.94 2.06-2.06.94z\"/><path d=\"M17.41 7.96l-1.37-1.37c-.4-.4-.92-.59-1.43-.59-.52 0-1.04.2-1.43.59L10.3 9.45l-7.72 7.72c-.78.78-.78 2.05 0 2.83L4 21.41c.39.39.9.59 1.41.59.51 0 1.02-.2 1.41-.59l7.78-7.78 2.81-2.81c.8-.78.8-2.07 0-2.86zM5.41 20L4 18.59l7.72-7.72 1.47 1.35L5.41 20z\"/>\n",
              "  </svg>\n",
              "      </button>\n",
              "      \n",
              "  <style>\n",
              "    .colab-df-container {\n",
              "      display:flex;\n",
              "      flex-wrap:wrap;\n",
              "      gap: 12px;\n",
              "    }\n",
              "\n",
              "    .colab-df-convert {\n",
              "      background-color: #E8F0FE;\n",
              "      border: none;\n",
              "      border-radius: 50%;\n",
              "      cursor: pointer;\n",
              "      display: none;\n",
              "      fill: #1967D2;\n",
              "      height: 32px;\n",
              "      padding: 0 0 0 0;\n",
              "      width: 32px;\n",
              "    }\n",
              "\n",
              "    .colab-df-convert:hover {\n",
              "      background-color: #E2EBFA;\n",
              "      box-shadow: 0px 1px 2px rgba(60, 64, 67, 0.3), 0px 1px 3px 1px rgba(60, 64, 67, 0.15);\n",
              "      fill: #174EA6;\n",
              "    }\n",
              "\n",
              "    [theme=dark] .colab-df-convert {\n",
              "      background-color: #3B4455;\n",
              "      fill: #D2E3FC;\n",
              "    }\n",
              "\n",
              "    [theme=dark] .colab-df-convert:hover {\n",
              "      background-color: #434B5C;\n",
              "      box-shadow: 0px 1px 3px 1px rgba(0, 0, 0, 0.15);\n",
              "      filter: drop-shadow(0px 1px 2px rgba(0, 0, 0, 0.3));\n",
              "      fill: #FFFFFF;\n",
              "    }\n",
              "  </style>\n",
              "\n",
              "      <script>\n",
              "        const buttonEl =\n",
              "          document.querySelector('#df-ec08ef7d-0f07-4d9f-90f1-be5b1ed41bf8 button.colab-df-convert');\n",
              "        buttonEl.style.display =\n",
              "          google.colab.kernel.accessAllowed ? 'block' : 'none';\n",
              "\n",
              "        async function convertToInteractive(key) {\n",
              "          const element = document.querySelector('#df-ec08ef7d-0f07-4d9f-90f1-be5b1ed41bf8');\n",
              "          const dataTable =\n",
              "            await google.colab.kernel.invokeFunction('convertToInteractive',\n",
              "                                                     [key], {});\n",
              "          if (!dataTable) return;\n",
              "\n",
              "          const docLinkHtml = 'Like what you see? Visit the ' +\n",
              "            '<a target=\"_blank\" href=https://colab.research.google.com/notebooks/data_table.ipynb>data table notebook</a>'\n",
              "            + ' to learn more about interactive tables.';\n",
              "          element.innerHTML = '';\n",
              "          dataTable['output_type'] = 'display_data';\n",
              "          await google.colab.output.renderOutput(dataTable, element);\n",
              "          const docLink = document.createElement('div');\n",
              "          docLink.innerHTML = docLinkHtml;\n",
              "          element.appendChild(docLink);\n",
              "        }\n",
              "      </script>\n",
              "    </div>\n",
              "  </div>\n",
              "  "
            ]
          },
          "metadata": {},
          "execution_count": 50
        }
      ],
      "source": [
        "issues_dataset.set_format(\"pandas\")\n",
        "df = issues_dataset[:]\n",
        "df"
      ]
    },
    {
      "cell_type": "code",
      "execution_count": null,
      "id": "ba72971e",
      "metadata": {
        "colab": {
          "base_uri": "https://localhost:8080/",
          "height": 815
        },
        "id": "ba72971e",
        "outputId": "9c558440-888d-4a37-b64c-f1f9f8657664"
      },
      "outputs": [
        {
          "output_type": "execute_result",
          "data": {
            "text/plain": [
              "     DocumentID  PassageID                                              Title  \\\n",
              "1             0          2  Anxiety Disorders  (for Parents) - Nemours Kid...   \n",
              "2             0          3  Anxiety Disorders  (for Parents) - Nemours Kid...   \n",
              "3             0          4  Anxiety Disorders  (for Parents) - Nemours Kid...   \n",
              "4             0          5  Anxiety Disorders  (for Parents) - Nemours Kid...   \n",
              "5             0          6  Anxiety Disorders  (for Parents) - Nemours Kid...   \n",
              "..          ...        ...                                                ...   \n",
              "473          88         13  23 Mom-Tested Ways to Manage a Tantrum - Motherly   \n",
              "474          88         14  23 Mom-Tested Ways to Manage a Tantrum - Motherly   \n",
              "475          88         15  23 Mom-Tested Ways to Manage a Tantrum - Motherly   \n",
              "476          88         16  23 Mom-Tested Ways to Manage a Tantrum - Motherly   \n",
              "477          88         17  23 Mom-Tested Ways to Manage a Tantrum - Motherly   \n",
              "\n",
              "                                            Subheading  \\\n",
              "1             What Are the Kinds of Anxiety Disorders?   \n",
              "2            What Are the Signs & Symptoms of Anxiety?   \n",
              "3                       What Causes Anxiety Disorders?   \n",
              "4                 How Are Anxiety Disorders Diagnosed?   \n",
              "5                   How Are Anxiety Disorders Treated?   \n",
              "..                                                 ...   \n",
              "473                                 Toddler Milestones   \n",
              "474                                   Viral & Trending   \n",
              "475                                 Toddler Milestones   \n",
              "476  We believe in creating a world in which all mo...   \n",
              "477                                            Connect   \n",
              "\n",
              "                                             Paragraph  \\\n",
              "1    Different anxiety disorders can affect kids an...   \n",
              "2    A parent or teacher may see signs that a child...   \n",
              "3    Several things play a role in causing the over...   \n",
              "4    Anxiety disorders can be diagnosed by a traine...   \n",
              "5    Most often, anxiety disorders are treated with...   \n",
              "..                                                 ...   \n",
              "473  20. “We blow bubbles to calm [them] down and r...   \n",
              "474  21. “I’ve learned it’s different for each chil...   \n",
              "475                             Related Stories          \n",
              "476  Contact Us P: Advertise with Us P: Share Your ...   \n",
              "477  Our Story P: Diversity Commitment P: Careers A...   \n",
              "\n",
              "                                                   URL  \n",
              "1    https://kidshealth.org/en/parents/anxiety-diso...  \n",
              "2    https://kidshealth.org/en/parents/anxiety-diso...  \n",
              "3    https://kidshealth.org/en/parents/anxiety-diso...  \n",
              "4    https://kidshealth.org/en/parents/anxiety-diso...  \n",
              "5    https://kidshealth.org/en/parents/anxiety-diso...  \n",
              "..                                                 ...  \n",
              "473  https://www.mother.ly/toddler/toddler-mileston...  \n",
              "474  https://www.mother.ly/toddler/toddler-mileston...  \n",
              "475  https://www.mother.ly/toddler/toddler-mileston...  \n",
              "476  https://www.mother.ly/toddler/toddler-mileston...  \n",
              "477  https://www.mother.ly/toddler/toddler-mileston...  \n",
              "\n",
              "[472 rows x 6 columns]"
            ],
            "text/html": [
              "\n",
              "  <div id=\"df-ea38c465-f8f7-4427-b6b3-d6d0724dd827\">\n",
              "    <div class=\"colab-df-container\">\n",
              "      <div>\n",
              "<style scoped>\n",
              "    .dataframe tbody tr th:only-of-type {\n",
              "        vertical-align: middle;\n",
              "    }\n",
              "\n",
              "    .dataframe tbody tr th {\n",
              "        vertical-align: top;\n",
              "    }\n",
              "\n",
              "    .dataframe thead th {\n",
              "        text-align: right;\n",
              "    }\n",
              "</style>\n",
              "<table border=\"1\" class=\"dataframe\">\n",
              "  <thead>\n",
              "    <tr style=\"text-align: right;\">\n",
              "      <th></th>\n",
              "      <th>DocumentID</th>\n",
              "      <th>PassageID</th>\n",
              "      <th>Title</th>\n",
              "      <th>Subheading</th>\n",
              "      <th>Paragraph</th>\n",
              "      <th>URL</th>\n",
              "    </tr>\n",
              "  </thead>\n",
              "  <tbody>\n",
              "    <tr>\n",
              "      <th>1</th>\n",
              "      <td>0</td>\n",
              "      <td>2</td>\n",
              "      <td>Anxiety Disorders  (for Parents) - Nemours Kid...</td>\n",
              "      <td>What Are the Kinds of Anxiety Disorders?</td>\n",
              "      <td>Different anxiety disorders can affect kids an...</td>\n",
              "      <td>https://kidshealth.org/en/parents/anxiety-diso...</td>\n",
              "    </tr>\n",
              "    <tr>\n",
              "      <th>2</th>\n",
              "      <td>0</td>\n",
              "      <td>3</td>\n",
              "      <td>Anxiety Disorders  (for Parents) - Nemours Kid...</td>\n",
              "      <td>What Are the Signs &amp; Symptoms of Anxiety?</td>\n",
              "      <td>A parent or teacher may see signs that a child...</td>\n",
              "      <td>https://kidshealth.org/en/parents/anxiety-diso...</td>\n",
              "    </tr>\n",
              "    <tr>\n",
              "      <th>3</th>\n",
              "      <td>0</td>\n",
              "      <td>4</td>\n",
              "      <td>Anxiety Disorders  (for Parents) - Nemours Kid...</td>\n",
              "      <td>What Causes Anxiety Disorders?</td>\n",
              "      <td>Several things play a role in causing the over...</td>\n",
              "      <td>https://kidshealth.org/en/parents/anxiety-diso...</td>\n",
              "    </tr>\n",
              "    <tr>\n",
              "      <th>4</th>\n",
              "      <td>0</td>\n",
              "      <td>5</td>\n",
              "      <td>Anxiety Disorders  (for Parents) - Nemours Kid...</td>\n",
              "      <td>How Are Anxiety Disorders Diagnosed?</td>\n",
              "      <td>Anxiety disorders can be diagnosed by a traine...</td>\n",
              "      <td>https://kidshealth.org/en/parents/anxiety-diso...</td>\n",
              "    </tr>\n",
              "    <tr>\n",
              "      <th>5</th>\n",
              "      <td>0</td>\n",
              "      <td>6</td>\n",
              "      <td>Anxiety Disorders  (for Parents) - Nemours Kid...</td>\n",
              "      <td>How Are Anxiety Disorders Treated?</td>\n",
              "      <td>Most often, anxiety disorders are treated with...</td>\n",
              "      <td>https://kidshealth.org/en/parents/anxiety-diso...</td>\n",
              "    </tr>\n",
              "    <tr>\n",
              "      <th>...</th>\n",
              "      <td>...</td>\n",
              "      <td>...</td>\n",
              "      <td>...</td>\n",
              "      <td>...</td>\n",
              "      <td>...</td>\n",
              "      <td>...</td>\n",
              "    </tr>\n",
              "    <tr>\n",
              "      <th>473</th>\n",
              "      <td>88</td>\n",
              "      <td>13</td>\n",
              "      <td>23 Mom-Tested Ways to Manage a Tantrum - Motherly</td>\n",
              "      <td>Toddler Milestones</td>\n",
              "      <td>20. “We blow bubbles to calm [them] down and r...</td>\n",
              "      <td>https://www.mother.ly/toddler/toddler-mileston...</td>\n",
              "    </tr>\n",
              "    <tr>\n",
              "      <th>474</th>\n",
              "      <td>88</td>\n",
              "      <td>14</td>\n",
              "      <td>23 Mom-Tested Ways to Manage a Tantrum - Motherly</td>\n",
              "      <td>Viral &amp; Trending</td>\n",
              "      <td>21. “I’ve learned it’s different for each chil...</td>\n",
              "      <td>https://www.mother.ly/toddler/toddler-mileston...</td>\n",
              "    </tr>\n",
              "    <tr>\n",
              "      <th>475</th>\n",
              "      <td>88</td>\n",
              "      <td>15</td>\n",
              "      <td>23 Mom-Tested Ways to Manage a Tantrum - Motherly</td>\n",
              "      <td>Toddler Milestones</td>\n",
              "      <td>Related Stories</td>\n",
              "      <td>https://www.mother.ly/toddler/toddler-mileston...</td>\n",
              "    </tr>\n",
              "    <tr>\n",
              "      <th>476</th>\n",
              "      <td>88</td>\n",
              "      <td>16</td>\n",
              "      <td>23 Mom-Tested Ways to Manage a Tantrum - Motherly</td>\n",
              "      <td>We believe in creating a world in which all mo...</td>\n",
              "      <td>Contact Us P: Advertise with Us P: Share Your ...</td>\n",
              "      <td>https://www.mother.ly/toddler/toddler-mileston...</td>\n",
              "    </tr>\n",
              "    <tr>\n",
              "      <th>477</th>\n",
              "      <td>88</td>\n",
              "      <td>17</td>\n",
              "      <td>23 Mom-Tested Ways to Manage a Tantrum - Motherly</td>\n",
              "      <td>Connect</td>\n",
              "      <td>Our Story P: Diversity Commitment P: Careers A...</td>\n",
              "      <td>https://www.mother.ly/toddler/toddler-mileston...</td>\n",
              "    </tr>\n",
              "  </tbody>\n",
              "</table>\n",
              "<p>472 rows × 6 columns</p>\n",
              "</div>\n",
              "      <button class=\"colab-df-convert\" onclick=\"convertToInteractive('df-ea38c465-f8f7-4427-b6b3-d6d0724dd827')\"\n",
              "              title=\"Convert this dataframe to an interactive table.\"\n",
              "              style=\"display:none;\">\n",
              "        \n",
              "  <svg xmlns=\"http://www.w3.org/2000/svg\" height=\"24px\"viewBox=\"0 0 24 24\"\n",
              "       width=\"24px\">\n",
              "    <path d=\"M0 0h24v24H0V0z\" fill=\"none\"/>\n",
              "    <path d=\"M18.56 5.44l.94 2.06.94-2.06 2.06-.94-2.06-.94-.94-2.06-.94 2.06-2.06.94zm-11 1L8.5 8.5l.94-2.06 2.06-.94-2.06-.94L8.5 2.5l-.94 2.06-2.06.94zm10 10l.94 2.06.94-2.06 2.06-.94-2.06-.94-.94-2.06-.94 2.06-2.06.94z\"/><path d=\"M17.41 7.96l-1.37-1.37c-.4-.4-.92-.59-1.43-.59-.52 0-1.04.2-1.43.59L10.3 9.45l-7.72 7.72c-.78.78-.78 2.05 0 2.83L4 21.41c.39.39.9.59 1.41.59.51 0 1.02-.2 1.41-.59l7.78-7.78 2.81-2.81c.8-.78.8-2.07 0-2.86zM5.41 20L4 18.59l7.72-7.72 1.47 1.35L5.41 20z\"/>\n",
              "  </svg>\n",
              "      </button>\n",
              "      \n",
              "  <style>\n",
              "    .colab-df-container {\n",
              "      display:flex;\n",
              "      flex-wrap:wrap;\n",
              "      gap: 12px;\n",
              "    }\n",
              "\n",
              "    .colab-df-convert {\n",
              "      background-color: #E8F0FE;\n",
              "      border: none;\n",
              "      border-radius: 50%;\n",
              "      cursor: pointer;\n",
              "      display: none;\n",
              "      fill: #1967D2;\n",
              "      height: 32px;\n",
              "      padding: 0 0 0 0;\n",
              "      width: 32px;\n",
              "    }\n",
              "\n",
              "    .colab-df-convert:hover {\n",
              "      background-color: #E2EBFA;\n",
              "      box-shadow: 0px 1px 2px rgba(60, 64, 67, 0.3), 0px 1px 3px 1px rgba(60, 64, 67, 0.15);\n",
              "      fill: #174EA6;\n",
              "    }\n",
              "\n",
              "    [theme=dark] .colab-df-convert {\n",
              "      background-color: #3B4455;\n",
              "      fill: #D2E3FC;\n",
              "    }\n",
              "\n",
              "    [theme=dark] .colab-df-convert:hover {\n",
              "      background-color: #434B5C;\n",
              "      box-shadow: 0px 1px 3px 1px rgba(0, 0, 0, 0.15);\n",
              "      filter: drop-shadow(0px 1px 2px rgba(0, 0, 0, 0.3));\n",
              "      fill: #FFFFFF;\n",
              "    }\n",
              "  </style>\n",
              "\n",
              "      <script>\n",
              "        const buttonEl =\n",
              "          document.querySelector('#df-ea38c465-f8f7-4427-b6b3-d6d0724dd827 button.colab-df-convert');\n",
              "        buttonEl.style.display =\n",
              "          google.colab.kernel.accessAllowed ? 'block' : 'none';\n",
              "\n",
              "        async function convertToInteractive(key) {\n",
              "          const element = document.querySelector('#df-ea38c465-f8f7-4427-b6b3-d6d0724dd827');\n",
              "          const dataTable =\n",
              "            await google.colab.kernel.invokeFunction('convertToInteractive',\n",
              "                                                     [key], {});\n",
              "          if (!dataTable) return;\n",
              "\n",
              "          const docLinkHtml = 'Like what you see? Visit the ' +\n",
              "            '<a target=\"_blank\" href=https://colab.research.google.com/notebooks/data_table.ipynb>data table notebook</a>'\n",
              "            + ' to learn more about interactive tables.';\n",
              "          element.innerHTML = '';\n",
              "          dataTable['output_type'] = 'display_data';\n",
              "          await google.colab.output.renderOutput(dataTable, element);\n",
              "          const docLink = document.createElement('div');\n",
              "          docLink.innerHTML = docLinkHtml;\n",
              "          element.appendChild(docLink);\n",
              "        }\n",
              "      </script>\n",
              "    </div>\n",
              "  </div>\n",
              "  "
            ]
          },
          "metadata": {},
          "execution_count": 51
        }
      ],
      "source": [
        "#Rows that had issue, we delete them\n",
        "l=[0,37,215,249,257,258]\n",
        "df = df.drop(labels=l, axis=0)\n",
        "df\n"
      ]
    },
    {
      "cell_type": "code",
      "execution_count": null,
      "id": "6317e3d2",
      "metadata": {
        "colab": {
          "base_uri": "https://localhost:8080/"
        },
        "id": "6317e3d2",
        "outputId": "efba00db-cdf3-4ca0-e934-b8e1f2d930a8"
      },
      "outputs": [
        {
          "output_type": "execute_result",
          "data": {
            "text/plain": [
              "(472, 6)"
            ]
          },
          "metadata": {},
          "execution_count": 52
        }
      ],
      "source": [
        "df.shape"
      ]
    },
    {
      "cell_type": "code",
      "execution_count": null,
      "id": "4a6cec53",
      "metadata": {
        "colab": {
          "base_uri": "https://localhost:8080/"
        },
        "id": "4a6cec53",
        "outputId": "e33fdf53-c967-4856-ee9e-7b1ac56f7f67"
      },
      "outputs": [
        {
          "output_type": "execute_result",
          "data": {
            "text/plain": [
              "Dataset({\n",
              "    features: ['DocumentID', 'PassageID', 'Title', 'Subheading', 'Paragraph', 'URL', '__index_level_0__'],\n",
              "    num_rows: 472\n",
              "})"
            ]
          },
          "metadata": {},
          "execution_count": 53
        }
      ],
      "source": [
        "from datasets import Dataset\n",
        "\n",
        "comments_dataset = Dataset.from_pandas(df)\n",
        "comments_dataset"
      ]
    },
    {
      "cell_type": "code",
      "execution_count": null,
      "id": "2079beb3",
      "metadata": {
        "colab": {
          "base_uri": "https://localhost:8080/",
          "height": 17,
          "referenced_widgets": [
            "c782e03cab9a41898369957a110d2351",
            "49544fa1ec4043a0b5c4534e68e95334",
            "11e3cee5b76245ad9db6fe71269cea96",
            "37c3a1a31f054ef4bf14e8b1c0051efb",
            "972619a437044f689cefa18fc1ba385f",
            "4e1dc50b1cf74e98be76c2e507f9d422",
            "2c55b662ca4c414592ac1f83abc7986d",
            "0f74fecd523744a7a4f4b8afa2fa8631",
            "d89a2d9e44684b54a229fff0754ef556",
            "f40a1e8b3a1f48e8919e328e5a3a80cb",
            "2a24f72603da4675b2f090059232424f"
          ]
        },
        "id": "2079beb3",
        "outputId": "01a4c6e6-7945-4017-8345-c562dc41c0cb"
      },
      "outputs": [
        {
          "output_type": "display_data",
          "data": {
            "text/plain": [
              "Map:   0%|          | 0/472 [00:00<?, ? examples/s]"
            ],
            "application/vnd.jupyter.widget-view+json": {
              "version_major": 2,
              "version_minor": 0,
              "model_id": "c782e03cab9a41898369957a110d2351"
            }
          },
          "metadata": {}
        }
      ],
      "source": [
        "def concatenate_text(examples):\n",
        "    return {\n",
        "        \"text\": examples[\"Title\"]\n",
        "        + \" \\n \"\n",
        "        + examples[\"Subheading\"]\n",
        "        + \" \\n \"\n",
        "        + examples[\"Paragraph\"]\n",
        "    }\n",
        "\n",
        "\n",
        "comments_dataset = comments_dataset.map(concatenate_text)"
      ]
    },
    {
      "cell_type": "code",
      "execution_count": null,
      "id": "b933dc25",
      "metadata": {
        "colab": {
          "base_uri": "https://localhost:8080/"
        },
        "id": "b933dc25",
        "outputId": "372fd0b5-33a5-4041-d676-64158bcead52"
      },
      "outputs": [
        {
          "output_type": "execute_result",
          "data": {
            "text/plain": [
              "Dataset({\n",
              "    features: ['DocumentID', 'PassageID', 'Title', 'Subheading', 'Paragraph', 'URL', '__index_level_0__', 'text'],\n",
              "    num_rows: 472\n",
              "})"
            ]
          },
          "metadata": {},
          "execution_count": 55
        }
      ],
      "source": [
        "comments_dataset"
      ]
    },
    {
      "cell_type": "code",
      "execution_count": null,
      "id": "85011b71",
      "metadata": {
        "colab": {
          "base_uri": "https://localhost:8080/"
        },
        "id": "85011b71",
        "outputId": "3d4a12a1-0e3a-4fae-bccb-5f1e288f35cb"
      },
      "outputs": [
        {
          "output_type": "execute_result",
          "data": {
            "text/plain": [
              "Dataset({\n",
              "    features: ['Title', 'Subheading', 'Paragraph', 'URL', 'text'],\n",
              "    num_rows: 472\n",
              "})"
            ]
          },
          "metadata": {},
          "execution_count": 56
        }
      ],
      "source": [
        "columns = comments_dataset.column_names\n",
        "columns_to_keep = [\"Title\", \"Subheading\", \"Paragraph\",\"URL\",\"text\"]\n",
        "columns_to_remove = set(columns_to_keep).symmetric_difference(columns)\n",
        "comments_dataset = comments_dataset.remove_columns(columns_to_remove)\n",
        "comments_dataset"
      ]
    },
    {
      "cell_type": "code",
      "source": [
        "\n",
        "comments_dataset.set_format(\"pandas\")\n",
        "temp_df = comments_dataset[:]\n",
        "\n",
        "index_removal=[]\n",
        "for i in range(472):\n",
        "  temp_df['text'][i] = temp_df['text'][i].strip().replace(\"P:\",\"\")\n",
        "\n",
        "for i in range(472):\n",
        "  temp_df['Paragraph'][i] = temp_df['Paragraph'][i].strip().replace(\"P:\",\"\")\n",
        "  if len(temp_df['Paragraph'][i])<10:\n",
        "    index_removal.append(i)\n",
        "  "
      ],
      "metadata": {
        "id": "Wp0JEFc82w30"
      },
      "id": "Wp0JEFc82w30",
      "execution_count": null,
      "outputs": []
    },
    {
      "cell_type": "code",
      "source": [
        "temp_df = temp_df.drop(index_removal)\n",
        "temp_df.to_csv(\"CleanedText.csv\")\n",
        "\n"
      ],
      "metadata": {
        "id": "0FDXyvkVSJs9"
      },
      "id": "0FDXyvkVSJs9",
      "execution_count": null,
      "outputs": []
    },
    {
      "cell_type": "code",
      "source": [
        "comments_dataset = Dataset.from_pandas(temp_df)\n",
        "\n",
        "comments_dataset"
      ],
      "metadata": {
        "colab": {
          "base_uri": "https://localhost:8080/"
        },
        "id": "xAzfQqCxOt-w",
        "outputId": "2f988ce8-d669-4f95-c691-4ef5192cfa3d"
      },
      "id": "xAzfQqCxOt-w",
      "execution_count": null,
      "outputs": [
        {
          "output_type": "execute_result",
          "data": {
            "text/plain": [
              "Dataset({\n",
              "    features: ['Title', 'Subheading', 'Paragraph', 'URL', 'text', '__index_level_0__'],\n",
              "    num_rows: 457\n",
              "})"
            ]
          },
          "metadata": {},
          "execution_count": 59
        }
      ]
    },
    {
      "cell_type": "code",
      "source": [
        "columns = comments_dataset.column_names\n",
        "columns_to_keep = [\"Title\", \"Subheading\", \"Paragraph\",\"URL\",\"text\"]\n",
        "columns_to_remove = set(columns_to_keep).symmetric_difference(columns)\n",
        "comments_dataset = comments_dataset.remove_columns(columns_to_remove)\n",
        "comments_dataset"
      ],
      "metadata": {
        "colab": {
          "base_uri": "https://localhost:8080/"
        },
        "id": "NmCGSW5wrVNf",
        "outputId": "906644bc-724e-4c6a-a739-bd291198b2d3"
      },
      "id": "NmCGSW5wrVNf",
      "execution_count": null,
      "outputs": [
        {
          "output_type": "execute_result",
          "data": {
            "text/plain": [
              "Dataset({\n",
              "    features: ['Title', 'Subheading', 'Paragraph', 'URL', 'text'],\n",
              "    num_rows: 457\n",
              "})"
            ]
          },
          "metadata": {},
          "execution_count": 60
        }
      ]
    },
    {
      "cell_type": "code",
      "execution_count": null,
      "id": "f83e81b9",
      "metadata": {
        "id": "f83e81b9"
      },
      "outputs": [],
      "source": [
        "from transformers import AutoTokenizer, AutoModel\n",
        "\n",
        "#model_ckpt = \"sentence-transformers/multi-qa-mpnet-base-dot-v1\"\n",
        "model_ckpt = \"sentence-transformers/distilbert-base-nli-stsb-mean-tokens\"\n",
        "tokenizer = AutoTokenizer.from_pretrained(model_ckpt)\n",
        "model = AutoModel.from_pretrained(model_ckpt)\n",
        "     "
      ]
    },
    {
      "cell_type": "code",
      "execution_count": null,
      "id": "e24e5dad",
      "metadata": {
        "id": "e24e5dad"
      },
      "outputs": [],
      "source": [
        "def cls_pooling(model_output):\n",
        "    return model_output.last_hidden_state[:, 0]"
      ]
    },
    {
      "cell_type": "code",
      "execution_count": null,
      "id": "5af29730",
      "metadata": {
        "id": "5af29730"
      },
      "outputs": [],
      "source": [
        "def get_embeddings(text_list):\n",
        "    encoded_input = tokenizer(\n",
        "        text_list, padding=True, truncation=True, return_tensors=\"pt\"\n",
        "    )\n",
        "    #encoded_input = {k: v.to(device) for k, v in encoded_input.items()}\n",
        "    model_output = model(**encoded_input)\n",
        "    return cls_pooling(model_output)"
      ]
    },
    {
      "cell_type": "code",
      "execution_count": null,
      "id": "72fc4b85",
      "metadata": {
        "colab": {
          "base_uri": "https://localhost:8080/"
        },
        "id": "72fc4b85",
        "outputId": "9012a1c1-7e86-44cb-fa28-b45806e13b2a"
      },
      "outputs": [
        {
          "output_type": "execute_result",
          "data": {
            "text/plain": [
              "torch.Size([1, 768])"
            ]
          },
          "metadata": {},
          "execution_count": 64
        }
      ],
      "source": [
        "embedding = get_embeddings(comments_dataset[\"text\"][0])\n",
        "embedding.shape"
      ]
    },
    {
      "cell_type": "code",
      "execution_count": null,
      "id": "7fa3a671",
      "metadata": {
        "colab": {
          "base_uri": "https://localhost:8080/",
          "height": 35,
          "referenced_widgets": [
            "ad775c3b593044a3ad085b487a831dc7"
          ]
        },
        "id": "7fa3a671",
        "outputId": "b09b782a-4b65-485a-8f88-8ec5b2f85aa1"
      },
      "outputs": [
        {
          "data": {
            "application/vnd.jupyter.widget-view+json": {
              "model_id": "ad775c3b593044a3ad085b487a831dc7",
              "version_major": 2,
              "version_minor": 0
            },
            "text/plain": [
              "Map:   0%|          | 0/457 [00:00<?, ? examples/s]"
            ]
          },
          "metadata": {},
          "output_type": "display_data"
        }
      ],
      "source": [
        "embeddings_dataset = comments_dataset.map(\n",
        "    lambda x: {\"embeddings\": get_embeddings(x[\"text\"]).detach().cpu().numpy()[0]}\n",
        ")"
      ]
    },
    {
      "cell_type": "code",
      "execution_count": null,
      "id": "df0acbfc",
      "metadata": {
        "colab": {
          "base_uri": "https://localhost:8080/",
          "height": 120,
          "referenced_widgets": [
            "d6814ae3394e4975a29f3e669d59fffc",
            "ddb5d5f38a5f4f5e9a1e78ea3ebe0321",
            "5da5aa7f9f9f4a5bb7de7dba22958439",
            "dd310bfe1b094db8a3eb85c356cf3f21",
            "eb0489c52ec84bbb8ac20f797c97e16e",
            "520a57e25e8640bfbcc7f5f3a83b4c4a",
            "e6537f3d26344d1aac8b3e18504bdeca",
            "4729167b83cd473f8c023871b4db4cc6",
            "9a5be34bde2a4ad59ae9701163dd043d",
            "89f1f8c4a97744f2b8fb87e3c2268771",
            "9f053560e3274d678cb1df6733f91dca"
          ]
        },
        "id": "df0acbfc",
        "outputId": "33cfcec9-d41f-45f3-d961-77c85695f4e3"
      },
      "outputs": [
        {
          "output_type": "display_data",
          "data": {
            "text/plain": [
              "  0%|          | 0/1 [00:00<?, ?it/s]"
            ],
            "application/vnd.jupyter.widget-view+json": {
              "version_major": 2,
              "version_minor": 0,
              "model_id": "d6814ae3394e4975a29f3e669d59fffc"
            }
          },
          "metadata": {}
        },
        {
          "output_type": "execute_result",
          "data": {
            "text/plain": [
              "Dataset({\n",
              "    features: ['Title', 'Subheading', 'Paragraph', 'URL', 'text', 'embeddings'],\n",
              "    num_rows: 457\n",
              "})"
            ]
          },
          "metadata": {},
          "execution_count": 66
        }
      ],
      "source": [
        "embeddings_dataset.add_faiss_index(column=\"embeddings\")\n"
      ]
    },
    {
      "cell_type": "markdown",
      "id": "0716d6d8",
      "metadata": {
        "id": "0716d6d8"
      },
      "source": [
        "Saving the embeddings into pickle file."
      ]
    },
    {
      "cell_type": "code",
      "execution_count": null,
      "id": "cb1b2be4",
      "metadata": {
        "id": "cb1b2be4"
      },
      "outputs": [],
      "source": [
        "# loading library\n",
        "import pickle\n",
        "# create an iterator object with write permission - model.pkl\n",
        "with open('Distillbert_PassageLevel_pkl', 'wb') as files:\n",
        "    pickle.dump(embeddings_dataset, files)\n",
        "\n",
        "# We will save/send this file to the Data Base."
      ]
    },
    {
      "cell_type": "markdown",
      "id": "f34a285e",
      "metadata": {
        "id": "f34a285e"
      },
      "source": [
        "Below code is just reference."
      ]
    },
    {
      "cell_type": "code",
      "execution_count": null,
      "id": "b673e65a",
      "metadata": {
        "id": "b673e65a"
      },
      "outputs": [],
      "source": [
        "# import csv\n",
        "\n",
        "# def extract_text(text):\n",
        "#     lines = text.split(\"\\n\")\n",
        "#     title_subtitle = lines[0] + \", \" + lines[1]\n",
        "#     headings = []\n",
        "#     paragraphs = []\n",
        "#     heading = \"\"\n",
        "#     paragraph = \"\"\n",
        "#     for line in lines[2:]:\n",
        "#         if line.startswith(\"H\"):\n",
        "#             if heading:\n",
        "#                 headings.append(heading)\n",
        "#             heading = line[3:]\n",
        "#             if paragraph:\n",
        "#                 paragraphs.append(paragraph)\n",
        "#             paragraph = \"\"\n",
        "#         else:\n",
        "#             paragraph += line + \" \"\n",
        "#     headings.append(heading)\n",
        "#     paragraphs.append(paragraph)\n",
        "#     return [(title_subtitle, h, p) for h, p in zip(headings, paragraphs)]\n",
        "\n",
        "# with open('ExtractedText.csv', mode='a', newline='') as file:\n",
        "#     writer = csv.writer(file)\n",
        "#     writer.writerow(['DocumentID', 'PassageID', 'Title', 'Subheading', 'Paragraph','URL'])\n",
        "\n",
        "# def store_output_in_csv(text,i,url):\n",
        "#     data = extract_text(text)\n",
        "#     with open('ExtractedText.csv', mode='a', newline='') as file:\n",
        "#         writer = csv.writer(file)\n",
        "#         DocumentID = i\n",
        "#         PassageID = 1\n",
        "#         for item in data:\n",
        "#             Title = item[0].split(\",\")[0][7:]\n",
        "#             Subheading = item[1]\n",
        "#             Paragraph = item[2][3:]\n",
        "#             writer.writerow([DocumentID, PassageID, Title, Subheading, Paragraph,url])\n",
        "#             PassageID += 1\n",
        "\n",
        "# # convertion_csverror_list=[]            \n",
        "# # for i in range(89):\n",
        "# #     try:\n",
        "# #         with open(\"%d\"%(i), \"r\", encoding=\"utf8\") as f:         \n",
        "# #             text = f.read()\n",
        "# #             f1=open(\"{}_url\".format(i),\"r\")\n",
        "# #             url=f1.read()\n",
        "# #             store_output_in_csv(text,i,url)\n",
        "# #     except:\n",
        "# #         convertion_csverror_list.append(i)"
      ]
    },
    {
      "cell_type": "code",
      "source": [
        "import pickle\n",
        "\n",
        "# Load the pickle file\n",
        "with open('Distillbert_PassageLevel_pkl', 'rb') as f:\n",
        "    data = pickle.load(f)\n",
        "\n",
        "# Extract the necessary information\n",
        "doc_embeddings = {} # Create an empty dictionary to store the average embeddings for each Document ID\n",
        "\n",
        "for i, doc_id in enumerate(data[\"Document ID\"]):\n",
        "    if doc_id not in doc_embeddings:\n",
        "        doc_embeddings[doc_id] = np.array(data[\"Embedding\"][i])\n",
        "    else:\n",
        "        doc_embeddings[doc_id] += np.array(data[\"Embedding\"][i])\n",
        "    \n",
        "for doc_id in doc_embeddings:\n",
        "    doc_embeddings[doc_id] /= np.sum(data[\"Document ID\"] == doc_id)\n",
        "    \n",
        "# The doc_embeddings dictionary now contains the average embeddings for each Document ID\n"
      ],
      "metadata": {
        "id": "AlpV__TQQABM"
      },
      "id": "AlpV__TQQABM",
      "execution_count": null,
      "outputs": []
    }
  ],
  "metadata": {
    "kernelspec": {
      "display_name": "Python 3 (ipykernel)",
      "language": "python",
      "name": "python3"
    },
    "language_info": {
      "codemirror_mode": {
        "name": "ipython",
        "version": 3
      },
      "file_extension": ".py",
      "mimetype": "text/x-python",
      "name": "python",
      "nbconvert_exporter": "python",
      "pygments_lexer": "ipython3",
      "version": "3.9.7"
    },
    "colab": {
      "provenance": []
    },
    "widgets": {
      "application/vnd.jupyter.widget-state+json": {
        "c782e03cab9a41898369957a110d2351": {
          "model_module": "@jupyter-widgets/controls",
          "model_name": "HBoxModel",
          "model_module_version": "1.5.0",
          "state": {
            "_dom_classes": [],
            "_model_module": "@jupyter-widgets/controls",
            "_model_module_version": "1.5.0",
            "_model_name": "HBoxModel",
            "_view_count": null,
            "_view_module": "@jupyter-widgets/controls",
            "_view_module_version": "1.5.0",
            "_view_name": "HBoxView",
            "box_style": "",
            "children": [
              "IPY_MODEL_49544fa1ec4043a0b5c4534e68e95334",
              "IPY_MODEL_11e3cee5b76245ad9db6fe71269cea96",
              "IPY_MODEL_37c3a1a31f054ef4bf14e8b1c0051efb"
            ],
            "layout": "IPY_MODEL_972619a437044f689cefa18fc1ba385f"
          }
        },
        "49544fa1ec4043a0b5c4534e68e95334": {
          "model_module": "@jupyter-widgets/controls",
          "model_name": "HTMLModel",
          "model_module_version": "1.5.0",
          "state": {
            "_dom_classes": [],
            "_model_module": "@jupyter-widgets/controls",
            "_model_module_version": "1.5.0",
            "_model_name": "HTMLModel",
            "_view_count": null,
            "_view_module": "@jupyter-widgets/controls",
            "_view_module_version": "1.5.0",
            "_view_name": "HTMLView",
            "description": "",
            "description_tooltip": null,
            "layout": "IPY_MODEL_4e1dc50b1cf74e98be76c2e507f9d422",
            "placeholder": "​",
            "style": "IPY_MODEL_2c55b662ca4c414592ac1f83abc7986d",
            "value": "Map:  86%"
          }
        },
        "11e3cee5b76245ad9db6fe71269cea96": {
          "model_module": "@jupyter-widgets/controls",
          "model_name": "FloatProgressModel",
          "model_module_version": "1.5.0",
          "state": {
            "_dom_classes": [],
            "_model_module": "@jupyter-widgets/controls",
            "_model_module_version": "1.5.0",
            "_model_name": "FloatProgressModel",
            "_view_count": null,
            "_view_module": "@jupyter-widgets/controls",
            "_view_module_version": "1.5.0",
            "_view_name": "ProgressView",
            "bar_style": "",
            "description": "",
            "description_tooltip": null,
            "layout": "IPY_MODEL_0f74fecd523744a7a4f4b8afa2fa8631",
            "max": 472,
            "min": 0,
            "orientation": "horizontal",
            "style": "IPY_MODEL_d89a2d9e44684b54a229fff0754ef556",
            "value": 472
          }
        },
        "37c3a1a31f054ef4bf14e8b1c0051efb": {
          "model_module": "@jupyter-widgets/controls",
          "model_name": "HTMLModel",
          "model_module_version": "1.5.0",
          "state": {
            "_dom_classes": [],
            "_model_module": "@jupyter-widgets/controls",
            "_model_module_version": "1.5.0",
            "_model_name": "HTMLModel",
            "_view_count": null,
            "_view_module": "@jupyter-widgets/controls",
            "_view_module_version": "1.5.0",
            "_view_name": "HTMLView",
            "description": "",
            "description_tooltip": null,
            "layout": "IPY_MODEL_f40a1e8b3a1f48e8919e328e5a3a80cb",
            "placeholder": "​",
            "style": "IPY_MODEL_2a24f72603da4675b2f090059232424f",
            "value": " 406/472 [00:00&lt;00:00, 2771.88 examples/s]"
          }
        },
        "972619a437044f689cefa18fc1ba385f": {
          "model_module": "@jupyter-widgets/base",
          "model_name": "LayoutModel",
          "model_module_version": "1.2.0",
          "state": {
            "_model_module": "@jupyter-widgets/base",
            "_model_module_version": "1.2.0",
            "_model_name": "LayoutModel",
            "_view_count": null,
            "_view_module": "@jupyter-widgets/base",
            "_view_module_version": "1.2.0",
            "_view_name": "LayoutView",
            "align_content": null,
            "align_items": null,
            "align_self": null,
            "border": null,
            "bottom": null,
            "display": null,
            "flex": null,
            "flex_flow": null,
            "grid_area": null,
            "grid_auto_columns": null,
            "grid_auto_flow": null,
            "grid_auto_rows": null,
            "grid_column": null,
            "grid_gap": null,
            "grid_row": null,
            "grid_template_areas": null,
            "grid_template_columns": null,
            "grid_template_rows": null,
            "height": null,
            "justify_content": null,
            "justify_items": null,
            "left": null,
            "margin": null,
            "max_height": null,
            "max_width": null,
            "min_height": null,
            "min_width": null,
            "object_fit": null,
            "object_position": null,
            "order": null,
            "overflow": null,
            "overflow_x": null,
            "overflow_y": null,
            "padding": null,
            "right": null,
            "top": null,
            "visibility": "hidden",
            "width": null
          }
        },
        "4e1dc50b1cf74e98be76c2e507f9d422": {
          "model_module": "@jupyter-widgets/base",
          "model_name": "LayoutModel",
          "model_module_version": "1.2.0",
          "state": {
            "_model_module": "@jupyter-widgets/base",
            "_model_module_version": "1.2.0",
            "_model_name": "LayoutModel",
            "_view_count": null,
            "_view_module": "@jupyter-widgets/base",
            "_view_module_version": "1.2.0",
            "_view_name": "LayoutView",
            "align_content": null,
            "align_items": null,
            "align_self": null,
            "border": null,
            "bottom": null,
            "display": null,
            "flex": null,
            "flex_flow": null,
            "grid_area": null,
            "grid_auto_columns": null,
            "grid_auto_flow": null,
            "grid_auto_rows": null,
            "grid_column": null,
            "grid_gap": null,
            "grid_row": null,
            "grid_template_areas": null,
            "grid_template_columns": null,
            "grid_template_rows": null,
            "height": null,
            "justify_content": null,
            "justify_items": null,
            "left": null,
            "margin": null,
            "max_height": null,
            "max_width": null,
            "min_height": null,
            "min_width": null,
            "object_fit": null,
            "object_position": null,
            "order": null,
            "overflow": null,
            "overflow_x": null,
            "overflow_y": null,
            "padding": null,
            "right": null,
            "top": null,
            "visibility": null,
            "width": null
          }
        },
        "2c55b662ca4c414592ac1f83abc7986d": {
          "model_module": "@jupyter-widgets/controls",
          "model_name": "DescriptionStyleModel",
          "model_module_version": "1.5.0",
          "state": {
            "_model_module": "@jupyter-widgets/controls",
            "_model_module_version": "1.5.0",
            "_model_name": "DescriptionStyleModel",
            "_view_count": null,
            "_view_module": "@jupyter-widgets/base",
            "_view_module_version": "1.2.0",
            "_view_name": "StyleView",
            "description_width": ""
          }
        },
        "0f74fecd523744a7a4f4b8afa2fa8631": {
          "model_module": "@jupyter-widgets/base",
          "model_name": "LayoutModel",
          "model_module_version": "1.2.0",
          "state": {
            "_model_module": "@jupyter-widgets/base",
            "_model_module_version": "1.2.0",
            "_model_name": "LayoutModel",
            "_view_count": null,
            "_view_module": "@jupyter-widgets/base",
            "_view_module_version": "1.2.0",
            "_view_name": "LayoutView",
            "align_content": null,
            "align_items": null,
            "align_self": null,
            "border": null,
            "bottom": null,
            "display": null,
            "flex": null,
            "flex_flow": null,
            "grid_area": null,
            "grid_auto_columns": null,
            "grid_auto_flow": null,
            "grid_auto_rows": null,
            "grid_column": null,
            "grid_gap": null,
            "grid_row": null,
            "grid_template_areas": null,
            "grid_template_columns": null,
            "grid_template_rows": null,
            "height": null,
            "justify_content": null,
            "justify_items": null,
            "left": null,
            "margin": null,
            "max_height": null,
            "max_width": null,
            "min_height": null,
            "min_width": null,
            "object_fit": null,
            "object_position": null,
            "order": null,
            "overflow": null,
            "overflow_x": null,
            "overflow_y": null,
            "padding": null,
            "right": null,
            "top": null,
            "visibility": null,
            "width": null
          }
        },
        "d89a2d9e44684b54a229fff0754ef556": {
          "model_module": "@jupyter-widgets/controls",
          "model_name": "ProgressStyleModel",
          "model_module_version": "1.5.0",
          "state": {
            "_model_module": "@jupyter-widgets/controls",
            "_model_module_version": "1.5.0",
            "_model_name": "ProgressStyleModel",
            "_view_count": null,
            "_view_module": "@jupyter-widgets/base",
            "_view_module_version": "1.2.0",
            "_view_name": "StyleView",
            "bar_color": null,
            "description_width": ""
          }
        },
        "f40a1e8b3a1f48e8919e328e5a3a80cb": {
          "model_module": "@jupyter-widgets/base",
          "model_name": "LayoutModel",
          "model_module_version": "1.2.0",
          "state": {
            "_model_module": "@jupyter-widgets/base",
            "_model_module_version": "1.2.0",
            "_model_name": "LayoutModel",
            "_view_count": null,
            "_view_module": "@jupyter-widgets/base",
            "_view_module_version": "1.2.0",
            "_view_name": "LayoutView",
            "align_content": null,
            "align_items": null,
            "align_self": null,
            "border": null,
            "bottom": null,
            "display": null,
            "flex": null,
            "flex_flow": null,
            "grid_area": null,
            "grid_auto_columns": null,
            "grid_auto_flow": null,
            "grid_auto_rows": null,
            "grid_column": null,
            "grid_gap": null,
            "grid_row": null,
            "grid_template_areas": null,
            "grid_template_columns": null,
            "grid_template_rows": null,
            "height": null,
            "justify_content": null,
            "justify_items": null,
            "left": null,
            "margin": null,
            "max_height": null,
            "max_width": null,
            "min_height": null,
            "min_width": null,
            "object_fit": null,
            "object_position": null,
            "order": null,
            "overflow": null,
            "overflow_x": null,
            "overflow_y": null,
            "padding": null,
            "right": null,
            "top": null,
            "visibility": null,
            "width": null
          }
        },
        "2a24f72603da4675b2f090059232424f": {
          "model_module": "@jupyter-widgets/controls",
          "model_name": "DescriptionStyleModel",
          "model_module_version": "1.5.0",
          "state": {
            "_model_module": "@jupyter-widgets/controls",
            "_model_module_version": "1.5.0",
            "_model_name": "DescriptionStyleModel",
            "_view_count": null,
            "_view_module": "@jupyter-widgets/base",
            "_view_module_version": "1.2.0",
            "_view_name": "StyleView",
            "description_width": ""
          }
        },
        "d6814ae3394e4975a29f3e669d59fffc": {
          "model_module": "@jupyter-widgets/controls",
          "model_name": "HBoxModel",
          "model_module_version": "1.5.0",
          "state": {
            "_dom_classes": [],
            "_model_module": "@jupyter-widgets/controls",
            "_model_module_version": "1.5.0",
            "_model_name": "HBoxModel",
            "_view_count": null,
            "_view_module": "@jupyter-widgets/controls",
            "_view_module_version": "1.5.0",
            "_view_name": "HBoxView",
            "box_style": "",
            "children": [
              "IPY_MODEL_ddb5d5f38a5f4f5e9a1e78ea3ebe0321",
              "IPY_MODEL_5da5aa7f9f9f4a5bb7de7dba22958439",
              "IPY_MODEL_dd310bfe1b094db8a3eb85c356cf3f21"
            ],
            "layout": "IPY_MODEL_eb0489c52ec84bbb8ac20f797c97e16e"
          }
        },
        "ddb5d5f38a5f4f5e9a1e78ea3ebe0321": {
          "model_module": "@jupyter-widgets/controls",
          "model_name": "HTMLModel",
          "model_module_version": "1.5.0",
          "state": {
            "_dom_classes": [],
            "_model_module": "@jupyter-widgets/controls",
            "_model_module_version": "1.5.0",
            "_model_name": "HTMLModel",
            "_view_count": null,
            "_view_module": "@jupyter-widgets/controls",
            "_view_module_version": "1.5.0",
            "_view_name": "HTMLView",
            "description": "",
            "description_tooltip": null,
            "layout": "IPY_MODEL_520a57e25e8640bfbcc7f5f3a83b4c4a",
            "placeholder": "​",
            "style": "IPY_MODEL_e6537f3d26344d1aac8b3e18504bdeca",
            "value": "100%"
          }
        },
        "5da5aa7f9f9f4a5bb7de7dba22958439": {
          "model_module": "@jupyter-widgets/controls",
          "model_name": "FloatProgressModel",
          "model_module_version": "1.5.0",
          "state": {
            "_dom_classes": [],
            "_model_module": "@jupyter-widgets/controls",
            "_model_module_version": "1.5.0",
            "_model_name": "FloatProgressModel",
            "_view_count": null,
            "_view_module": "@jupyter-widgets/controls",
            "_view_module_version": "1.5.0",
            "_view_name": "ProgressView",
            "bar_style": "success",
            "description": "",
            "description_tooltip": null,
            "layout": "IPY_MODEL_4729167b83cd473f8c023871b4db4cc6",
            "max": 1,
            "min": 0,
            "orientation": "horizontal",
            "style": "IPY_MODEL_9a5be34bde2a4ad59ae9701163dd043d",
            "value": 1
          }
        },
        "dd310bfe1b094db8a3eb85c356cf3f21": {
          "model_module": "@jupyter-widgets/controls",
          "model_name": "HTMLModel",
          "model_module_version": "1.5.0",
          "state": {
            "_dom_classes": [],
            "_model_module": "@jupyter-widgets/controls",
            "_model_module_version": "1.5.0",
            "_model_name": "HTMLModel",
            "_view_count": null,
            "_view_module": "@jupyter-widgets/controls",
            "_view_module_version": "1.5.0",
            "_view_name": "HTMLView",
            "description": "",
            "description_tooltip": null,
            "layout": "IPY_MODEL_89f1f8c4a97744f2b8fb87e3c2268771",
            "placeholder": "​",
            "style": "IPY_MODEL_9f053560e3274d678cb1df6733f91dca",
            "value": " 1/1 [00:00&lt;00:00, 31.02it/s]"
          }
        },
        "eb0489c52ec84bbb8ac20f797c97e16e": {
          "model_module": "@jupyter-widgets/base",
          "model_name": "LayoutModel",
          "model_module_version": "1.2.0",
          "state": {
            "_model_module": "@jupyter-widgets/base",
            "_model_module_version": "1.2.0",
            "_model_name": "LayoutModel",
            "_view_count": null,
            "_view_module": "@jupyter-widgets/base",
            "_view_module_version": "1.2.0",
            "_view_name": "LayoutView",
            "align_content": null,
            "align_items": null,
            "align_self": null,
            "border": null,
            "bottom": null,
            "display": null,
            "flex": null,
            "flex_flow": null,
            "grid_area": null,
            "grid_auto_columns": null,
            "grid_auto_flow": null,
            "grid_auto_rows": null,
            "grid_column": null,
            "grid_gap": null,
            "grid_row": null,
            "grid_template_areas": null,
            "grid_template_columns": null,
            "grid_template_rows": null,
            "height": null,
            "justify_content": null,
            "justify_items": null,
            "left": null,
            "margin": null,
            "max_height": null,
            "max_width": null,
            "min_height": null,
            "min_width": null,
            "object_fit": null,
            "object_position": null,
            "order": null,
            "overflow": null,
            "overflow_x": null,
            "overflow_y": null,
            "padding": null,
            "right": null,
            "top": null,
            "visibility": null,
            "width": null
          }
        },
        "520a57e25e8640bfbcc7f5f3a83b4c4a": {
          "model_module": "@jupyter-widgets/base",
          "model_name": "LayoutModel",
          "model_module_version": "1.2.0",
          "state": {
            "_model_module": "@jupyter-widgets/base",
            "_model_module_version": "1.2.0",
            "_model_name": "LayoutModel",
            "_view_count": null,
            "_view_module": "@jupyter-widgets/base",
            "_view_module_version": "1.2.0",
            "_view_name": "LayoutView",
            "align_content": null,
            "align_items": null,
            "align_self": null,
            "border": null,
            "bottom": null,
            "display": null,
            "flex": null,
            "flex_flow": null,
            "grid_area": null,
            "grid_auto_columns": null,
            "grid_auto_flow": null,
            "grid_auto_rows": null,
            "grid_column": null,
            "grid_gap": null,
            "grid_row": null,
            "grid_template_areas": null,
            "grid_template_columns": null,
            "grid_template_rows": null,
            "height": null,
            "justify_content": null,
            "justify_items": null,
            "left": null,
            "margin": null,
            "max_height": null,
            "max_width": null,
            "min_height": null,
            "min_width": null,
            "object_fit": null,
            "object_position": null,
            "order": null,
            "overflow": null,
            "overflow_x": null,
            "overflow_y": null,
            "padding": null,
            "right": null,
            "top": null,
            "visibility": null,
            "width": null
          }
        },
        "e6537f3d26344d1aac8b3e18504bdeca": {
          "model_module": "@jupyter-widgets/controls",
          "model_name": "DescriptionStyleModel",
          "model_module_version": "1.5.0",
          "state": {
            "_model_module": "@jupyter-widgets/controls",
            "_model_module_version": "1.5.0",
            "_model_name": "DescriptionStyleModel",
            "_view_count": null,
            "_view_module": "@jupyter-widgets/base",
            "_view_module_version": "1.2.0",
            "_view_name": "StyleView",
            "description_width": ""
          }
        },
        "4729167b83cd473f8c023871b4db4cc6": {
          "model_module": "@jupyter-widgets/base",
          "model_name": "LayoutModel",
          "model_module_version": "1.2.0",
          "state": {
            "_model_module": "@jupyter-widgets/base",
            "_model_module_version": "1.2.0",
            "_model_name": "LayoutModel",
            "_view_count": null,
            "_view_module": "@jupyter-widgets/base",
            "_view_module_version": "1.2.0",
            "_view_name": "LayoutView",
            "align_content": null,
            "align_items": null,
            "align_self": null,
            "border": null,
            "bottom": null,
            "display": null,
            "flex": null,
            "flex_flow": null,
            "grid_area": null,
            "grid_auto_columns": null,
            "grid_auto_flow": null,
            "grid_auto_rows": null,
            "grid_column": null,
            "grid_gap": null,
            "grid_row": null,
            "grid_template_areas": null,
            "grid_template_columns": null,
            "grid_template_rows": null,
            "height": null,
            "justify_content": null,
            "justify_items": null,
            "left": null,
            "margin": null,
            "max_height": null,
            "max_width": null,
            "min_height": null,
            "min_width": null,
            "object_fit": null,
            "object_position": null,
            "order": null,
            "overflow": null,
            "overflow_x": null,
            "overflow_y": null,
            "padding": null,
            "right": null,
            "top": null,
            "visibility": null,
            "width": null
          }
        },
        "9a5be34bde2a4ad59ae9701163dd043d": {
          "model_module": "@jupyter-widgets/controls",
          "model_name": "ProgressStyleModel",
          "model_module_version": "1.5.0",
          "state": {
            "_model_module": "@jupyter-widgets/controls",
            "_model_module_version": "1.5.0",
            "_model_name": "ProgressStyleModel",
            "_view_count": null,
            "_view_module": "@jupyter-widgets/base",
            "_view_module_version": "1.2.0",
            "_view_name": "StyleView",
            "bar_color": null,
            "description_width": ""
          }
        },
        "89f1f8c4a97744f2b8fb87e3c2268771": {
          "model_module": "@jupyter-widgets/base",
          "model_name": "LayoutModel",
          "model_module_version": "1.2.0",
          "state": {
            "_model_module": "@jupyter-widgets/base",
            "_model_module_version": "1.2.0",
            "_model_name": "LayoutModel",
            "_view_count": null,
            "_view_module": "@jupyter-widgets/base",
            "_view_module_version": "1.2.0",
            "_view_name": "LayoutView",
            "align_content": null,
            "align_items": null,
            "align_self": null,
            "border": null,
            "bottom": null,
            "display": null,
            "flex": null,
            "flex_flow": null,
            "grid_area": null,
            "grid_auto_columns": null,
            "grid_auto_flow": null,
            "grid_auto_rows": null,
            "grid_column": null,
            "grid_gap": null,
            "grid_row": null,
            "grid_template_areas": null,
            "grid_template_columns": null,
            "grid_template_rows": null,
            "height": null,
            "justify_content": null,
            "justify_items": null,
            "left": null,
            "margin": null,
            "max_height": null,
            "max_width": null,
            "min_height": null,
            "min_width": null,
            "object_fit": null,
            "object_position": null,
            "order": null,
            "overflow": null,
            "overflow_x": null,
            "overflow_y": null,
            "padding": null,
            "right": null,
            "top": null,
            "visibility": null,
            "width": null
          }
        },
        "9f053560e3274d678cb1df6733f91dca": {
          "model_module": "@jupyter-widgets/controls",
          "model_name": "DescriptionStyleModel",
          "model_module_version": "1.5.0",
          "state": {
            "_model_module": "@jupyter-widgets/controls",
            "_model_module_version": "1.5.0",
            "_model_name": "DescriptionStyleModel",
            "_view_count": null,
            "_view_module": "@jupyter-widgets/base",
            "_view_module_version": "1.2.0",
            "_view_name": "StyleView",
            "description_width": ""
          }
        }
      }
    }
  },
  "nbformat": 4,
  "nbformat_minor": 5
}