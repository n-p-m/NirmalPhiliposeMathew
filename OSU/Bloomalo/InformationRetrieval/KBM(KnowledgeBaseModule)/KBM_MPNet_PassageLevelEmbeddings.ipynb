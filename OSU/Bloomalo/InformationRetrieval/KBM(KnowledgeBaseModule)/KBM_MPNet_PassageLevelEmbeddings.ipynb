{
  "nbformat": 4,
  "nbformat_minor": 0,
  "metadata": {
    "colab": {
      "provenance": []
    },
    "kernelspec": {
      "name": "python3",
      "display_name": "Python 3"
    },
    "language_info": {
      "name": "python"
    },
    "widgets": {
      "application/vnd.jupyter.widget-state+json": {
        "770c8b7a03ac45f68248140a41ab5733": {
          "model_module": "@jupyter-widgets/controls",
          "model_name": "HBoxModel",
          "model_module_version": "1.5.0",
          "state": {
            "_dom_classes": [],
            "_model_module": "@jupyter-widgets/controls",
            "_model_module_version": "1.5.0",
            "_model_name": "HBoxModel",
            "_view_count": null,
            "_view_module": "@jupyter-widgets/controls",
            "_view_module_version": "1.5.0",
            "_view_name": "HBoxView",
            "box_style": "",
            "children": [
              "IPY_MODEL_0feb5c515c1042abb95e3ce5265885a3",
              "IPY_MODEL_830634bf8cea4f97b0d157b575cd5775",
              "IPY_MODEL_a91fddb3f7c744d48f2d0159ac4a08ad"
            ],
            "layout": "IPY_MODEL_0f9e76597fb84198b79e4e309019e95f"
          }
        },
        "0feb5c515c1042abb95e3ce5265885a3": {
          "model_module": "@jupyter-widgets/controls",
          "model_name": "HTMLModel",
          "model_module_version": "1.5.0",
          "state": {
            "_dom_classes": [],
            "_model_module": "@jupyter-widgets/controls",
            "_model_module_version": "1.5.0",
            "_model_name": "HTMLModel",
            "_view_count": null,
            "_view_module": "@jupyter-widgets/controls",
            "_view_module_version": "1.5.0",
            "_view_name": "HTMLView",
            "description": "",
            "description_tooltip": null,
            "layout": "IPY_MODEL_d3c580376f04443692aff584447e0082",
            "placeholder": "​",
            "style": "IPY_MODEL_f55da08887774cf4b493698c21b4f3a5",
            "value": "Map: 100%"
          }
        },
        "830634bf8cea4f97b0d157b575cd5775": {
          "model_module": "@jupyter-widgets/controls",
          "model_name": "FloatProgressModel",
          "model_module_version": "1.5.0",
          "state": {
            "_dom_classes": [],
            "_model_module": "@jupyter-widgets/controls",
            "_model_module_version": "1.5.0",
            "_model_name": "FloatProgressModel",
            "_view_count": null,
            "_view_module": "@jupyter-widgets/controls",
            "_view_module_version": "1.5.0",
            "_view_name": "ProgressView",
            "bar_style": "",
            "description": "",
            "description_tooltip": null,
            "layout": "IPY_MODEL_1294d1730fbb4a6d8875d98f30137d39",
            "max": 472,
            "min": 0,
            "orientation": "horizontal",
            "style": "IPY_MODEL_4e3799665079482db6b488da344e6981",
            "value": 472
          }
        },
        "a91fddb3f7c744d48f2d0159ac4a08ad": {
          "model_module": "@jupyter-widgets/controls",
          "model_name": "HTMLModel",
          "model_module_version": "1.5.0",
          "state": {
            "_dom_classes": [],
            "_model_module": "@jupyter-widgets/controls",
            "_model_module_version": "1.5.0",
            "_model_name": "HTMLModel",
            "_view_count": null,
            "_view_module": "@jupyter-widgets/controls",
            "_view_module_version": "1.5.0",
            "_view_name": "HTMLView",
            "description": "",
            "description_tooltip": null,
            "layout": "IPY_MODEL_7c99d3c2658045cb9ed83635d6830c6a",
            "placeholder": "​",
            "style": "IPY_MODEL_3837499b1bd24316b69210f9ed868027",
            "value": " 472/472 [00:00&lt;00:00, 2325.17 examples/s]"
          }
        },
        "0f9e76597fb84198b79e4e309019e95f": {
          "model_module": "@jupyter-widgets/base",
          "model_name": "LayoutModel",
          "model_module_version": "1.2.0",
          "state": {
            "_model_module": "@jupyter-widgets/base",
            "_model_module_version": "1.2.0",
            "_model_name": "LayoutModel",
            "_view_count": null,
            "_view_module": "@jupyter-widgets/base",
            "_view_module_version": "1.2.0",
            "_view_name": "LayoutView",
            "align_content": null,
            "align_items": null,
            "align_self": null,
            "border": null,
            "bottom": null,
            "display": null,
            "flex": null,
            "flex_flow": null,
            "grid_area": null,
            "grid_auto_columns": null,
            "grid_auto_flow": null,
            "grid_auto_rows": null,
            "grid_column": null,
            "grid_gap": null,
            "grid_row": null,
            "grid_template_areas": null,
            "grid_template_columns": null,
            "grid_template_rows": null,
            "height": null,
            "justify_content": null,
            "justify_items": null,
            "left": null,
            "margin": null,
            "max_height": null,
            "max_width": null,
            "min_height": null,
            "min_width": null,
            "object_fit": null,
            "object_position": null,
            "order": null,
            "overflow": null,
            "overflow_x": null,
            "overflow_y": null,
            "padding": null,
            "right": null,
            "top": null,
            "visibility": "hidden",
            "width": null
          }
        },
        "d3c580376f04443692aff584447e0082": {
          "model_module": "@jupyter-widgets/base",
          "model_name": "LayoutModel",
          "model_module_version": "1.2.0",
          "state": {
            "_model_module": "@jupyter-widgets/base",
            "_model_module_version": "1.2.0",
            "_model_name": "LayoutModel",
            "_view_count": null,
            "_view_module": "@jupyter-widgets/base",
            "_view_module_version": "1.2.0",
            "_view_name": "LayoutView",
            "align_content": null,
            "align_items": null,
            "align_self": null,
            "border": null,
            "bottom": null,
            "display": null,
            "flex": null,
            "flex_flow": null,
            "grid_area": null,
            "grid_auto_columns": null,
            "grid_auto_flow": null,
            "grid_auto_rows": null,
            "grid_column": null,
            "grid_gap": null,
            "grid_row": null,
            "grid_template_areas": null,
            "grid_template_columns": null,
            "grid_template_rows": null,
            "height": null,
            "justify_content": null,
            "justify_items": null,
            "left": null,
            "margin": null,
            "max_height": null,
            "max_width": null,
            "min_height": null,
            "min_width": null,
            "object_fit": null,
            "object_position": null,
            "order": null,
            "overflow": null,
            "overflow_x": null,
            "overflow_y": null,
            "padding": null,
            "right": null,
            "top": null,
            "visibility": null,
            "width": null
          }
        },
        "f55da08887774cf4b493698c21b4f3a5": {
          "model_module": "@jupyter-widgets/controls",
          "model_name": "DescriptionStyleModel",
          "model_module_version": "1.5.0",
          "state": {
            "_model_module": "@jupyter-widgets/controls",
            "_model_module_version": "1.5.0",
            "_model_name": "DescriptionStyleModel",
            "_view_count": null,
            "_view_module": "@jupyter-widgets/base",
            "_view_module_version": "1.2.0",
            "_view_name": "StyleView",
            "description_width": ""
          }
        },
        "1294d1730fbb4a6d8875d98f30137d39": {
          "model_module": "@jupyter-widgets/base",
          "model_name": "LayoutModel",
          "model_module_version": "1.2.0",
          "state": {
            "_model_module": "@jupyter-widgets/base",
            "_model_module_version": "1.2.0",
            "_model_name": "LayoutModel",
            "_view_count": null,
            "_view_module": "@jupyter-widgets/base",
            "_view_module_version": "1.2.0",
            "_view_name": "LayoutView",
            "align_content": null,
            "align_items": null,
            "align_self": null,
            "border": null,
            "bottom": null,
            "display": null,
            "flex": null,
            "flex_flow": null,
            "grid_area": null,
            "grid_auto_columns": null,
            "grid_auto_flow": null,
            "grid_auto_rows": null,
            "grid_column": null,
            "grid_gap": null,
            "grid_row": null,
            "grid_template_areas": null,
            "grid_template_columns": null,
            "grid_template_rows": null,
            "height": null,
            "justify_content": null,
            "justify_items": null,
            "left": null,
            "margin": null,
            "max_height": null,
            "max_width": null,
            "min_height": null,
            "min_width": null,
            "object_fit": null,
            "object_position": null,
            "order": null,
            "overflow": null,
            "overflow_x": null,
            "overflow_y": null,
            "padding": null,
            "right": null,
            "top": null,
            "visibility": null,
            "width": null
          }
        },
        "4e3799665079482db6b488da344e6981": {
          "model_module": "@jupyter-widgets/controls",
          "model_name": "ProgressStyleModel",
          "model_module_version": "1.5.0",
          "state": {
            "_model_module": "@jupyter-widgets/controls",
            "_model_module_version": "1.5.0",
            "_model_name": "ProgressStyleModel",
            "_view_count": null,
            "_view_module": "@jupyter-widgets/base",
            "_view_module_version": "1.2.0",
            "_view_name": "StyleView",
            "bar_color": null,
            "description_width": ""
          }
        },
        "7c99d3c2658045cb9ed83635d6830c6a": {
          "model_module": "@jupyter-widgets/base",
          "model_name": "LayoutModel",
          "model_module_version": "1.2.0",
          "state": {
            "_model_module": "@jupyter-widgets/base",
            "_model_module_version": "1.2.0",
            "_model_name": "LayoutModel",
            "_view_count": null,
            "_view_module": "@jupyter-widgets/base",
            "_view_module_version": "1.2.0",
            "_view_name": "LayoutView",
            "align_content": null,
            "align_items": null,
            "align_self": null,
            "border": null,
            "bottom": null,
            "display": null,
            "flex": null,
            "flex_flow": null,
            "grid_area": null,
            "grid_auto_columns": null,
            "grid_auto_flow": null,
            "grid_auto_rows": null,
            "grid_column": null,
            "grid_gap": null,
            "grid_row": null,
            "grid_template_areas": null,
            "grid_template_columns": null,
            "grid_template_rows": null,
            "height": null,
            "justify_content": null,
            "justify_items": null,
            "left": null,
            "margin": null,
            "max_height": null,
            "max_width": null,
            "min_height": null,
            "min_width": null,
            "object_fit": null,
            "object_position": null,
            "order": null,
            "overflow": null,
            "overflow_x": null,
            "overflow_y": null,
            "padding": null,
            "right": null,
            "top": null,
            "visibility": null,
            "width": null
          }
        },
        "3837499b1bd24316b69210f9ed868027": {
          "model_module": "@jupyter-widgets/controls",
          "model_name": "DescriptionStyleModel",
          "model_module_version": "1.5.0",
          "state": {
            "_model_module": "@jupyter-widgets/controls",
            "_model_module_version": "1.5.0",
            "_model_name": "DescriptionStyleModel",
            "_view_count": null,
            "_view_module": "@jupyter-widgets/base",
            "_view_module_version": "1.2.0",
            "_view_name": "StyleView",
            "description_width": ""
          }
        },
        "323e0bdc992046f3aa93ea31b1365c02": {
          "model_module": "@jupyter-widgets/controls",
          "model_name": "HBoxModel",
          "model_module_version": "1.5.0",
          "state": {
            "_dom_classes": [],
            "_model_module": "@jupyter-widgets/controls",
            "_model_module_version": "1.5.0",
            "_model_name": "HBoxModel",
            "_view_count": null,
            "_view_module": "@jupyter-widgets/controls",
            "_view_module_version": "1.5.0",
            "_view_name": "HBoxView",
            "box_style": "",
            "children": [
              "IPY_MODEL_c0bfe32973554662b537a5bda6fb6ea8",
              "IPY_MODEL_24acdbfdd680405aabedc969007b2968",
              "IPY_MODEL_97b01ffc92604b91a0610073908fb203"
            ],
            "layout": "IPY_MODEL_baf70953536c4e898369d7d0168ad6b5"
          }
        },
        "c0bfe32973554662b537a5bda6fb6ea8": {
          "model_module": "@jupyter-widgets/controls",
          "model_name": "HTMLModel",
          "model_module_version": "1.5.0",
          "state": {
            "_dom_classes": [],
            "_model_module": "@jupyter-widgets/controls",
            "_model_module_version": "1.5.0",
            "_model_name": "HTMLModel",
            "_view_count": null,
            "_view_module": "@jupyter-widgets/controls",
            "_view_module_version": "1.5.0",
            "_view_name": "HTMLView",
            "description": "",
            "description_tooltip": null,
            "layout": "IPY_MODEL_1903e9a5da7e4c7d84464564baa0927c",
            "placeholder": "​",
            "style": "IPY_MODEL_3ff5311bf1194a91a73b702613a1d6fc",
            "value": "Map: 100%"
          }
        },
        "24acdbfdd680405aabedc969007b2968": {
          "model_module": "@jupyter-widgets/controls",
          "model_name": "FloatProgressModel",
          "model_module_version": "1.5.0",
          "state": {
            "_dom_classes": [],
            "_model_module": "@jupyter-widgets/controls",
            "_model_module_version": "1.5.0",
            "_model_name": "FloatProgressModel",
            "_view_count": null,
            "_view_module": "@jupyter-widgets/controls",
            "_view_module_version": "1.5.0",
            "_view_name": "ProgressView",
            "bar_style": "",
            "description": "",
            "description_tooltip": null,
            "layout": "IPY_MODEL_b183bf99d0874f0294ba6caf80e8d5a5",
            "max": 457,
            "min": 0,
            "orientation": "horizontal",
            "style": "IPY_MODEL_e94fd34778f040e3869f21fc9e879902",
            "value": 457
          }
        },
        "97b01ffc92604b91a0610073908fb203": {
          "model_module": "@jupyter-widgets/controls",
          "model_name": "HTMLModel",
          "model_module_version": "1.5.0",
          "state": {
            "_dom_classes": [],
            "_model_module": "@jupyter-widgets/controls",
            "_model_module_version": "1.5.0",
            "_model_name": "HTMLModel",
            "_view_count": null,
            "_view_module": "@jupyter-widgets/controls",
            "_view_module_version": "1.5.0",
            "_view_name": "HTMLView",
            "description": "",
            "description_tooltip": null,
            "layout": "IPY_MODEL_76101785873e4836bb9520c7ff96f962",
            "placeholder": "​",
            "style": "IPY_MODEL_658dbfcc0516493e944019cf9c74eade",
            "value": " 457/457 [04:58&lt;00:00,  3.19 examples/s]"
          }
        },
        "baf70953536c4e898369d7d0168ad6b5": {
          "model_module": "@jupyter-widgets/base",
          "model_name": "LayoutModel",
          "model_module_version": "1.2.0",
          "state": {
            "_model_module": "@jupyter-widgets/base",
            "_model_module_version": "1.2.0",
            "_model_name": "LayoutModel",
            "_view_count": null,
            "_view_module": "@jupyter-widgets/base",
            "_view_module_version": "1.2.0",
            "_view_name": "LayoutView",
            "align_content": null,
            "align_items": null,
            "align_self": null,
            "border": null,
            "bottom": null,
            "display": null,
            "flex": null,
            "flex_flow": null,
            "grid_area": null,
            "grid_auto_columns": null,
            "grid_auto_flow": null,
            "grid_auto_rows": null,
            "grid_column": null,
            "grid_gap": null,
            "grid_row": null,
            "grid_template_areas": null,
            "grid_template_columns": null,
            "grid_template_rows": null,
            "height": null,
            "justify_content": null,
            "justify_items": null,
            "left": null,
            "margin": null,
            "max_height": null,
            "max_width": null,
            "min_height": null,
            "min_width": null,
            "object_fit": null,
            "object_position": null,
            "order": null,
            "overflow": null,
            "overflow_x": null,
            "overflow_y": null,
            "padding": null,
            "right": null,
            "top": null,
            "visibility": "hidden",
            "width": null
          }
        },
        "1903e9a5da7e4c7d84464564baa0927c": {
          "model_module": "@jupyter-widgets/base",
          "model_name": "LayoutModel",
          "model_module_version": "1.2.0",
          "state": {
            "_model_module": "@jupyter-widgets/base",
            "_model_module_version": "1.2.0",
            "_model_name": "LayoutModel",
            "_view_count": null,
            "_view_module": "@jupyter-widgets/base",
            "_view_module_version": "1.2.0",
            "_view_name": "LayoutView",
            "align_content": null,
            "align_items": null,
            "align_self": null,
            "border": null,
            "bottom": null,
            "display": null,
            "flex": null,
            "flex_flow": null,
            "grid_area": null,
            "grid_auto_columns": null,
            "grid_auto_flow": null,
            "grid_auto_rows": null,
            "grid_column": null,
            "grid_gap": null,
            "grid_row": null,
            "grid_template_areas": null,
            "grid_template_columns": null,
            "grid_template_rows": null,
            "height": null,
            "justify_content": null,
            "justify_items": null,
            "left": null,
            "margin": null,
            "max_height": null,
            "max_width": null,
            "min_height": null,
            "min_width": null,
            "object_fit": null,
            "object_position": null,
            "order": null,
            "overflow": null,
            "overflow_x": null,
            "overflow_y": null,
            "padding": null,
            "right": null,
            "top": null,
            "visibility": null,
            "width": null
          }
        },
        "3ff5311bf1194a91a73b702613a1d6fc": {
          "model_module": "@jupyter-widgets/controls",
          "model_name": "DescriptionStyleModel",
          "model_module_version": "1.5.0",
          "state": {
            "_model_module": "@jupyter-widgets/controls",
            "_model_module_version": "1.5.0",
            "_model_name": "DescriptionStyleModel",
            "_view_count": null,
            "_view_module": "@jupyter-widgets/base",
            "_view_module_version": "1.2.0",
            "_view_name": "StyleView",
            "description_width": ""
          }
        },
        "b183bf99d0874f0294ba6caf80e8d5a5": {
          "model_module": "@jupyter-widgets/base",
          "model_name": "LayoutModel",
          "model_module_version": "1.2.0",
          "state": {
            "_model_module": "@jupyter-widgets/base",
            "_model_module_version": "1.2.0",
            "_model_name": "LayoutModel",
            "_view_count": null,
            "_view_module": "@jupyter-widgets/base",
            "_view_module_version": "1.2.0",
            "_view_name": "LayoutView",
            "align_content": null,
            "align_items": null,
            "align_self": null,
            "border": null,
            "bottom": null,
            "display": null,
            "flex": null,
            "flex_flow": null,
            "grid_area": null,
            "grid_auto_columns": null,
            "grid_auto_flow": null,
            "grid_auto_rows": null,
            "grid_column": null,
            "grid_gap": null,
            "grid_row": null,
            "grid_template_areas": null,
            "grid_template_columns": null,
            "grid_template_rows": null,
            "height": null,
            "justify_content": null,
            "justify_items": null,
            "left": null,
            "margin": null,
            "max_height": null,
            "max_width": null,
            "min_height": null,
            "min_width": null,
            "object_fit": null,
            "object_position": null,
            "order": null,
            "overflow": null,
            "overflow_x": null,
            "overflow_y": null,
            "padding": null,
            "right": null,
            "top": null,
            "visibility": null,
            "width": null
          }
        },
        "e94fd34778f040e3869f21fc9e879902": {
          "model_module": "@jupyter-widgets/controls",
          "model_name": "ProgressStyleModel",
          "model_module_version": "1.5.0",
          "state": {
            "_model_module": "@jupyter-widgets/controls",
            "_model_module_version": "1.5.0",
            "_model_name": "ProgressStyleModel",
            "_view_count": null,
            "_view_module": "@jupyter-widgets/base",
            "_view_module_version": "1.2.0",
            "_view_name": "StyleView",
            "bar_color": null,
            "description_width": ""
          }
        },
        "76101785873e4836bb9520c7ff96f962": {
          "model_module": "@jupyter-widgets/base",
          "model_name": "LayoutModel",
          "model_module_version": "1.2.0",
          "state": {
            "_model_module": "@jupyter-widgets/base",
            "_model_module_version": "1.2.0",
            "_model_name": "LayoutModel",
            "_view_count": null,
            "_view_module": "@jupyter-widgets/base",
            "_view_module_version": "1.2.0",
            "_view_name": "LayoutView",
            "align_content": null,
            "align_items": null,
            "align_self": null,
            "border": null,
            "bottom": null,
            "display": null,
            "flex": null,
            "flex_flow": null,
            "grid_area": null,
            "grid_auto_columns": null,
            "grid_auto_flow": null,
            "grid_auto_rows": null,
            "grid_column": null,
            "grid_gap": null,
            "grid_row": null,
            "grid_template_areas": null,
            "grid_template_columns": null,
            "grid_template_rows": null,
            "height": null,
            "justify_content": null,
            "justify_items": null,
            "left": null,
            "margin": null,
            "max_height": null,
            "max_width": null,
            "min_height": null,
            "min_width": null,
            "object_fit": null,
            "object_position": null,
            "order": null,
            "overflow": null,
            "overflow_x": null,
            "overflow_y": null,
            "padding": null,
            "right": null,
            "top": null,
            "visibility": null,
            "width": null
          }
        },
        "658dbfcc0516493e944019cf9c74eade": {
          "model_module": "@jupyter-widgets/controls",
          "model_name": "DescriptionStyleModel",
          "model_module_version": "1.5.0",
          "state": {
            "_model_module": "@jupyter-widgets/controls",
            "_model_module_version": "1.5.0",
            "_model_name": "DescriptionStyleModel",
            "_view_count": null,
            "_view_module": "@jupyter-widgets/base",
            "_view_module_version": "1.2.0",
            "_view_name": "StyleView",
            "description_width": ""
          }
        },
        "edf7927854074de2b1ede5255dbf26a4": {
          "model_module": "@jupyter-widgets/controls",
          "model_name": "HBoxModel",
          "model_module_version": "1.5.0",
          "state": {
            "_dom_classes": [],
            "_model_module": "@jupyter-widgets/controls",
            "_model_module_version": "1.5.0",
            "_model_name": "HBoxModel",
            "_view_count": null,
            "_view_module": "@jupyter-widgets/controls",
            "_view_module_version": "1.5.0",
            "_view_name": "HBoxView",
            "box_style": "",
            "children": [
              "IPY_MODEL_0dd06ffcd83e4e04b5bf54c1df39848a",
              "IPY_MODEL_43c84c964e06489eb9cdde0f30d74cdf",
              "IPY_MODEL_f150d77926ac45929d673402cbfb4c75"
            ],
            "layout": "IPY_MODEL_9b06d8b891224418b46240dc9f2fc3c2"
          }
        },
        "0dd06ffcd83e4e04b5bf54c1df39848a": {
          "model_module": "@jupyter-widgets/controls",
          "model_name": "HTMLModel",
          "model_module_version": "1.5.0",
          "state": {
            "_dom_classes": [],
            "_model_module": "@jupyter-widgets/controls",
            "_model_module_version": "1.5.0",
            "_model_name": "HTMLModel",
            "_view_count": null,
            "_view_module": "@jupyter-widgets/controls",
            "_view_module_version": "1.5.0",
            "_view_name": "HTMLView",
            "description": "",
            "description_tooltip": null,
            "layout": "IPY_MODEL_839d8ddef81e4f7e85db6320ca0d7920",
            "placeholder": "​",
            "style": "IPY_MODEL_08b78d545def4744bc8929627806c2f6",
            "value": "100%"
          }
        },
        "43c84c964e06489eb9cdde0f30d74cdf": {
          "model_module": "@jupyter-widgets/controls",
          "model_name": "FloatProgressModel",
          "model_module_version": "1.5.0",
          "state": {
            "_dom_classes": [],
            "_model_module": "@jupyter-widgets/controls",
            "_model_module_version": "1.5.0",
            "_model_name": "FloatProgressModel",
            "_view_count": null,
            "_view_module": "@jupyter-widgets/controls",
            "_view_module_version": "1.5.0",
            "_view_name": "ProgressView",
            "bar_style": "success",
            "description": "",
            "description_tooltip": null,
            "layout": "IPY_MODEL_bb180fd4fe744de6a6e646e1b991f745",
            "max": 1,
            "min": 0,
            "orientation": "horizontal",
            "style": "IPY_MODEL_b45ec5b6729043f4a35b539170fca696",
            "value": 1
          }
        },
        "f150d77926ac45929d673402cbfb4c75": {
          "model_module": "@jupyter-widgets/controls",
          "model_name": "HTMLModel",
          "model_module_version": "1.5.0",
          "state": {
            "_dom_classes": [],
            "_model_module": "@jupyter-widgets/controls",
            "_model_module_version": "1.5.0",
            "_model_name": "HTMLModel",
            "_view_count": null,
            "_view_module": "@jupyter-widgets/controls",
            "_view_module_version": "1.5.0",
            "_view_name": "HTMLView",
            "description": "",
            "description_tooltip": null,
            "layout": "IPY_MODEL_c9b3b0d87fd248d2b5bb83191c69e5ec",
            "placeholder": "​",
            "style": "IPY_MODEL_3b22bcbeaa5148aab7ec050ad1e17dd8",
            "value": " 1/1 [00:00&lt;00:00, 30.22it/s]"
          }
        },
        "9b06d8b891224418b46240dc9f2fc3c2": {
          "model_module": "@jupyter-widgets/base",
          "model_name": "LayoutModel",
          "model_module_version": "1.2.0",
          "state": {
            "_model_module": "@jupyter-widgets/base",
            "_model_module_version": "1.2.0",
            "_model_name": "LayoutModel",
            "_view_count": null,
            "_view_module": "@jupyter-widgets/base",
            "_view_module_version": "1.2.0",
            "_view_name": "LayoutView",
            "align_content": null,
            "align_items": null,
            "align_self": null,
            "border": null,
            "bottom": null,
            "display": null,
            "flex": null,
            "flex_flow": null,
            "grid_area": null,
            "grid_auto_columns": null,
            "grid_auto_flow": null,
            "grid_auto_rows": null,
            "grid_column": null,
            "grid_gap": null,
            "grid_row": null,
            "grid_template_areas": null,
            "grid_template_columns": null,
            "grid_template_rows": null,
            "height": null,
            "justify_content": null,
            "justify_items": null,
            "left": null,
            "margin": null,
            "max_height": null,
            "max_width": null,
            "min_height": null,
            "min_width": null,
            "object_fit": null,
            "object_position": null,
            "order": null,
            "overflow": null,
            "overflow_x": null,
            "overflow_y": null,
            "padding": null,
            "right": null,
            "top": null,
            "visibility": null,
            "width": null
          }
        },
        "839d8ddef81e4f7e85db6320ca0d7920": {
          "model_module": "@jupyter-widgets/base",
          "model_name": "LayoutModel",
          "model_module_version": "1.2.0",
          "state": {
            "_model_module": "@jupyter-widgets/base",
            "_model_module_version": "1.2.0",
            "_model_name": "LayoutModel",
            "_view_count": null,
            "_view_module": "@jupyter-widgets/base",
            "_view_module_version": "1.2.0",
            "_view_name": "LayoutView",
            "align_content": null,
            "align_items": null,
            "align_self": null,
            "border": null,
            "bottom": null,
            "display": null,
            "flex": null,
            "flex_flow": null,
            "grid_area": null,
            "grid_auto_columns": null,
            "grid_auto_flow": null,
            "grid_auto_rows": null,
            "grid_column": null,
            "grid_gap": null,
            "grid_row": null,
            "grid_template_areas": null,
            "grid_template_columns": null,
            "grid_template_rows": null,
            "height": null,
            "justify_content": null,
            "justify_items": null,
            "left": null,
            "margin": null,
            "max_height": null,
            "max_width": null,
            "min_height": null,
            "min_width": null,
            "object_fit": null,
            "object_position": null,
            "order": null,
            "overflow": null,
            "overflow_x": null,
            "overflow_y": null,
            "padding": null,
            "right": null,
            "top": null,
            "visibility": null,
            "width": null
          }
        },
        "08b78d545def4744bc8929627806c2f6": {
          "model_module": "@jupyter-widgets/controls",
          "model_name": "DescriptionStyleModel",
          "model_module_version": "1.5.0",
          "state": {
            "_model_module": "@jupyter-widgets/controls",
            "_model_module_version": "1.5.0",
            "_model_name": "DescriptionStyleModel",
            "_view_count": null,
            "_view_module": "@jupyter-widgets/base",
            "_view_module_version": "1.2.0",
            "_view_name": "StyleView",
            "description_width": ""
          }
        },
        "bb180fd4fe744de6a6e646e1b991f745": {
          "model_module": "@jupyter-widgets/base",
          "model_name": "LayoutModel",
          "model_module_version": "1.2.0",
          "state": {
            "_model_module": "@jupyter-widgets/base",
            "_model_module_version": "1.2.0",
            "_model_name": "LayoutModel",
            "_view_count": null,
            "_view_module": "@jupyter-widgets/base",
            "_view_module_version": "1.2.0",
            "_view_name": "LayoutView",
            "align_content": null,
            "align_items": null,
            "align_self": null,
            "border": null,
            "bottom": null,
            "display": null,
            "flex": null,
            "flex_flow": null,
            "grid_area": null,
            "grid_auto_columns": null,
            "grid_auto_flow": null,
            "grid_auto_rows": null,
            "grid_column": null,
            "grid_gap": null,
            "grid_row": null,
            "grid_template_areas": null,
            "grid_template_columns": null,
            "grid_template_rows": null,
            "height": null,
            "justify_content": null,
            "justify_items": null,
            "left": null,
            "margin": null,
            "max_height": null,
            "max_width": null,
            "min_height": null,
            "min_width": null,
            "object_fit": null,
            "object_position": null,
            "order": null,
            "overflow": null,
            "overflow_x": null,
            "overflow_y": null,
            "padding": null,
            "right": null,
            "top": null,
            "visibility": null,
            "width": null
          }
        },
        "b45ec5b6729043f4a35b539170fca696": {
          "model_module": "@jupyter-widgets/controls",
          "model_name": "ProgressStyleModel",
          "model_module_version": "1.5.0",
          "state": {
            "_model_module": "@jupyter-widgets/controls",
            "_model_module_version": "1.5.0",
            "_model_name": "ProgressStyleModel",
            "_view_count": null,
            "_view_module": "@jupyter-widgets/base",
            "_view_module_version": "1.2.0",
            "_view_name": "StyleView",
            "bar_color": null,
            "description_width": ""
          }
        },
        "c9b3b0d87fd248d2b5bb83191c69e5ec": {
          "model_module": "@jupyter-widgets/base",
          "model_name": "LayoutModel",
          "model_module_version": "1.2.0",
          "state": {
            "_model_module": "@jupyter-widgets/base",
            "_model_module_version": "1.2.0",
            "_model_name": "LayoutModel",
            "_view_count": null,
            "_view_module": "@jupyter-widgets/base",
            "_view_module_version": "1.2.0",
            "_view_name": "LayoutView",
            "align_content": null,
            "align_items": null,
            "align_self": null,
            "border": null,
            "bottom": null,
            "display": null,
            "flex": null,
            "flex_flow": null,
            "grid_area": null,
            "grid_auto_columns": null,
            "grid_auto_flow": null,
            "grid_auto_rows": null,
            "grid_column": null,
            "grid_gap": null,
            "grid_row": null,
            "grid_template_areas": null,
            "grid_template_columns": null,
            "grid_template_rows": null,
            "height": null,
            "justify_content": null,
            "justify_items": null,
            "left": null,
            "margin": null,
            "max_height": null,
            "max_width": null,
            "min_height": null,
            "min_width": null,
            "object_fit": null,
            "object_position": null,
            "order": null,
            "overflow": null,
            "overflow_x": null,
            "overflow_y": null,
            "padding": null,
            "right": null,
            "top": null,
            "visibility": null,
            "width": null
          }
        },
        "3b22bcbeaa5148aab7ec050ad1e17dd8": {
          "model_module": "@jupyter-widgets/controls",
          "model_name": "DescriptionStyleModel",
          "model_module_version": "1.5.0",
          "state": {
            "_model_module": "@jupyter-widgets/controls",
            "_model_module_version": "1.5.0",
            "_model_name": "DescriptionStyleModel",
            "_view_count": null,
            "_view_module": "@jupyter-widgets/base",
            "_view_module_version": "1.2.0",
            "_view_name": "StyleView",
            "description_width": ""
          }
        }
      }
    }
  },
  "cells": [
    {
      "cell_type": "code",
      "source": [
        "!pip install datasets evaluate transformers[sentencepiece]\n",
        "!pip install faiss-gpu"
      ],
      "metadata": {
        "colab": {
          "base_uri": "https://localhost:8080/"
        },
        "id": "kTXR-Nm7l13G",
        "outputId": "5d044d6b-c69b-456c-ce95-7026bf13e403"
      },
      "execution_count": null,
      "outputs": [
        {
          "output_type": "stream",
          "name": "stdout",
          "text": [
            "Looking in indexes: https://pypi.org/simple, https://us-python.pkg.dev/colab-wheels/public/simple/\n",
            "Requirement already satisfied: datasets in /usr/local/lib/python3.8/dist-packages (2.10.1)\n",
            "Requirement already satisfied: evaluate in /usr/local/lib/python3.8/dist-packages (0.4.0)\n",
            "Requirement already satisfied: transformers[sentencepiece] in /usr/local/lib/python3.8/dist-packages (4.26.1)\n",
            "Requirement already satisfied: multiprocess in /usr/local/lib/python3.8/dist-packages (from datasets) (0.70.14)\n",
            "Requirement already satisfied: requests>=2.19.0 in /usr/local/lib/python3.8/dist-packages (from datasets) (2.25.1)\n",
            "Requirement already satisfied: aiohttp in /usr/local/lib/python3.8/dist-packages (from datasets) (3.8.4)\n",
            "Requirement already satisfied: pyyaml>=5.1 in /usr/local/lib/python3.8/dist-packages (from datasets) (6.0)\n",
            "Requirement already satisfied: dill<0.3.7,>=0.3.0 in /usr/local/lib/python3.8/dist-packages (from datasets) (0.3.6)\n",
            "Requirement already satisfied: huggingface-hub<1.0.0,>=0.2.0 in /usr/local/lib/python3.8/dist-packages (from datasets) (0.12.1)\n",
            "Requirement already satisfied: responses<0.19 in /usr/local/lib/python3.8/dist-packages (from datasets) (0.18.0)\n",
            "Requirement already satisfied: packaging in /usr/local/lib/python3.8/dist-packages (from datasets) (23.0)\n",
            "Requirement already satisfied: numpy>=1.17 in /usr/local/lib/python3.8/dist-packages (from datasets) (1.22.4)\n",
            "Requirement already satisfied: tqdm>=4.62.1 in /usr/local/lib/python3.8/dist-packages (from datasets) (4.64.1)\n",
            "Requirement already satisfied: xxhash in /usr/local/lib/python3.8/dist-packages (from datasets) (3.2.0)\n",
            "Requirement already satisfied: pyarrow>=6.0.0 in /usr/local/lib/python3.8/dist-packages (from datasets) (9.0.0)\n",
            "Requirement already satisfied: fsspec[http]>=2021.11.1 in /usr/local/lib/python3.8/dist-packages (from datasets) (2023.1.0)\n",
            "Requirement already satisfied: pandas in /usr/local/lib/python3.8/dist-packages (from datasets) (1.3.5)\n",
            "Requirement already satisfied: filelock in /usr/local/lib/python3.8/dist-packages (from transformers[sentencepiece]) (3.9.0)\n",
            "Requirement already satisfied: regex!=2019.12.17 in /usr/local/lib/python3.8/dist-packages (from transformers[sentencepiece]) (2022.6.2)\n",
            "Requirement already satisfied: tokenizers!=0.11.3,<0.14,>=0.11.1 in /usr/local/lib/python3.8/dist-packages (from transformers[sentencepiece]) (0.13.2)\n",
            "Requirement already satisfied: protobuf<=3.20.2 in /usr/local/lib/python3.8/dist-packages (from transformers[sentencepiece]) (3.19.6)\n",
            "Requirement already satisfied: sentencepiece!=0.1.92,>=0.1.91 in /usr/local/lib/python3.8/dist-packages (from transformers[sentencepiece]) (0.1.97)\n",
            "Requirement already satisfied: charset-normalizer<4.0,>=2.0 in /usr/local/lib/python3.8/dist-packages (from aiohttp->datasets) (3.0.1)\n",
            "Requirement already satisfied: async-timeout<5.0,>=4.0.0a3 in /usr/local/lib/python3.8/dist-packages (from aiohttp->datasets) (4.0.2)\n",
            "Requirement already satisfied: yarl<2.0,>=1.0 in /usr/local/lib/python3.8/dist-packages (from aiohttp->datasets) (1.8.2)\n",
            "Requirement already satisfied: frozenlist>=1.1.1 in /usr/local/lib/python3.8/dist-packages (from aiohttp->datasets) (1.3.3)\n",
            "Requirement already satisfied: aiosignal>=1.1.2 in /usr/local/lib/python3.8/dist-packages (from aiohttp->datasets) (1.3.1)\n",
            "Requirement already satisfied: attrs>=17.3.0 in /usr/local/lib/python3.8/dist-packages (from aiohttp->datasets) (22.2.0)\n",
            "Requirement already satisfied: multidict<7.0,>=4.5 in /usr/local/lib/python3.8/dist-packages (from aiohttp->datasets) (6.0.4)\n",
            "Requirement already satisfied: typing-extensions>=3.7.4.3 in /usr/local/lib/python3.8/dist-packages (from huggingface-hub<1.0.0,>=0.2.0->datasets) (4.5.0)\n",
            "Requirement already satisfied: idna<3,>=2.5 in /usr/local/lib/python3.8/dist-packages (from requests>=2.19.0->datasets) (2.10)\n",
            "Requirement already satisfied: urllib3<1.27,>=1.21.1 in /usr/local/lib/python3.8/dist-packages (from requests>=2.19.0->datasets) (1.26.14)\n",
            "Requirement already satisfied: certifi>=2017.4.17 in /usr/local/lib/python3.8/dist-packages (from requests>=2.19.0->datasets) (2022.12.7)\n",
            "Requirement already satisfied: chardet<5,>=3.0.2 in /usr/local/lib/python3.8/dist-packages (from requests>=2.19.0->datasets) (4.0.0)\n",
            "Requirement already satisfied: python-dateutil>=2.7.3 in /usr/local/lib/python3.8/dist-packages (from pandas->datasets) (2.8.2)\n",
            "Requirement already satisfied: pytz>=2017.3 in /usr/local/lib/python3.8/dist-packages (from pandas->datasets) (2022.7.1)\n",
            "Requirement already satisfied: six>=1.5 in /usr/local/lib/python3.8/dist-packages (from python-dateutil>=2.7.3->pandas->datasets) (1.15.0)\n",
            "Looking in indexes: https://pypi.org/simple, https://us-python.pkg.dev/colab-wheels/public/simple/\n",
            "Requirement already satisfied: faiss-gpu in /usr/local/lib/python3.8/dist-packages (1.7.2)\n"
          ]
        }
      ]
    },
    {
      "cell_type": "code",
      "source": [
        "import pandas as pd\n",
        "\n",
        "temp_df=pd.read_csv(\"ExtractedText.csv\",encoding='cp1252')\n",
        "temp_df.shape"
      ],
      "metadata": {
        "colab": {
          "base_uri": "https://localhost:8080/"
        },
        "id": "HmNUcrEluCcW",
        "outputId": "95a2dd29-b9ef-4611-817e-3a14d4a1fa26"
      },
      "execution_count": null,
      "outputs": [
        {
          "output_type": "execute_result",
          "data": {
            "text/plain": [
              "(478, 6)"
            ]
          },
          "metadata": {},
          "execution_count": 152
        }
      ]
    },
    {
      "cell_type": "code",
      "source": [
        "from datasets import load_dataset\n",
        "issues_dataset = load_dataset(\"csv\", data_files=\"ExtractedText.csv\",encoding='cp1252',split=\"train\")\n",
        "issues_dataset"
      ],
      "metadata": {
        "colab": {
          "base_uri": "https://localhost:8080/"
        },
        "id": "DGQRTWo9l2b9",
        "outputId": "eb0f44e0-e01e-4727-b6df-3598a1d40d5b"
      },
      "execution_count": null,
      "outputs": [
        {
          "output_type": "stream",
          "name": "stderr",
          "text": [
            "WARNING:datasets.builder:Found cached dataset csv (/root/.cache/huggingface/datasets/csv/default-782d47267a91c5d8/0.0.0/6b34fb8fcf56f7c8ba51dc895bfa2bfbe43546f190a60fcf74bb5e8afdcc2317)\n"
          ]
        },
        {
          "output_type": "execute_result",
          "data": {
            "text/plain": [
              "Dataset({\n",
              "    features: ['DocumentID', 'PassageID', 'Title', 'Subheading', 'Paragraph', 'URL'],\n",
              "    num_rows: 478\n",
              "})"
            ]
          },
          "metadata": {},
          "execution_count": 153
        }
      ]
    },
    {
      "cell_type": "code",
      "source": [
        "columns = issues_dataset.column_names\n",
        "columns_to_keep = ['DocumentID', 'PassageID', 'Title', 'Subheading', 'Paragraph','URL']\n",
        "columns_to_remove = set(columns_to_keep).symmetric_difference(columns)\n",
        "issues_dataset = issues_dataset.remove_columns(columns_to_remove)\n",
        "issues_dataset"
      ],
      "metadata": {
        "colab": {
          "base_uri": "https://localhost:8080/"
        },
        "id": "blZ4r7csl800",
        "outputId": "82587f89-e991-4fe2-c2e5-0a13941bb1c5"
      },
      "execution_count": null,
      "outputs": [
        {
          "output_type": "execute_result",
          "data": {
            "text/plain": [
              "Dataset({\n",
              "    features: ['DocumentID', 'PassageID', 'Title', 'Subheading', 'Paragraph', 'URL'],\n",
              "    num_rows: 478\n",
              "})"
            ]
          },
          "metadata": {},
          "execution_count": 154
        }
      ]
    },
    {
      "cell_type": "code",
      "source": [
        "issues_dataset.set_format(\"pandas\")\n",
        "df = issues_dataset[:]\n",
        "df"
      ],
      "metadata": {
        "colab": {
          "base_uri": "https://localhost:8080/",
          "height": 641
        },
        "id": "NhRVo7a9l_hi",
        "outputId": "8926cb50-8e05-4789-ea0d-54029c3df9ee"
      },
      "execution_count": null,
      "outputs": [
        {
          "output_type": "execute_result",
          "data": {
            "text/plain": [
              "     DocumentID  PassageID                                              Title  \\\n",
              "0             0          1  Anxiety Disorders  (for Parents) - Nemours Kid...   \n",
              "1             0          2  Anxiety Disorders  (for Parents) - Nemours Kid...   \n",
              "2             0          3  Anxiety Disorders  (for Parents) - Nemours Kid...   \n",
              "3             0          4  Anxiety Disorders  (for Parents) - Nemours Kid...   \n",
              "4             0          5  Anxiety Disorders  (for Parents) - Nemours Kid...   \n",
              "..          ...        ...                                                ...   \n",
              "473          88         13  23 Mom-Tested Ways to Manage a Tantrum - Motherly   \n",
              "474          88         14  23 Mom-Tested Ways to Manage a Tantrum - Motherly   \n",
              "475          88         15  23 Mom-Tested Ways to Manage a Tantrum - Motherly   \n",
              "476          88         16  23 Mom-Tested Ways to Manage a Tantrum - Motherly   \n",
              "477          88         17  23 Mom-Tested Ways to Manage a Tantrum - Motherly   \n",
              "\n",
              "                                            Subheading  \\\n",
              "0                          What Are Anxiety Disorders?   \n",
              "1             What Are the Kinds of Anxiety Disorders?   \n",
              "2            What Are the Signs & Symptoms of Anxiety?   \n",
              "3                       What Causes Anxiety Disorders?   \n",
              "4                 How Are Anxiety Disorders Diagnosed?   \n",
              "..                                                 ...   \n",
              "473                                 Toddler Milestones   \n",
              "474                                   Viral & Trending   \n",
              "475                                 Toddler Milestones   \n",
              "476  We believe in creating a world in which all mo...   \n",
              "477                                            Connect   \n",
              "\n",
              "                                             Paragraph  \\\n",
              "0    Anxiety disorders cause extreme fear and worry...   \n",
              "1    Different anxiety disorders can affect kids an...   \n",
              "2    A parent or teacher may see signs that a child...   \n",
              "3    Several things play a role in causing the over...   \n",
              "4    Anxiety disorders can be diagnosed by a traine...   \n",
              "..                                                 ...   \n",
              "473  20. “We blow bubbles to calm [them] down and r...   \n",
              "474  21. “I’ve learned it’s different for each chil...   \n",
              "475                             Related Stories          \n",
              "476  Contact Us P: Advertise with Us P: Share Your ...   \n",
              "477  Our Story P: Diversity Commitment P: Careers A...   \n",
              "\n",
              "                                                   URL  \n",
              "0    https://kidshealth.org/en/parents/anxiety-diso...  \n",
              "1    https://kidshealth.org/en/parents/anxiety-diso...  \n",
              "2    https://kidshealth.org/en/parents/anxiety-diso...  \n",
              "3    https://kidshealth.org/en/parents/anxiety-diso...  \n",
              "4    https://kidshealth.org/en/parents/anxiety-diso...  \n",
              "..                                                 ...  \n",
              "473  https://www.mother.ly/toddler/toddler-mileston...  \n",
              "474  https://www.mother.ly/toddler/toddler-mileston...  \n",
              "475  https://www.mother.ly/toddler/toddler-mileston...  \n",
              "476  https://www.mother.ly/toddler/toddler-mileston...  \n",
              "477  https://www.mother.ly/toddler/toddler-mileston...  \n",
              "\n",
              "[478 rows x 6 columns]"
            ],
            "text/html": [
              "\n",
              "  <div id=\"df-ec18adf5-cf54-4d29-9ea8-d915e24f3009\">\n",
              "    <div class=\"colab-df-container\">\n",
              "      <div>\n",
              "<style scoped>\n",
              "    .dataframe tbody tr th:only-of-type {\n",
              "        vertical-align: middle;\n",
              "    }\n",
              "\n",
              "    .dataframe tbody tr th {\n",
              "        vertical-align: top;\n",
              "    }\n",
              "\n",
              "    .dataframe thead th {\n",
              "        text-align: right;\n",
              "    }\n",
              "</style>\n",
              "<table border=\"1\" class=\"dataframe\">\n",
              "  <thead>\n",
              "    <tr style=\"text-align: right;\">\n",
              "      <th></th>\n",
              "      <th>DocumentID</th>\n",
              "      <th>PassageID</th>\n",
              "      <th>Title</th>\n",
              "      <th>Subheading</th>\n",
              "      <th>Paragraph</th>\n",
              "      <th>URL</th>\n",
              "    </tr>\n",
              "  </thead>\n",
              "  <tbody>\n",
              "    <tr>\n",
              "      <th>0</th>\n",
              "      <td>0</td>\n",
              "      <td>1</td>\n",
              "      <td>Anxiety Disorders  (for Parents) - Nemours Kid...</td>\n",
              "      <td>What Are Anxiety Disorders?</td>\n",
              "      <td>Anxiety disorders cause extreme fear and worry...</td>\n",
              "      <td>https://kidshealth.org/en/parents/anxiety-diso...</td>\n",
              "    </tr>\n",
              "    <tr>\n",
              "      <th>1</th>\n",
              "      <td>0</td>\n",
              "      <td>2</td>\n",
              "      <td>Anxiety Disorders  (for Parents) - Nemours Kid...</td>\n",
              "      <td>What Are the Kinds of Anxiety Disorders?</td>\n",
              "      <td>Different anxiety disorders can affect kids an...</td>\n",
              "      <td>https://kidshealth.org/en/parents/anxiety-diso...</td>\n",
              "    </tr>\n",
              "    <tr>\n",
              "      <th>2</th>\n",
              "      <td>0</td>\n",
              "      <td>3</td>\n",
              "      <td>Anxiety Disorders  (for Parents) - Nemours Kid...</td>\n",
              "      <td>What Are the Signs &amp; Symptoms of Anxiety?</td>\n",
              "      <td>A parent or teacher may see signs that a child...</td>\n",
              "      <td>https://kidshealth.org/en/parents/anxiety-diso...</td>\n",
              "    </tr>\n",
              "    <tr>\n",
              "      <th>3</th>\n",
              "      <td>0</td>\n",
              "      <td>4</td>\n",
              "      <td>Anxiety Disorders  (for Parents) - Nemours Kid...</td>\n",
              "      <td>What Causes Anxiety Disorders?</td>\n",
              "      <td>Several things play a role in causing the over...</td>\n",
              "      <td>https://kidshealth.org/en/parents/anxiety-diso...</td>\n",
              "    </tr>\n",
              "    <tr>\n",
              "      <th>4</th>\n",
              "      <td>0</td>\n",
              "      <td>5</td>\n",
              "      <td>Anxiety Disorders  (for Parents) - Nemours Kid...</td>\n",
              "      <td>How Are Anxiety Disorders Diagnosed?</td>\n",
              "      <td>Anxiety disorders can be diagnosed by a traine...</td>\n",
              "      <td>https://kidshealth.org/en/parents/anxiety-diso...</td>\n",
              "    </tr>\n",
              "    <tr>\n",
              "      <th>...</th>\n",
              "      <td>...</td>\n",
              "      <td>...</td>\n",
              "      <td>...</td>\n",
              "      <td>...</td>\n",
              "      <td>...</td>\n",
              "      <td>...</td>\n",
              "    </tr>\n",
              "    <tr>\n",
              "      <th>473</th>\n",
              "      <td>88</td>\n",
              "      <td>13</td>\n",
              "      <td>23 Mom-Tested Ways to Manage a Tantrum - Motherly</td>\n",
              "      <td>Toddler Milestones</td>\n",
              "      <td>20. “We blow bubbles to calm [them] down and r...</td>\n",
              "      <td>https://www.mother.ly/toddler/toddler-mileston...</td>\n",
              "    </tr>\n",
              "    <tr>\n",
              "      <th>474</th>\n",
              "      <td>88</td>\n",
              "      <td>14</td>\n",
              "      <td>23 Mom-Tested Ways to Manage a Tantrum - Motherly</td>\n",
              "      <td>Viral &amp; Trending</td>\n",
              "      <td>21. “I’ve learned it’s different for each chil...</td>\n",
              "      <td>https://www.mother.ly/toddler/toddler-mileston...</td>\n",
              "    </tr>\n",
              "    <tr>\n",
              "      <th>475</th>\n",
              "      <td>88</td>\n",
              "      <td>15</td>\n",
              "      <td>23 Mom-Tested Ways to Manage a Tantrum - Motherly</td>\n",
              "      <td>Toddler Milestones</td>\n",
              "      <td>Related Stories</td>\n",
              "      <td>https://www.mother.ly/toddler/toddler-mileston...</td>\n",
              "    </tr>\n",
              "    <tr>\n",
              "      <th>476</th>\n",
              "      <td>88</td>\n",
              "      <td>16</td>\n",
              "      <td>23 Mom-Tested Ways to Manage a Tantrum - Motherly</td>\n",
              "      <td>We believe in creating a world in which all mo...</td>\n",
              "      <td>Contact Us P: Advertise with Us P: Share Your ...</td>\n",
              "      <td>https://www.mother.ly/toddler/toddler-mileston...</td>\n",
              "    </tr>\n",
              "    <tr>\n",
              "      <th>477</th>\n",
              "      <td>88</td>\n",
              "      <td>17</td>\n",
              "      <td>23 Mom-Tested Ways to Manage a Tantrum - Motherly</td>\n",
              "      <td>Connect</td>\n",
              "      <td>Our Story P: Diversity Commitment P: Careers A...</td>\n",
              "      <td>https://www.mother.ly/toddler/toddler-mileston...</td>\n",
              "    </tr>\n",
              "  </tbody>\n",
              "</table>\n",
              "<p>478 rows × 6 columns</p>\n",
              "</div>\n",
              "      <button class=\"colab-df-convert\" onclick=\"convertToInteractive('df-ec18adf5-cf54-4d29-9ea8-d915e24f3009')\"\n",
              "              title=\"Convert this dataframe to an interactive table.\"\n",
              "              style=\"display:none;\">\n",
              "        \n",
              "  <svg xmlns=\"http://www.w3.org/2000/svg\" height=\"24px\"viewBox=\"0 0 24 24\"\n",
              "       width=\"24px\">\n",
              "    <path d=\"M0 0h24v24H0V0z\" fill=\"none\"/>\n",
              "    <path d=\"M18.56 5.44l.94 2.06.94-2.06 2.06-.94-2.06-.94-.94-2.06-.94 2.06-2.06.94zm-11 1L8.5 8.5l.94-2.06 2.06-.94-2.06-.94L8.5 2.5l-.94 2.06-2.06.94zm10 10l.94 2.06.94-2.06 2.06-.94-2.06-.94-.94-2.06-.94 2.06-2.06.94z\"/><path d=\"M17.41 7.96l-1.37-1.37c-.4-.4-.92-.59-1.43-.59-.52 0-1.04.2-1.43.59L10.3 9.45l-7.72 7.72c-.78.78-.78 2.05 0 2.83L4 21.41c.39.39.9.59 1.41.59.51 0 1.02-.2 1.41-.59l7.78-7.78 2.81-2.81c.8-.78.8-2.07 0-2.86zM5.41 20L4 18.59l7.72-7.72 1.47 1.35L5.41 20z\"/>\n",
              "  </svg>\n",
              "      </button>\n",
              "      \n",
              "  <style>\n",
              "    .colab-df-container {\n",
              "      display:flex;\n",
              "      flex-wrap:wrap;\n",
              "      gap: 12px;\n",
              "    }\n",
              "\n",
              "    .colab-df-convert {\n",
              "      background-color: #E8F0FE;\n",
              "      border: none;\n",
              "      border-radius: 50%;\n",
              "      cursor: pointer;\n",
              "      display: none;\n",
              "      fill: #1967D2;\n",
              "      height: 32px;\n",
              "      padding: 0 0 0 0;\n",
              "      width: 32px;\n",
              "    }\n",
              "\n",
              "    .colab-df-convert:hover {\n",
              "      background-color: #E2EBFA;\n",
              "      box-shadow: 0px 1px 2px rgba(60, 64, 67, 0.3), 0px 1px 3px 1px rgba(60, 64, 67, 0.15);\n",
              "      fill: #174EA6;\n",
              "    }\n",
              "\n",
              "    [theme=dark] .colab-df-convert {\n",
              "      background-color: #3B4455;\n",
              "      fill: #D2E3FC;\n",
              "    }\n",
              "\n",
              "    [theme=dark] .colab-df-convert:hover {\n",
              "      background-color: #434B5C;\n",
              "      box-shadow: 0px 1px 3px 1px rgba(0, 0, 0, 0.15);\n",
              "      filter: drop-shadow(0px 1px 2px rgba(0, 0, 0, 0.3));\n",
              "      fill: #FFFFFF;\n",
              "    }\n",
              "  </style>\n",
              "\n",
              "      <script>\n",
              "        const buttonEl =\n",
              "          document.querySelector('#df-ec18adf5-cf54-4d29-9ea8-d915e24f3009 button.colab-df-convert');\n",
              "        buttonEl.style.display =\n",
              "          google.colab.kernel.accessAllowed ? 'block' : 'none';\n",
              "\n",
              "        async function convertToInteractive(key) {\n",
              "          const element = document.querySelector('#df-ec18adf5-cf54-4d29-9ea8-d915e24f3009');\n",
              "          const dataTable =\n",
              "            await google.colab.kernel.invokeFunction('convertToInteractive',\n",
              "                                                     [key], {});\n",
              "          if (!dataTable) return;\n",
              "\n",
              "          const docLinkHtml = 'Like what you see? Visit the ' +\n",
              "            '<a target=\"_blank\" href=https://colab.research.google.com/notebooks/data_table.ipynb>data table notebook</a>'\n",
              "            + ' to learn more about interactive tables.';\n",
              "          element.innerHTML = '';\n",
              "          dataTable['output_type'] = 'display_data';\n",
              "          await google.colab.output.renderOutput(dataTable, element);\n",
              "          const docLink = document.createElement('div');\n",
              "          docLink.innerHTML = docLinkHtml;\n",
              "          element.appendChild(docLink);\n",
              "        }\n",
              "      </script>\n",
              "    </div>\n",
              "  </div>\n",
              "  "
            ]
          },
          "metadata": {},
          "execution_count": 155
        }
      ]
    },
    {
      "cell_type": "code",
      "source": [
        "#Rows that had issue, we delete them\n",
        "l=[0,37,215,249,257,258]\n",
        "df = df.drop(labels=l, axis=0)\n",
        "df"
      ],
      "metadata": {
        "colab": {
          "base_uri": "https://localhost:8080/",
          "height": 641
        },
        "id": "u7_1XkkfmBwD",
        "outputId": "e96cb452-1f7d-491c-f44e-5bc4109fe55a"
      },
      "execution_count": null,
      "outputs": [
        {
          "output_type": "execute_result",
          "data": {
            "text/plain": [
              "     DocumentID  PassageID                                              Title  \\\n",
              "1             0          2  Anxiety Disorders  (for Parents) - Nemours Kid...   \n",
              "2             0          3  Anxiety Disorders  (for Parents) - Nemours Kid...   \n",
              "3             0          4  Anxiety Disorders  (for Parents) - Nemours Kid...   \n",
              "4             0          5  Anxiety Disorders  (for Parents) - Nemours Kid...   \n",
              "5             0          6  Anxiety Disorders  (for Parents) - Nemours Kid...   \n",
              "..          ...        ...                                                ...   \n",
              "473          88         13  23 Mom-Tested Ways to Manage a Tantrum - Motherly   \n",
              "474          88         14  23 Mom-Tested Ways to Manage a Tantrum - Motherly   \n",
              "475          88         15  23 Mom-Tested Ways to Manage a Tantrum - Motherly   \n",
              "476          88         16  23 Mom-Tested Ways to Manage a Tantrum - Motherly   \n",
              "477          88         17  23 Mom-Tested Ways to Manage a Tantrum - Motherly   \n",
              "\n",
              "                                            Subheading  \\\n",
              "1             What Are the Kinds of Anxiety Disorders?   \n",
              "2            What Are the Signs & Symptoms of Anxiety?   \n",
              "3                       What Causes Anxiety Disorders?   \n",
              "4                 How Are Anxiety Disorders Diagnosed?   \n",
              "5                   How Are Anxiety Disorders Treated?   \n",
              "..                                                 ...   \n",
              "473                                 Toddler Milestones   \n",
              "474                                   Viral & Trending   \n",
              "475                                 Toddler Milestones   \n",
              "476  We believe in creating a world in which all mo...   \n",
              "477                                            Connect   \n",
              "\n",
              "                                             Paragraph  \\\n",
              "1    Different anxiety disorders can affect kids an...   \n",
              "2    A parent or teacher may see signs that a child...   \n",
              "3    Several things play a role in causing the over...   \n",
              "4    Anxiety disorders can be diagnosed by a traine...   \n",
              "5    Most often, anxiety disorders are treated with...   \n",
              "..                                                 ...   \n",
              "473  20. “We blow bubbles to calm [them] down and r...   \n",
              "474  21. “I’ve learned it’s different for each chil...   \n",
              "475                             Related Stories          \n",
              "476  Contact Us P: Advertise with Us P: Share Your ...   \n",
              "477  Our Story P: Diversity Commitment P: Careers A...   \n",
              "\n",
              "                                                   URL  \n",
              "1    https://kidshealth.org/en/parents/anxiety-diso...  \n",
              "2    https://kidshealth.org/en/parents/anxiety-diso...  \n",
              "3    https://kidshealth.org/en/parents/anxiety-diso...  \n",
              "4    https://kidshealth.org/en/parents/anxiety-diso...  \n",
              "5    https://kidshealth.org/en/parents/anxiety-diso...  \n",
              "..                                                 ...  \n",
              "473  https://www.mother.ly/toddler/toddler-mileston...  \n",
              "474  https://www.mother.ly/toddler/toddler-mileston...  \n",
              "475  https://www.mother.ly/toddler/toddler-mileston...  \n",
              "476  https://www.mother.ly/toddler/toddler-mileston...  \n",
              "477  https://www.mother.ly/toddler/toddler-mileston...  \n",
              "\n",
              "[472 rows x 6 columns]"
            ],
            "text/html": [
              "\n",
              "  <div id=\"df-fcc7e83f-f3ac-401d-a132-77230e188d95\">\n",
              "    <div class=\"colab-df-container\">\n",
              "      <div>\n",
              "<style scoped>\n",
              "    .dataframe tbody tr th:only-of-type {\n",
              "        vertical-align: middle;\n",
              "    }\n",
              "\n",
              "    .dataframe tbody tr th {\n",
              "        vertical-align: top;\n",
              "    }\n",
              "\n",
              "    .dataframe thead th {\n",
              "        text-align: right;\n",
              "    }\n",
              "</style>\n",
              "<table border=\"1\" class=\"dataframe\">\n",
              "  <thead>\n",
              "    <tr style=\"text-align: right;\">\n",
              "      <th></th>\n",
              "      <th>DocumentID</th>\n",
              "      <th>PassageID</th>\n",
              "      <th>Title</th>\n",
              "      <th>Subheading</th>\n",
              "      <th>Paragraph</th>\n",
              "      <th>URL</th>\n",
              "    </tr>\n",
              "  </thead>\n",
              "  <tbody>\n",
              "    <tr>\n",
              "      <th>1</th>\n",
              "      <td>0</td>\n",
              "      <td>2</td>\n",
              "      <td>Anxiety Disorders  (for Parents) - Nemours Kid...</td>\n",
              "      <td>What Are the Kinds of Anxiety Disorders?</td>\n",
              "      <td>Different anxiety disorders can affect kids an...</td>\n",
              "      <td>https://kidshealth.org/en/parents/anxiety-diso...</td>\n",
              "    </tr>\n",
              "    <tr>\n",
              "      <th>2</th>\n",
              "      <td>0</td>\n",
              "      <td>3</td>\n",
              "      <td>Anxiety Disorders  (for Parents) - Nemours Kid...</td>\n",
              "      <td>What Are the Signs &amp; Symptoms of Anxiety?</td>\n",
              "      <td>A parent or teacher may see signs that a child...</td>\n",
              "      <td>https://kidshealth.org/en/parents/anxiety-diso...</td>\n",
              "    </tr>\n",
              "    <tr>\n",
              "      <th>3</th>\n",
              "      <td>0</td>\n",
              "      <td>4</td>\n",
              "      <td>Anxiety Disorders  (for Parents) - Nemours Kid...</td>\n",
              "      <td>What Causes Anxiety Disorders?</td>\n",
              "      <td>Several things play a role in causing the over...</td>\n",
              "      <td>https://kidshealth.org/en/parents/anxiety-diso...</td>\n",
              "    </tr>\n",
              "    <tr>\n",
              "      <th>4</th>\n",
              "      <td>0</td>\n",
              "      <td>5</td>\n",
              "      <td>Anxiety Disorders  (for Parents) - Nemours Kid...</td>\n",
              "      <td>How Are Anxiety Disorders Diagnosed?</td>\n",
              "      <td>Anxiety disorders can be diagnosed by a traine...</td>\n",
              "      <td>https://kidshealth.org/en/parents/anxiety-diso...</td>\n",
              "    </tr>\n",
              "    <tr>\n",
              "      <th>5</th>\n",
              "      <td>0</td>\n",
              "      <td>6</td>\n",
              "      <td>Anxiety Disorders  (for Parents) - Nemours Kid...</td>\n",
              "      <td>How Are Anxiety Disorders Treated?</td>\n",
              "      <td>Most often, anxiety disorders are treated with...</td>\n",
              "      <td>https://kidshealth.org/en/parents/anxiety-diso...</td>\n",
              "    </tr>\n",
              "    <tr>\n",
              "      <th>...</th>\n",
              "      <td>...</td>\n",
              "      <td>...</td>\n",
              "      <td>...</td>\n",
              "      <td>...</td>\n",
              "      <td>...</td>\n",
              "      <td>...</td>\n",
              "    </tr>\n",
              "    <tr>\n",
              "      <th>473</th>\n",
              "      <td>88</td>\n",
              "      <td>13</td>\n",
              "      <td>23 Mom-Tested Ways to Manage a Tantrum - Motherly</td>\n",
              "      <td>Toddler Milestones</td>\n",
              "      <td>20. “We blow bubbles to calm [them] down and r...</td>\n",
              "      <td>https://www.mother.ly/toddler/toddler-mileston...</td>\n",
              "    </tr>\n",
              "    <tr>\n",
              "      <th>474</th>\n",
              "      <td>88</td>\n",
              "      <td>14</td>\n",
              "      <td>23 Mom-Tested Ways to Manage a Tantrum - Motherly</td>\n",
              "      <td>Viral &amp; Trending</td>\n",
              "      <td>21. “I’ve learned it’s different for each chil...</td>\n",
              "      <td>https://www.mother.ly/toddler/toddler-mileston...</td>\n",
              "    </tr>\n",
              "    <tr>\n",
              "      <th>475</th>\n",
              "      <td>88</td>\n",
              "      <td>15</td>\n",
              "      <td>23 Mom-Tested Ways to Manage a Tantrum - Motherly</td>\n",
              "      <td>Toddler Milestones</td>\n",
              "      <td>Related Stories</td>\n",
              "      <td>https://www.mother.ly/toddler/toddler-mileston...</td>\n",
              "    </tr>\n",
              "    <tr>\n",
              "      <th>476</th>\n",
              "      <td>88</td>\n",
              "      <td>16</td>\n",
              "      <td>23 Mom-Tested Ways to Manage a Tantrum - Motherly</td>\n",
              "      <td>We believe in creating a world in which all mo...</td>\n",
              "      <td>Contact Us P: Advertise with Us P: Share Your ...</td>\n",
              "      <td>https://www.mother.ly/toddler/toddler-mileston...</td>\n",
              "    </tr>\n",
              "    <tr>\n",
              "      <th>477</th>\n",
              "      <td>88</td>\n",
              "      <td>17</td>\n",
              "      <td>23 Mom-Tested Ways to Manage a Tantrum - Motherly</td>\n",
              "      <td>Connect</td>\n",
              "      <td>Our Story P: Diversity Commitment P: Careers A...</td>\n",
              "      <td>https://www.mother.ly/toddler/toddler-mileston...</td>\n",
              "    </tr>\n",
              "  </tbody>\n",
              "</table>\n",
              "<p>472 rows × 6 columns</p>\n",
              "</div>\n",
              "      <button class=\"colab-df-convert\" onclick=\"convertToInteractive('df-fcc7e83f-f3ac-401d-a132-77230e188d95')\"\n",
              "              title=\"Convert this dataframe to an interactive table.\"\n",
              "              style=\"display:none;\">\n",
              "        \n",
              "  <svg xmlns=\"http://www.w3.org/2000/svg\" height=\"24px\"viewBox=\"0 0 24 24\"\n",
              "       width=\"24px\">\n",
              "    <path d=\"M0 0h24v24H0V0z\" fill=\"none\"/>\n",
              "    <path d=\"M18.56 5.44l.94 2.06.94-2.06 2.06-.94-2.06-.94-.94-2.06-.94 2.06-2.06.94zm-11 1L8.5 8.5l.94-2.06 2.06-.94-2.06-.94L8.5 2.5l-.94 2.06-2.06.94zm10 10l.94 2.06.94-2.06 2.06-.94-2.06-.94-.94-2.06-.94 2.06-2.06.94z\"/><path d=\"M17.41 7.96l-1.37-1.37c-.4-.4-.92-.59-1.43-.59-.52 0-1.04.2-1.43.59L10.3 9.45l-7.72 7.72c-.78.78-.78 2.05 0 2.83L4 21.41c.39.39.9.59 1.41.59.51 0 1.02-.2 1.41-.59l7.78-7.78 2.81-2.81c.8-.78.8-2.07 0-2.86zM5.41 20L4 18.59l7.72-7.72 1.47 1.35L5.41 20z\"/>\n",
              "  </svg>\n",
              "      </button>\n",
              "      \n",
              "  <style>\n",
              "    .colab-df-container {\n",
              "      display:flex;\n",
              "      flex-wrap:wrap;\n",
              "      gap: 12px;\n",
              "    }\n",
              "\n",
              "    .colab-df-convert {\n",
              "      background-color: #E8F0FE;\n",
              "      border: none;\n",
              "      border-radius: 50%;\n",
              "      cursor: pointer;\n",
              "      display: none;\n",
              "      fill: #1967D2;\n",
              "      height: 32px;\n",
              "      padding: 0 0 0 0;\n",
              "      width: 32px;\n",
              "    }\n",
              "\n",
              "    .colab-df-convert:hover {\n",
              "      background-color: #E2EBFA;\n",
              "      box-shadow: 0px 1px 2px rgba(60, 64, 67, 0.3), 0px 1px 3px 1px rgba(60, 64, 67, 0.15);\n",
              "      fill: #174EA6;\n",
              "    }\n",
              "\n",
              "    [theme=dark] .colab-df-convert {\n",
              "      background-color: #3B4455;\n",
              "      fill: #D2E3FC;\n",
              "    }\n",
              "\n",
              "    [theme=dark] .colab-df-convert:hover {\n",
              "      background-color: #434B5C;\n",
              "      box-shadow: 0px 1px 3px 1px rgba(0, 0, 0, 0.15);\n",
              "      filter: drop-shadow(0px 1px 2px rgba(0, 0, 0, 0.3));\n",
              "      fill: #FFFFFF;\n",
              "    }\n",
              "  </style>\n",
              "\n",
              "      <script>\n",
              "        const buttonEl =\n",
              "          document.querySelector('#df-fcc7e83f-f3ac-401d-a132-77230e188d95 button.colab-df-convert');\n",
              "        buttonEl.style.display =\n",
              "          google.colab.kernel.accessAllowed ? 'block' : 'none';\n",
              "\n",
              "        async function convertToInteractive(key) {\n",
              "          const element = document.querySelector('#df-fcc7e83f-f3ac-401d-a132-77230e188d95');\n",
              "          const dataTable =\n",
              "            await google.colab.kernel.invokeFunction('convertToInteractive',\n",
              "                                                     [key], {});\n",
              "          if (!dataTable) return;\n",
              "\n",
              "          const docLinkHtml = 'Like what you see? Visit the ' +\n",
              "            '<a target=\"_blank\" href=https://colab.research.google.com/notebooks/data_table.ipynb>data table notebook</a>'\n",
              "            + ' to learn more about interactive tables.';\n",
              "          element.innerHTML = '';\n",
              "          dataTable['output_type'] = 'display_data';\n",
              "          await google.colab.output.renderOutput(dataTable, element);\n",
              "          const docLink = document.createElement('div');\n",
              "          docLink.innerHTML = docLinkHtml;\n",
              "          element.appendChild(docLink);\n",
              "        }\n",
              "      </script>\n",
              "    </div>\n",
              "  </div>\n",
              "  "
            ]
          },
          "metadata": {},
          "execution_count": 156
        }
      ]
    },
    {
      "cell_type": "code",
      "source": [
        "df.shape"
      ],
      "metadata": {
        "colab": {
          "base_uri": "https://localhost:8080/"
        },
        "id": "tj5dNidTmEyk",
        "outputId": "d4078249-04b1-4943-bfba-8f2773780a76"
      },
      "execution_count": null,
      "outputs": [
        {
          "output_type": "execute_result",
          "data": {
            "text/plain": [
              "(472, 6)"
            ]
          },
          "metadata": {},
          "execution_count": 157
        }
      ]
    },
    {
      "cell_type": "code",
      "source": [
        "from datasets import Dataset\n",
        "\n",
        "comments_dataset = Dataset.from_pandas(df)\n",
        "comments_dataset"
      ],
      "metadata": {
        "colab": {
          "base_uri": "https://localhost:8080/"
        },
        "id": "VfndWGBqmHBN",
        "outputId": "7209bdb2-e1f3-4bcd-b3d8-0f6e0829b368"
      },
      "execution_count": null,
      "outputs": [
        {
          "output_type": "execute_result",
          "data": {
            "text/plain": [
              "Dataset({\n",
              "    features: ['DocumentID', 'PassageID', 'Title', 'Subheading', 'Paragraph', 'URL', '__index_level_0__'],\n",
              "    num_rows: 472\n",
              "})"
            ]
          },
          "metadata": {},
          "execution_count": 158
        }
      ]
    },
    {
      "cell_type": "code",
      "source": [
        "def concatenate_text(examples):\n",
        "    return {\n",
        "        \"text\": examples[\"Title\"]\n",
        "        + \" \\n \"\n",
        "        + examples[\"Subheading\"]\n",
        "        + \" \\n \"\n",
        "        + examples[\"Paragraph\"]\n",
        "    }\n",
        "\n",
        "\n",
        "comments_dataset = comments_dataset.map(concatenate_text)"
      ],
      "metadata": {
        "colab": {
          "base_uri": "https://localhost:8080/",
          "height": 17,
          "referenced_widgets": [
            "770c8b7a03ac45f68248140a41ab5733",
            "0feb5c515c1042abb95e3ce5265885a3",
            "830634bf8cea4f97b0d157b575cd5775",
            "a91fddb3f7c744d48f2d0159ac4a08ad",
            "0f9e76597fb84198b79e4e309019e95f",
            "d3c580376f04443692aff584447e0082",
            "f55da08887774cf4b493698c21b4f3a5",
            "1294d1730fbb4a6d8875d98f30137d39",
            "4e3799665079482db6b488da344e6981",
            "7c99d3c2658045cb9ed83635d6830c6a",
            "3837499b1bd24316b69210f9ed868027"
          ]
        },
        "id": "L5VK-Z6mmIov",
        "outputId": "d8c4cd5f-bd24-4bc0-db8b-046fe9124704"
      },
      "execution_count": null,
      "outputs": [
        {
          "output_type": "display_data",
          "data": {
            "text/plain": [
              "Map:   0%|          | 0/472 [00:00<?, ? examples/s]"
            ],
            "application/vnd.jupyter.widget-view+json": {
              "version_major": 2,
              "version_minor": 0,
              "model_id": "770c8b7a03ac45f68248140a41ab5733"
            }
          },
          "metadata": {}
        }
      ]
    },
    {
      "cell_type": "code",
      "source": [
        "comments_dataset"
      ],
      "metadata": {
        "colab": {
          "base_uri": "https://localhost:8080/"
        },
        "id": "nzKtfa9GmKES",
        "outputId": "08b93159-918c-4cab-bbef-f8e26857fa12"
      },
      "execution_count": null,
      "outputs": [
        {
          "output_type": "execute_result",
          "data": {
            "text/plain": [
              "Dataset({\n",
              "    features: ['DocumentID', 'PassageID', 'Title', 'Subheading', 'Paragraph', 'URL', '__index_level_0__', 'text'],\n",
              "    num_rows: 472\n",
              "})"
            ]
          },
          "metadata": {},
          "execution_count": 160
        }
      ]
    },
    {
      "cell_type": "code",
      "source": [
        "columns = comments_dataset.column_names\n",
        "columns_to_keep = [\"DocumentID\",\"Title\",\"URL\"]\n",
        "columns_to_remove = set(columns_to_keep).symmetric_difference(columns)\n",
        "document_Dataset = comments_dataset.remove_columns(columns_to_remove)\n",
        "document_Dataset"
      ],
      "metadata": {
        "colab": {
          "base_uri": "https://localhost:8080/"
        },
        "id": "N8IUOK9IumBy",
        "outputId": "4bd012b7-5f96-40e5-a577-6da77d5ede58"
      },
      "execution_count": null,
      "outputs": [
        {
          "output_type": "execute_result",
          "data": {
            "text/plain": [
              "Dataset({\n",
              "    features: ['DocumentID', 'Title', 'URL'],\n",
              "    num_rows: 472\n",
              "})"
            ]
          },
          "metadata": {},
          "execution_count": 161
        }
      ]
    },
    {
      "cell_type": "code",
      "source": [
        "columns = comments_dataset.column_names\n",
        "columns_to_keep = [\"Title\", \"Subheading\", \"Paragraph\",\"URL\",\"text\"]\n",
        "columns_to_remove = set(columns_to_keep).symmetric_difference(columns)\n",
        "comments_dataset = comments_dataset.remove_columns(columns_to_remove)\n",
        "comments_dataset"
      ],
      "metadata": {
        "colab": {
          "base_uri": "https://localhost:8080/"
        },
        "id": "-KYkAHfkmLxj",
        "outputId": "e89b2c33-d909-4c5b-ca95-935955463acc"
      },
      "execution_count": null,
      "outputs": [
        {
          "output_type": "execute_result",
          "data": {
            "text/plain": [
              "Dataset({\n",
              "    features: ['Title', 'Subheading', 'Paragraph', 'URL', 'text'],\n",
              "    num_rows: 472\n",
              "})"
            ]
          },
          "metadata": {},
          "execution_count": 162
        }
      ]
    },
    {
      "cell_type": "markdown",
      "source": [
        "Here we are cleaning, that is removing P: and spaces in the rows."
      ],
      "metadata": {
        "id": "1I84159Bu2iZ"
      }
    },
    {
      "cell_type": "code",
      "source": [
        "comments_dataset.set_format(\"pandas\")\n",
        "temp_df = comments_dataset[:]"
      ],
      "metadata": {
        "id": "F-wa-fXMu05N"
      },
      "execution_count": null,
      "outputs": []
    },
    {
      "cell_type": "code",
      "source": [
        "index_removal=[]\n",
        "for i in range(472):\n",
        "  temp_df['text'][i] = temp_df['text'][i].strip().replace(\"P:\",\"\")\n",
        "\n",
        "for i in range(472):\n",
        "  temp_df['Paragraph'][i] = temp_df['Paragraph'][i].strip().replace(\"P:\",\"\")\n",
        "  if len(temp_df['Paragraph'][i])<10:\n",
        "    index_removal.append(i)\n",
        "  "
      ],
      "metadata": {
        "id": "AHDVAWERvUOW"
      },
      "execution_count": null,
      "outputs": []
    },
    {
      "cell_type": "code",
      "source": [
        "print(index_removal)"
      ],
      "metadata": {
        "colab": {
          "base_uri": "https://localhost:8080/"
        },
        "id": "JEVamOOuVAyA",
        "outputId": "fd4ad04d-771d-4db6-cdbd-21ca1a1aa06b"
      },
      "execution_count": null,
      "outputs": [
        {
          "output_type": "stream",
          "name": "stdout",
          "text": [
            "[184, 231, 253, 294, 302, 311, 319, 327, 343, 344, 345, 346, 354, 375, 399]\n"
          ]
        }
      ]
    },
    {
      "cell_type": "code",
      "source": [
        "temp_df=temp_df.drop(index_removal)"
      ],
      "metadata": {
        "id": "490cew8fVGb3"
      },
      "execution_count": null,
      "outputs": []
    },
    {
      "cell_type": "code",
      "source": [
        "temp_df"
      ],
      "metadata": {
        "colab": {
          "base_uri": "https://localhost:8080/",
          "height": 641
        },
        "id": "4IeH6rly03fi",
        "outputId": "9f28727c-ab00-400c-9cb5-2e332ca5eeed"
      },
      "execution_count": null,
      "outputs": [
        {
          "output_type": "execute_result",
          "data": {
            "text/plain": [
              "                                                 Title  \\\n",
              "0    Anxiety Disorders  (for Parents) - Nemours Kid...   \n",
              "1    Anxiety Disorders  (for Parents) - Nemours Kid...   \n",
              "2    Anxiety Disorders  (for Parents) - Nemours Kid...   \n",
              "3    Anxiety Disorders  (for Parents) - Nemours Kid...   \n",
              "4    Anxiety Disorders  (for Parents) - Nemours Kid...   \n",
              "..                                                 ...   \n",
              "467  23 Mom-Tested Ways to Manage a Tantrum - Motherly   \n",
              "468  23 Mom-Tested Ways to Manage a Tantrum - Motherly   \n",
              "469  23 Mom-Tested Ways to Manage a Tantrum - Motherly   \n",
              "470  23 Mom-Tested Ways to Manage a Tantrum - Motherly   \n",
              "471  23 Mom-Tested Ways to Manage a Tantrum - Motherly   \n",
              "\n",
              "                                            Subheading  \\\n",
              "0             What Are the Kinds of Anxiety Disorders?   \n",
              "1            What Are the Signs & Symptoms of Anxiety?   \n",
              "2                       What Causes Anxiety Disorders?   \n",
              "3                 How Are Anxiety Disorders Diagnosed?   \n",
              "4                   How Are Anxiety Disorders Treated?   \n",
              "..                                                 ...   \n",
              "467                                 Toddler Milestones   \n",
              "468                                   Viral & Trending   \n",
              "469                                 Toddler Milestones   \n",
              "470  We believe in creating a world in which all mo...   \n",
              "471                                            Connect   \n",
              "\n",
              "                                             Paragraph  \\\n",
              "0    Different anxiety disorders can affect kids an...   \n",
              "1    A parent or teacher may see signs that a child...   \n",
              "2    Several things play a role in causing the over...   \n",
              "3    Anxiety disorders can be diagnosed by a traine...   \n",
              "4    Most often, anxiety disorders are treated with...   \n",
              "..                                                 ...   \n",
              "467  20. “We blow bubbles to calm [them] down and r...   \n",
              "468  21. “I’ve learned it’s different for each chil...   \n",
              "469                                    Related Stories   \n",
              "470  Contact Us  Advertise with Us  Share Your Stor...   \n",
              "471  Our Story  Diversity Commitment  Careers At Mo...   \n",
              "\n",
              "                                                   URL  \\\n",
              "0    https://kidshealth.org/en/parents/anxiety-diso...   \n",
              "1    https://kidshealth.org/en/parents/anxiety-diso...   \n",
              "2    https://kidshealth.org/en/parents/anxiety-diso...   \n",
              "3    https://kidshealth.org/en/parents/anxiety-diso...   \n",
              "4    https://kidshealth.org/en/parents/anxiety-diso...   \n",
              "..                                                 ...   \n",
              "467  https://www.mother.ly/toddler/toddler-mileston...   \n",
              "468  https://www.mother.ly/toddler/toddler-mileston...   \n",
              "469  https://www.mother.ly/toddler/toddler-mileston...   \n",
              "470  https://www.mother.ly/toddler/toddler-mileston...   \n",
              "471  https://www.mother.ly/toddler/toddler-mileston...   \n",
              "\n",
              "                                                  text  \n",
              "0    Anxiety Disorders  (for Parents) - Nemours Kid...  \n",
              "1    Anxiety Disorders  (for Parents) - Nemours Kid...  \n",
              "2    Anxiety Disorders  (for Parents) - Nemours Kid...  \n",
              "3    Anxiety Disorders  (for Parents) - Nemours Kid...  \n",
              "4    Anxiety Disorders  (for Parents) - Nemours Kid...  \n",
              "..                                                 ...  \n",
              "467  23 Mom-Tested Ways to Manage a Tantrum - Mothe...  \n",
              "468  23 Mom-Tested Ways to Manage a Tantrum - Mothe...  \n",
              "469  23 Mom-Tested Ways to Manage a Tantrum - Mothe...  \n",
              "470  23 Mom-Tested Ways to Manage a Tantrum - Mothe...  \n",
              "471  23 Mom-Tested Ways to Manage a Tantrum - Mothe...  \n",
              "\n",
              "[472 rows x 5 columns]"
            ],
            "text/html": [
              "\n",
              "  <div id=\"df-83005d70-15b3-4901-81bd-e80999c2a9ad\">\n",
              "    <div class=\"colab-df-container\">\n",
              "      <div>\n",
              "<style scoped>\n",
              "    .dataframe tbody tr th:only-of-type {\n",
              "        vertical-align: middle;\n",
              "    }\n",
              "\n",
              "    .dataframe tbody tr th {\n",
              "        vertical-align: top;\n",
              "    }\n",
              "\n",
              "    .dataframe thead th {\n",
              "        text-align: right;\n",
              "    }\n",
              "</style>\n",
              "<table border=\"1\" class=\"dataframe\">\n",
              "  <thead>\n",
              "    <tr style=\"text-align: right;\">\n",
              "      <th></th>\n",
              "      <th>Title</th>\n",
              "      <th>Subheading</th>\n",
              "      <th>Paragraph</th>\n",
              "      <th>URL</th>\n",
              "      <th>text</th>\n",
              "    </tr>\n",
              "  </thead>\n",
              "  <tbody>\n",
              "    <tr>\n",
              "      <th>0</th>\n",
              "      <td>Anxiety Disorders  (for Parents) - Nemours Kid...</td>\n",
              "      <td>What Are the Kinds of Anxiety Disorders?</td>\n",
              "      <td>Different anxiety disorders can affect kids an...</td>\n",
              "      <td>https://kidshealth.org/en/parents/anxiety-diso...</td>\n",
              "      <td>Anxiety Disorders  (for Parents) - Nemours Kid...</td>\n",
              "    </tr>\n",
              "    <tr>\n",
              "      <th>1</th>\n",
              "      <td>Anxiety Disorders  (for Parents) - Nemours Kid...</td>\n",
              "      <td>What Are the Signs &amp; Symptoms of Anxiety?</td>\n",
              "      <td>A parent or teacher may see signs that a child...</td>\n",
              "      <td>https://kidshealth.org/en/parents/anxiety-diso...</td>\n",
              "      <td>Anxiety Disorders  (for Parents) - Nemours Kid...</td>\n",
              "    </tr>\n",
              "    <tr>\n",
              "      <th>2</th>\n",
              "      <td>Anxiety Disorders  (for Parents) - Nemours Kid...</td>\n",
              "      <td>What Causes Anxiety Disorders?</td>\n",
              "      <td>Several things play a role in causing the over...</td>\n",
              "      <td>https://kidshealth.org/en/parents/anxiety-diso...</td>\n",
              "      <td>Anxiety Disorders  (for Parents) - Nemours Kid...</td>\n",
              "    </tr>\n",
              "    <tr>\n",
              "      <th>3</th>\n",
              "      <td>Anxiety Disorders  (for Parents) - Nemours Kid...</td>\n",
              "      <td>How Are Anxiety Disorders Diagnosed?</td>\n",
              "      <td>Anxiety disorders can be diagnosed by a traine...</td>\n",
              "      <td>https://kidshealth.org/en/parents/anxiety-diso...</td>\n",
              "      <td>Anxiety Disorders  (for Parents) - Nemours Kid...</td>\n",
              "    </tr>\n",
              "    <tr>\n",
              "      <th>4</th>\n",
              "      <td>Anxiety Disorders  (for Parents) - Nemours Kid...</td>\n",
              "      <td>How Are Anxiety Disorders Treated?</td>\n",
              "      <td>Most often, anxiety disorders are treated with...</td>\n",
              "      <td>https://kidshealth.org/en/parents/anxiety-diso...</td>\n",
              "      <td>Anxiety Disorders  (for Parents) - Nemours Kid...</td>\n",
              "    </tr>\n",
              "    <tr>\n",
              "      <th>...</th>\n",
              "      <td>...</td>\n",
              "      <td>...</td>\n",
              "      <td>...</td>\n",
              "      <td>...</td>\n",
              "      <td>...</td>\n",
              "    </tr>\n",
              "    <tr>\n",
              "      <th>467</th>\n",
              "      <td>23 Mom-Tested Ways to Manage a Tantrum - Motherly</td>\n",
              "      <td>Toddler Milestones</td>\n",
              "      <td>20. “We blow bubbles to calm [them] down and r...</td>\n",
              "      <td>https://www.mother.ly/toddler/toddler-mileston...</td>\n",
              "      <td>23 Mom-Tested Ways to Manage a Tantrum - Mothe...</td>\n",
              "    </tr>\n",
              "    <tr>\n",
              "      <th>468</th>\n",
              "      <td>23 Mom-Tested Ways to Manage a Tantrum - Motherly</td>\n",
              "      <td>Viral &amp; Trending</td>\n",
              "      <td>21. “I’ve learned it’s different for each chil...</td>\n",
              "      <td>https://www.mother.ly/toddler/toddler-mileston...</td>\n",
              "      <td>23 Mom-Tested Ways to Manage a Tantrum - Mothe...</td>\n",
              "    </tr>\n",
              "    <tr>\n",
              "      <th>469</th>\n",
              "      <td>23 Mom-Tested Ways to Manage a Tantrum - Motherly</td>\n",
              "      <td>Toddler Milestones</td>\n",
              "      <td>Related Stories</td>\n",
              "      <td>https://www.mother.ly/toddler/toddler-mileston...</td>\n",
              "      <td>23 Mom-Tested Ways to Manage a Tantrum - Mothe...</td>\n",
              "    </tr>\n",
              "    <tr>\n",
              "      <th>470</th>\n",
              "      <td>23 Mom-Tested Ways to Manage a Tantrum - Motherly</td>\n",
              "      <td>We believe in creating a world in which all mo...</td>\n",
              "      <td>Contact Us  Advertise with Us  Share Your Stor...</td>\n",
              "      <td>https://www.mother.ly/toddler/toddler-mileston...</td>\n",
              "      <td>23 Mom-Tested Ways to Manage a Tantrum - Mothe...</td>\n",
              "    </tr>\n",
              "    <tr>\n",
              "      <th>471</th>\n",
              "      <td>23 Mom-Tested Ways to Manage a Tantrum - Motherly</td>\n",
              "      <td>Connect</td>\n",
              "      <td>Our Story  Diversity Commitment  Careers At Mo...</td>\n",
              "      <td>https://www.mother.ly/toddler/toddler-mileston...</td>\n",
              "      <td>23 Mom-Tested Ways to Manage a Tantrum - Mothe...</td>\n",
              "    </tr>\n",
              "  </tbody>\n",
              "</table>\n",
              "<p>472 rows × 5 columns</p>\n",
              "</div>\n",
              "      <button class=\"colab-df-convert\" onclick=\"convertToInteractive('df-83005d70-15b3-4901-81bd-e80999c2a9ad')\"\n",
              "              title=\"Convert this dataframe to an interactive table.\"\n",
              "              style=\"display:none;\">\n",
              "        \n",
              "  <svg xmlns=\"http://www.w3.org/2000/svg\" height=\"24px\"viewBox=\"0 0 24 24\"\n",
              "       width=\"24px\">\n",
              "    <path d=\"M0 0h24v24H0V0z\" fill=\"none\"/>\n",
              "    <path d=\"M18.56 5.44l.94 2.06.94-2.06 2.06-.94-2.06-.94-.94-2.06-.94 2.06-2.06.94zm-11 1L8.5 8.5l.94-2.06 2.06-.94-2.06-.94L8.5 2.5l-.94 2.06-2.06.94zm10 10l.94 2.06.94-2.06 2.06-.94-2.06-.94-.94-2.06-.94 2.06-2.06.94z\"/><path d=\"M17.41 7.96l-1.37-1.37c-.4-.4-.92-.59-1.43-.59-.52 0-1.04.2-1.43.59L10.3 9.45l-7.72 7.72c-.78.78-.78 2.05 0 2.83L4 21.41c.39.39.9.59 1.41.59.51 0 1.02-.2 1.41-.59l7.78-7.78 2.81-2.81c.8-.78.8-2.07 0-2.86zM5.41 20L4 18.59l7.72-7.72 1.47 1.35L5.41 20z\"/>\n",
              "  </svg>\n",
              "      </button>\n",
              "      \n",
              "  <style>\n",
              "    .colab-df-container {\n",
              "      display:flex;\n",
              "      flex-wrap:wrap;\n",
              "      gap: 12px;\n",
              "    }\n",
              "\n",
              "    .colab-df-convert {\n",
              "      background-color: #E8F0FE;\n",
              "      border: none;\n",
              "      border-radius: 50%;\n",
              "      cursor: pointer;\n",
              "      display: none;\n",
              "      fill: #1967D2;\n",
              "      height: 32px;\n",
              "      padding: 0 0 0 0;\n",
              "      width: 32px;\n",
              "    }\n",
              "\n",
              "    .colab-df-convert:hover {\n",
              "      background-color: #E2EBFA;\n",
              "      box-shadow: 0px 1px 2px rgba(60, 64, 67, 0.3), 0px 1px 3px 1px rgba(60, 64, 67, 0.15);\n",
              "      fill: #174EA6;\n",
              "    }\n",
              "\n",
              "    [theme=dark] .colab-df-convert {\n",
              "      background-color: #3B4455;\n",
              "      fill: #D2E3FC;\n",
              "    }\n",
              "\n",
              "    [theme=dark] .colab-df-convert:hover {\n",
              "      background-color: #434B5C;\n",
              "      box-shadow: 0px 1px 3px 1px rgba(0, 0, 0, 0.15);\n",
              "      filter: drop-shadow(0px 1px 2px rgba(0, 0, 0, 0.3));\n",
              "      fill: #FFFFFF;\n",
              "    }\n",
              "  </style>\n",
              "\n",
              "      <script>\n",
              "        const buttonEl =\n",
              "          document.querySelector('#df-83005d70-15b3-4901-81bd-e80999c2a9ad button.colab-df-convert');\n",
              "        buttonEl.style.display =\n",
              "          google.colab.kernel.accessAllowed ? 'block' : 'none';\n",
              "\n",
              "        async function convertToInteractive(key) {\n",
              "          const element = document.querySelector('#df-83005d70-15b3-4901-81bd-e80999c2a9ad');\n",
              "          const dataTable =\n",
              "            await google.colab.kernel.invokeFunction('convertToInteractive',\n",
              "                                                     [key], {});\n",
              "          if (!dataTable) return;\n",
              "\n",
              "          const docLinkHtml = 'Like what you see? Visit the ' +\n",
              "            '<a target=\"_blank\" href=https://colab.research.google.com/notebooks/data_table.ipynb>data table notebook</a>'\n",
              "            + ' to learn more about interactive tables.';\n",
              "          element.innerHTML = '';\n",
              "          dataTable['output_type'] = 'display_data';\n",
              "          await google.colab.output.renderOutput(dataTable, element);\n",
              "          const docLink = document.createElement('div');\n",
              "          docLink.innerHTML = docLinkHtml;\n",
              "          element.appendChild(docLink);\n",
              "        }\n",
              "      </script>\n",
              "    </div>\n",
              "  </div>\n",
              "  "
            ]
          },
          "metadata": {},
          "execution_count": 182
        }
      ]
    },
    {
      "cell_type": "code",
      "source": [
        "temp_df.to_csv(\"CleanedText.csv\")"
      ],
      "metadata": {
        "id": "R675k3qPV5ba"
      },
      "execution_count": null,
      "outputs": []
    },
    {
      "cell_type": "code",
      "source": [
        "comments_dataset = Dataset.from_pandas(temp_df)\n",
        "comments_dataset"
      ],
      "metadata": {
        "colab": {
          "base_uri": "https://localhost:8080/"
        },
        "id": "sHet82-qz6TU",
        "outputId": "9a01c708-79dd-49af-f305-1a454b133369"
      },
      "execution_count": null,
      "outputs": [
        {
          "output_type": "execute_result",
          "data": {
            "text/plain": [
              "Dataset({\n",
              "    features: ['Title', 'Subheading', 'Paragraph', 'URL', 'text', '__index_level_0__'],\n",
              "    num_rows: 457\n",
              "})"
            ]
          },
          "metadata": {},
          "execution_count": 132
        }
      ]
    },
    {
      "cell_type": "code",
      "source": [
        "columns = comments_dataset.column_names\n",
        "columns_to_keep = [\"Title\", \"Subheading\", \"Paragraph\",\"URL\",\"text\"]\n",
        "columns_to_remove = set(columns_to_keep).symmetric_difference(columns)\n",
        "comments_dataset = comments_dataset.remove_columns(columns_to_remove)\n",
        "comments_dataset"
      ],
      "metadata": {
        "colab": {
          "base_uri": "https://localhost:8080/"
        },
        "id": "jrp3ylrpqiI0",
        "outputId": "130d7471-8c1c-4f50-94bd-468f5fa8999e"
      },
      "execution_count": null,
      "outputs": [
        {
          "output_type": "execute_result",
          "data": {
            "text/plain": [
              "Dataset({\n",
              "    features: ['Title', 'Subheading', 'Paragraph', 'URL', 'text'],\n",
              "    num_rows: 457\n",
              "})"
            ]
          },
          "metadata": {},
          "execution_count": 141
        }
      ]
    },
    {
      "cell_type": "code",
      "source": [
        "from transformers import AutoTokenizer, AutoModel\n",
        "\n",
        "model_ckpt = \"sentence-transformers/multi-qa-mpnet-base-dot-v1\"\n",
        "tokenizer = AutoTokenizer.from_pretrained(model_ckpt)\n",
        "model = AutoModel.from_pretrained(model_ckpt)\n"
      ],
      "metadata": {
        "id": "UZ5N8scEmNyP"
      },
      "execution_count": null,
      "outputs": []
    },
    {
      "cell_type": "code",
      "source": [
        "def cls_pooling(model_output):\n",
        "    return model_output.last_hidden_state[:, 0]"
      ],
      "metadata": {
        "id": "WjbaG-u1mtA2"
      },
      "execution_count": null,
      "outputs": []
    },
    {
      "cell_type": "code",
      "source": [
        "def get_embeddings(text_list):\n",
        "    encoded_input = tokenizer(\n",
        "        text_list, padding=True, truncation=True, return_tensors=\"pt\"\n",
        "    )\n",
        "    #encoded_input = {k: v.to(device) for k, v in encoded_input.items()}\n",
        "    model_output = model(**encoded_input)\n",
        "    return cls_pooling(model_output)"
      ],
      "metadata": {
        "id": "N9yezYM_mt4c"
      },
      "execution_count": null,
      "outputs": []
    },
    {
      "cell_type": "code",
      "source": [
        "embedding = get_embeddings(comments_dataset[\"text\"][0])\n",
        "embedding.shape"
      ],
      "metadata": {
        "colab": {
          "base_uri": "https://localhost:8080/"
        },
        "id": "0wqErU5pmwYw",
        "outputId": "769ce1ac-a297-4aa2-f2e7-56572abf2573"
      },
      "execution_count": null,
      "outputs": [
        {
          "output_type": "execute_result",
          "data": {
            "text/plain": [
              "torch.Size([1, 768])"
            ]
          },
          "metadata": {},
          "execution_count": 145
        }
      ]
    },
    {
      "cell_type": "code",
      "source": [
        "embeddings_dataset = comments_dataset.map(\n",
        "    lambda x: {\"embeddings\": get_embeddings(x[\"text\"]).detach().cpu().numpy()[0]}\n",
        ")"
      ],
      "metadata": {
        "colab": {
          "base_uri": "https://localhost:8080/",
          "height": 17,
          "referenced_widgets": [
            "323e0bdc992046f3aa93ea31b1365c02",
            "c0bfe32973554662b537a5bda6fb6ea8",
            "24acdbfdd680405aabedc969007b2968",
            "97b01ffc92604b91a0610073908fb203",
            "baf70953536c4e898369d7d0168ad6b5",
            "1903e9a5da7e4c7d84464564baa0927c",
            "3ff5311bf1194a91a73b702613a1d6fc",
            "b183bf99d0874f0294ba6caf80e8d5a5",
            "e94fd34778f040e3869f21fc9e879902",
            "76101785873e4836bb9520c7ff96f962",
            "658dbfcc0516493e944019cf9c74eade"
          ]
        },
        "id": "Vv5XogEFmyNE",
        "outputId": "4dc98798-42b0-4d31-b7f0-361e5c1f9c9d"
      },
      "execution_count": null,
      "outputs": [
        {
          "output_type": "display_data",
          "data": {
            "text/plain": [
              "Map:   0%|          | 0/457 [00:00<?, ? examples/s]"
            ],
            "application/vnd.jupyter.widget-view+json": {
              "version_major": 2,
              "version_minor": 0,
              "model_id": "323e0bdc992046f3aa93ea31b1365c02"
            }
          },
          "metadata": {}
        }
      ]
    },
    {
      "cell_type": "code",
      "source": [
        "embeddings_dataset.add_faiss_index(column=\"embeddings\")"
      ],
      "metadata": {
        "colab": {
          "base_uri": "https://localhost:8080/",
          "height": 118,
          "referenced_widgets": [
            "edf7927854074de2b1ede5255dbf26a4",
            "0dd06ffcd83e4e04b5bf54c1df39848a",
            "43c84c964e06489eb9cdde0f30d74cdf",
            "f150d77926ac45929d673402cbfb4c75",
            "9b06d8b891224418b46240dc9f2fc3c2",
            "839d8ddef81e4f7e85db6320ca0d7920",
            "08b78d545def4744bc8929627806c2f6",
            "bb180fd4fe744de6a6e646e1b991f745",
            "b45ec5b6729043f4a35b539170fca696",
            "c9b3b0d87fd248d2b5bb83191c69e5ec",
            "3b22bcbeaa5148aab7ec050ad1e17dd8"
          ]
        },
        "id": "RvTSLjlxnF3t",
        "outputId": "4057b660-c0dd-41f1-85c3-f9224419bb37"
      },
      "execution_count": null,
      "outputs": [
        {
          "output_type": "display_data",
          "data": {
            "text/plain": [
              "  0%|          | 0/1 [00:00<?, ?it/s]"
            ],
            "application/vnd.jupyter.widget-view+json": {
              "version_major": 2,
              "version_minor": 0,
              "model_id": "edf7927854074de2b1ede5255dbf26a4"
            }
          },
          "metadata": {}
        },
        {
          "output_type": "execute_result",
          "data": {
            "text/plain": [
              "Dataset({\n",
              "    features: ['Title', 'Subheading', 'Paragraph', 'URL', 'text', 'embeddings'],\n",
              "    num_rows: 457\n",
              "})"
            ]
          },
          "metadata": {},
          "execution_count": 147
        }
      ]
    },
    {
      "cell_type": "code",
      "source": [
        "embeddings_dataset"
      ],
      "metadata": {
        "colab": {
          "base_uri": "https://localhost:8080/"
        },
        "id": "08orRcqPqZXV",
        "outputId": "6c5a5694-8cea-44bd-c302-92b0e370a7aa"
      },
      "execution_count": null,
      "outputs": [
        {
          "output_type": "execute_result",
          "data": {
            "text/plain": [
              "Dataset({\n",
              "    features: ['Title', 'Subheading', 'Paragraph', 'URL', 'text', 'embeddings'],\n",
              "    num_rows: 457\n",
              "})"
            ]
          },
          "metadata": {},
          "execution_count": 148
        }
      ]
    },
    {
      "cell_type": "code",
      "source": [
        "# loading library\n",
        "import pickle\n",
        "# create an iterator object with write permission - model.pkl\n",
        "with open('MultiQA_PassageLevel_pkl', 'wb') as files:\n",
        "    pickle.dump(embeddings_dataset, files)\n",
        "\n",
        "# We will save/send this file to the Data Base."
      ],
      "metadata": {
        "id": "U5IMMHPrpYXN"
      },
      "execution_count": null,
      "outputs": []
    },
    {
      "cell_type": "code",
      "source": [],
      "metadata": {
        "id": "8IYXOdadJMRM"
      },
      "execution_count": null,
      "outputs": []
    },
    {
      "cell_type": "markdown",
      "source": [
        "Creating Document embeddings"
      ],
      "metadata": {
        "id": "7KGuiwGAwssU"
      }
    },
    {
      "cell_type": "code",
      "source": [
        "import pandas as pd\n",
        "doc_Df = pd.DataFrame(columns=['DocID','URL','Embeddings'])"
      ],
      "metadata": {
        "id": "PD49z_X0pquR"
      },
      "execution_count": null,
      "outputs": []
    },
    {
      "cell_type": "code",
      "source": [
        "doc_Df['DocID'] = df['DocumentID'].unique()\n",
        "doc_Df['DocID']"
      ],
      "metadata": {
        "colab": {
          "base_uri": "https://localhost:8080/"
        },
        "id": "GuQqGaBYwwoc",
        "outputId": "f8f56354-82dd-400a-9a77-7d758854db1a"
      },
      "execution_count": null,
      "outputs": [
        {
          "output_type": "execute_result",
          "data": {
            "text/plain": [
              "0      0\n",
              "1      1\n",
              "2      2\n",
              "3      3\n",
              "4      4\n",
              "      ..\n",
              "64    84\n",
              "65    85\n",
              "66    86\n",
              "67    87\n",
              "68    88\n",
              "Name: DocID, Length: 69, dtype: int64"
            ]
          },
          "metadata": {},
          "execution_count": 169
        }
      ]
    },
    {
      "cell_type": "code",
      "source": [
        "temp=df.loc[df['DocumentID'] == 1]\n",
        "temp['DocumentID'].sum()"
      ],
      "metadata": {
        "colab": {
          "base_uri": "https://localhost:8080/"
        },
        "id": "Am57mVYdxsCM",
        "outputId": "2f2c7927-c0ae-4641-f6fe-255d966582f2"
      },
      "execution_count": 188,
      "outputs": [
        {
          "output_type": "execute_result",
          "data": {
            "text/plain": [
              "7"
            ]
          },
          "metadata": {},
          "execution_count": 188
        }
      ]
    },
    {
      "cell_type": "code",
      "source": [
        "embeddings_dataset.set_format(\"pandas\")\n",
        "Document_Temp = embeddings_dataset[:]\n",
        "Document_Temp"
      ],
      "metadata": {
        "colab": {
          "base_uri": "https://localhost:8080/",
          "height": 815
        },
        "id": "ukasyePdzG2k",
        "outputId": "4ca34916-3420-406a-9afb-10452cd21fc5"
      },
      "execution_count": null,
      "outputs": [
        {
          "output_type": "execute_result",
          "data": {
            "text/plain": [
              "                                                 Title  \\\n",
              "0    Anxiety Disorders  (for Parents) - Nemours Kid...   \n",
              "1    Anxiety Disorders  (for Parents) - Nemours Kid...   \n",
              "2    Anxiety Disorders  (for Parents) - Nemours Kid...   \n",
              "3    Anxiety Disorders  (for Parents) - Nemours Kid...   \n",
              "4    Anxiety Disorders  (for Parents) - Nemours Kid...   \n",
              "..                                                 ...   \n",
              "452  23 Mom-Tested Ways to Manage a Tantrum - Motherly   \n",
              "453  23 Mom-Tested Ways to Manage a Tantrum - Motherly   \n",
              "454  23 Mom-Tested Ways to Manage a Tantrum - Motherly   \n",
              "455  23 Mom-Tested Ways to Manage a Tantrum - Motherly   \n",
              "456  23 Mom-Tested Ways to Manage a Tantrum - Motherly   \n",
              "\n",
              "                                            Subheading  \\\n",
              "0             What Are the Kinds of Anxiety Disorders?   \n",
              "1            What Are the Signs & Symptoms of Anxiety?   \n",
              "2                       What Causes Anxiety Disorders?   \n",
              "3                 How Are Anxiety Disorders Diagnosed?   \n",
              "4                   How Are Anxiety Disorders Treated?   \n",
              "..                                                 ...   \n",
              "452                                 Toddler Milestones   \n",
              "453                                   Viral & Trending   \n",
              "454                                 Toddler Milestones   \n",
              "455  We believe in creating a world in which all mo...   \n",
              "456                                            Connect   \n",
              "\n",
              "                                             Paragraph  \\\n",
              "0    Different anxiety disorders can affect kids an...   \n",
              "1    A parent or teacher may see signs that a child...   \n",
              "2    Several things play a role in causing the over...   \n",
              "3    Anxiety disorders can be diagnosed by a traine...   \n",
              "4    Most often, anxiety disorders are treated with...   \n",
              "..                                                 ...   \n",
              "452  20. “We blow bubbles to calm [them] down and r...   \n",
              "453  21. “I’ve learned it’s different for each chil...   \n",
              "454                                    Related Stories   \n",
              "455  Contact Us  Advertise with Us  Share Your Stor...   \n",
              "456  Our Story  Diversity Commitment  Careers At Mo...   \n",
              "\n",
              "                                                   URL  \\\n",
              "0    https://kidshealth.org/en/parents/anxiety-diso...   \n",
              "1    https://kidshealth.org/en/parents/anxiety-diso...   \n",
              "2    https://kidshealth.org/en/parents/anxiety-diso...   \n",
              "3    https://kidshealth.org/en/parents/anxiety-diso...   \n",
              "4    https://kidshealth.org/en/parents/anxiety-diso...   \n",
              "..                                                 ...   \n",
              "452  https://www.mother.ly/toddler/toddler-mileston...   \n",
              "453  https://www.mother.ly/toddler/toddler-mileston...   \n",
              "454  https://www.mother.ly/toddler/toddler-mileston...   \n",
              "455  https://www.mother.ly/toddler/toddler-mileston...   \n",
              "456  https://www.mother.ly/toddler/toddler-mileston...   \n",
              "\n",
              "                                                  text  \\\n",
              "0    Anxiety Disorders  (for Parents) - Nemours Kid...   \n",
              "1    Anxiety Disorders  (for Parents) - Nemours Kid...   \n",
              "2    Anxiety Disorders  (for Parents) - Nemours Kid...   \n",
              "3    Anxiety Disorders  (for Parents) - Nemours Kid...   \n",
              "4    Anxiety Disorders  (for Parents) - Nemours Kid...   \n",
              "..                                                 ...   \n",
              "452  23 Mom-Tested Ways to Manage a Tantrum - Mothe...   \n",
              "453  23 Mom-Tested Ways to Manage a Tantrum - Mothe...   \n",
              "454  23 Mom-Tested Ways to Manage a Tantrum - Mothe...   \n",
              "455  23 Mom-Tested Ways to Manage a Tantrum - Mothe...   \n",
              "456  23 Mom-Tested Ways to Manage a Tantrum - Mothe...   \n",
              "\n",
              "                                            embeddings  \n",
              "0    [-0.01890669, -0.49167317, -0.20652804, -0.001...  \n",
              "1    [0.047935653, -0.60621387, -0.22229323, 0.1613...  \n",
              "2    [-0.12154601, -0.6636507, -0.19422671, 0.13888...  \n",
              "3    [0.004511428, -0.4369652, -0.2055371, 0.265108...  \n",
              "4    [-0.03623768, -0.5331508, -0.23160432, -0.0326...  \n",
              "..                                                 ...  \n",
              "452  [0.27846962, -0.4221728, -0.22933762, -0.32362...  \n",
              "453  [0.36313942, -0.3771683, -0.23246408, -0.29345...  \n",
              "454  [0.30182707, -0.18127394, -0.28959137, -0.2463...  \n",
              "455  [0.33036467, -0.25193867, -0.25336376, -0.3638...  \n",
              "456  [0.1886483, -0.15812485, -0.2799221, -0.470488...  \n",
              "\n",
              "[457 rows x 6 columns]"
            ],
            "text/html": [
              "\n",
              "  <div id=\"df-68e3bdc3-ed04-4d4a-8709-1e17801b1db4\">\n",
              "    <div class=\"colab-df-container\">\n",
              "      <div>\n",
              "<style scoped>\n",
              "    .dataframe tbody tr th:only-of-type {\n",
              "        vertical-align: middle;\n",
              "    }\n",
              "\n",
              "    .dataframe tbody tr th {\n",
              "        vertical-align: top;\n",
              "    }\n",
              "\n",
              "    .dataframe thead th {\n",
              "        text-align: right;\n",
              "    }\n",
              "</style>\n",
              "<table border=\"1\" class=\"dataframe\">\n",
              "  <thead>\n",
              "    <tr style=\"text-align: right;\">\n",
              "      <th></th>\n",
              "      <th>Title</th>\n",
              "      <th>Subheading</th>\n",
              "      <th>Paragraph</th>\n",
              "      <th>URL</th>\n",
              "      <th>text</th>\n",
              "      <th>embeddings</th>\n",
              "    </tr>\n",
              "  </thead>\n",
              "  <tbody>\n",
              "    <tr>\n",
              "      <th>0</th>\n",
              "      <td>Anxiety Disorders  (for Parents) - Nemours Kid...</td>\n",
              "      <td>What Are the Kinds of Anxiety Disorders?</td>\n",
              "      <td>Different anxiety disorders can affect kids an...</td>\n",
              "      <td>https://kidshealth.org/en/parents/anxiety-diso...</td>\n",
              "      <td>Anxiety Disorders  (for Parents) - Nemours Kid...</td>\n",
              "      <td>[-0.01890669, -0.49167317, -0.20652804, -0.001...</td>\n",
              "    </tr>\n",
              "    <tr>\n",
              "      <th>1</th>\n",
              "      <td>Anxiety Disorders  (for Parents) - Nemours Kid...</td>\n",
              "      <td>What Are the Signs &amp; Symptoms of Anxiety?</td>\n",
              "      <td>A parent or teacher may see signs that a child...</td>\n",
              "      <td>https://kidshealth.org/en/parents/anxiety-diso...</td>\n",
              "      <td>Anxiety Disorders  (for Parents) - Nemours Kid...</td>\n",
              "      <td>[0.047935653, -0.60621387, -0.22229323, 0.1613...</td>\n",
              "    </tr>\n",
              "    <tr>\n",
              "      <th>2</th>\n",
              "      <td>Anxiety Disorders  (for Parents) - Nemours Kid...</td>\n",
              "      <td>What Causes Anxiety Disorders?</td>\n",
              "      <td>Several things play a role in causing the over...</td>\n",
              "      <td>https://kidshealth.org/en/parents/anxiety-diso...</td>\n",
              "      <td>Anxiety Disorders  (for Parents) - Nemours Kid...</td>\n",
              "      <td>[-0.12154601, -0.6636507, -0.19422671, 0.13888...</td>\n",
              "    </tr>\n",
              "    <tr>\n",
              "      <th>3</th>\n",
              "      <td>Anxiety Disorders  (for Parents) - Nemours Kid...</td>\n",
              "      <td>How Are Anxiety Disorders Diagnosed?</td>\n",
              "      <td>Anxiety disorders can be diagnosed by a traine...</td>\n",
              "      <td>https://kidshealth.org/en/parents/anxiety-diso...</td>\n",
              "      <td>Anxiety Disorders  (for Parents) - Nemours Kid...</td>\n",
              "      <td>[0.004511428, -0.4369652, -0.2055371, 0.265108...</td>\n",
              "    </tr>\n",
              "    <tr>\n",
              "      <th>4</th>\n",
              "      <td>Anxiety Disorders  (for Parents) - Nemours Kid...</td>\n",
              "      <td>How Are Anxiety Disorders Treated?</td>\n",
              "      <td>Most often, anxiety disorders are treated with...</td>\n",
              "      <td>https://kidshealth.org/en/parents/anxiety-diso...</td>\n",
              "      <td>Anxiety Disorders  (for Parents) - Nemours Kid...</td>\n",
              "      <td>[-0.03623768, -0.5331508, -0.23160432, -0.0326...</td>\n",
              "    </tr>\n",
              "    <tr>\n",
              "      <th>...</th>\n",
              "      <td>...</td>\n",
              "      <td>...</td>\n",
              "      <td>...</td>\n",
              "      <td>...</td>\n",
              "      <td>...</td>\n",
              "      <td>...</td>\n",
              "    </tr>\n",
              "    <tr>\n",
              "      <th>452</th>\n",
              "      <td>23 Mom-Tested Ways to Manage a Tantrum - Motherly</td>\n",
              "      <td>Toddler Milestones</td>\n",
              "      <td>20. “We blow bubbles to calm [them] down and r...</td>\n",
              "      <td>https://www.mother.ly/toddler/toddler-mileston...</td>\n",
              "      <td>23 Mom-Tested Ways to Manage a Tantrum - Mothe...</td>\n",
              "      <td>[0.27846962, -0.4221728, -0.22933762, -0.32362...</td>\n",
              "    </tr>\n",
              "    <tr>\n",
              "      <th>453</th>\n",
              "      <td>23 Mom-Tested Ways to Manage a Tantrum - Motherly</td>\n",
              "      <td>Viral &amp; Trending</td>\n",
              "      <td>21. “I’ve learned it’s different for each chil...</td>\n",
              "      <td>https://www.mother.ly/toddler/toddler-mileston...</td>\n",
              "      <td>23 Mom-Tested Ways to Manage a Tantrum - Mothe...</td>\n",
              "      <td>[0.36313942, -0.3771683, -0.23246408, -0.29345...</td>\n",
              "    </tr>\n",
              "    <tr>\n",
              "      <th>454</th>\n",
              "      <td>23 Mom-Tested Ways to Manage a Tantrum - Motherly</td>\n",
              "      <td>Toddler Milestones</td>\n",
              "      <td>Related Stories</td>\n",
              "      <td>https://www.mother.ly/toddler/toddler-mileston...</td>\n",
              "      <td>23 Mom-Tested Ways to Manage a Tantrum - Mothe...</td>\n",
              "      <td>[0.30182707, -0.18127394, -0.28959137, -0.2463...</td>\n",
              "    </tr>\n",
              "    <tr>\n",
              "      <th>455</th>\n",
              "      <td>23 Mom-Tested Ways to Manage a Tantrum - Motherly</td>\n",
              "      <td>We believe in creating a world in which all mo...</td>\n",
              "      <td>Contact Us  Advertise with Us  Share Your Stor...</td>\n",
              "      <td>https://www.mother.ly/toddler/toddler-mileston...</td>\n",
              "      <td>23 Mom-Tested Ways to Manage a Tantrum - Mothe...</td>\n",
              "      <td>[0.33036467, -0.25193867, -0.25336376, -0.3638...</td>\n",
              "    </tr>\n",
              "    <tr>\n",
              "      <th>456</th>\n",
              "      <td>23 Mom-Tested Ways to Manage a Tantrum - Motherly</td>\n",
              "      <td>Connect</td>\n",
              "      <td>Our Story  Diversity Commitment  Careers At Mo...</td>\n",
              "      <td>https://www.mother.ly/toddler/toddler-mileston...</td>\n",
              "      <td>23 Mom-Tested Ways to Manage a Tantrum - Mothe...</td>\n",
              "      <td>[0.1886483, -0.15812485, -0.2799221, -0.470488...</td>\n",
              "    </tr>\n",
              "  </tbody>\n",
              "</table>\n",
              "<p>457 rows × 6 columns</p>\n",
              "</div>\n",
              "      <button class=\"colab-df-convert\" onclick=\"convertToInteractive('df-68e3bdc3-ed04-4d4a-8709-1e17801b1db4')\"\n",
              "              title=\"Convert this dataframe to an interactive table.\"\n",
              "              style=\"display:none;\">\n",
              "        \n",
              "  <svg xmlns=\"http://www.w3.org/2000/svg\" height=\"24px\"viewBox=\"0 0 24 24\"\n",
              "       width=\"24px\">\n",
              "    <path d=\"M0 0h24v24H0V0z\" fill=\"none\"/>\n",
              "    <path d=\"M18.56 5.44l.94 2.06.94-2.06 2.06-.94-2.06-.94-.94-2.06-.94 2.06-2.06.94zm-11 1L8.5 8.5l.94-2.06 2.06-.94-2.06-.94L8.5 2.5l-.94 2.06-2.06.94zm10 10l.94 2.06.94-2.06 2.06-.94-2.06-.94-.94-2.06-.94 2.06-2.06.94z\"/><path d=\"M17.41 7.96l-1.37-1.37c-.4-.4-.92-.59-1.43-.59-.52 0-1.04.2-1.43.59L10.3 9.45l-7.72 7.72c-.78.78-.78 2.05 0 2.83L4 21.41c.39.39.9.59 1.41.59.51 0 1.02-.2 1.41-.59l7.78-7.78 2.81-2.81c.8-.78.8-2.07 0-2.86zM5.41 20L4 18.59l7.72-7.72 1.47 1.35L5.41 20z\"/>\n",
              "  </svg>\n",
              "      </button>\n",
              "      \n",
              "  <style>\n",
              "    .colab-df-container {\n",
              "      display:flex;\n",
              "      flex-wrap:wrap;\n",
              "      gap: 12px;\n",
              "    }\n",
              "\n",
              "    .colab-df-convert {\n",
              "      background-color: #E8F0FE;\n",
              "      border: none;\n",
              "      border-radius: 50%;\n",
              "      cursor: pointer;\n",
              "      display: none;\n",
              "      fill: #1967D2;\n",
              "      height: 32px;\n",
              "      padding: 0 0 0 0;\n",
              "      width: 32px;\n",
              "    }\n",
              "\n",
              "    .colab-df-convert:hover {\n",
              "      background-color: #E2EBFA;\n",
              "      box-shadow: 0px 1px 2px rgba(60, 64, 67, 0.3), 0px 1px 3px 1px rgba(60, 64, 67, 0.15);\n",
              "      fill: #174EA6;\n",
              "    }\n",
              "\n",
              "    [theme=dark] .colab-df-convert {\n",
              "      background-color: #3B4455;\n",
              "      fill: #D2E3FC;\n",
              "    }\n",
              "\n",
              "    [theme=dark] .colab-df-convert:hover {\n",
              "      background-color: #434B5C;\n",
              "      box-shadow: 0px 1px 3px 1px rgba(0, 0, 0, 0.15);\n",
              "      filter: drop-shadow(0px 1px 2px rgba(0, 0, 0, 0.3));\n",
              "      fill: #FFFFFF;\n",
              "    }\n",
              "  </style>\n",
              "\n",
              "      <script>\n",
              "        const buttonEl =\n",
              "          document.querySelector('#df-68e3bdc3-ed04-4d4a-8709-1e17801b1db4 button.colab-df-convert');\n",
              "        buttonEl.style.display =\n",
              "          google.colab.kernel.accessAllowed ? 'block' : 'none';\n",
              "\n",
              "        async function convertToInteractive(key) {\n",
              "          const element = document.querySelector('#df-68e3bdc3-ed04-4d4a-8709-1e17801b1db4');\n",
              "          const dataTable =\n",
              "            await google.colab.kernel.invokeFunction('convertToInteractive',\n",
              "                                                     [key], {});\n",
              "          if (!dataTable) return;\n",
              "\n",
              "          const docLinkHtml = 'Like what you see? Visit the ' +\n",
              "            '<a target=\"_blank\" href=https://colab.research.google.com/notebooks/data_table.ipynb>data table notebook</a>'\n",
              "            + ' to learn more about interactive tables.';\n",
              "          element.innerHTML = '';\n",
              "          dataTable['output_type'] = 'display_data';\n",
              "          await google.colab.output.renderOutput(dataTable, element);\n",
              "          const docLink = document.createElement('div');\n",
              "          docLink.innerHTML = docLinkHtml;\n",
              "          element.appendChild(docLink);\n",
              "        }\n",
              "      </script>\n",
              "    </div>\n",
              "  </div>\n",
              "  "
            ]
          },
          "metadata": {},
          "execution_count": 183
        }
      ]
    },
    {
      "cell_type": "code",
      "source": [
        "while i < len(Document_temp.index)-1:\n",
        "  #present and next same, we add and then average\n",
        "  \n"
      ],
      "metadata": {
        "colab": {
          "base_uri": "https://localhost:8080/"
        },
        "id": "Bdm1DKO113Pl",
        "outputId": "743c86c8-4057-484b-a808-14132951afbd"
      },
      "execution_count": null,
      "outputs": [
        {
          "output_type": "stream",
          "name": "stdout",
          "text": [
            "457\n"
          ]
        }
      ]
    },
    {
      "cell_type": "code",
      "source": [],
      "metadata": {
        "id": "ilCwqTml2WGE"
      },
      "execution_count": null,
      "outputs": []
    }
  ]
}
