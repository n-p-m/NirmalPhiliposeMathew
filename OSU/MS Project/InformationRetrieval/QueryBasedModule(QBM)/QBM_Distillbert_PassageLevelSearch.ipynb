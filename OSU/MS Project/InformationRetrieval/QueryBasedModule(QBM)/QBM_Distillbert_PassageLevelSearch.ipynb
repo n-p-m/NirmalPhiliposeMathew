{
  "cells": [
    {
      "cell_type": "code",
      "execution_count": null,
      "id": "4ce550e2",
      "metadata": {
        "colab": {
          "base_uri": "https://localhost:8080/"
        },
        "id": "4ce550e2",
        "outputId": "5ad6cc0c-628f-4b75-c359-01ea909e4c0e"
      },
      "outputs": [
        {
          "output_type": "stream",
          "name": "stdout",
          "text": [
            "Looking in indexes: https://pypi.org/simple, https://us-python.pkg.dev/colab-wheels/public/simple/\n",
            "Requirement already satisfied: datasets in /usr/local/lib/python3.8/dist-packages (2.10.1)\n",
            "Requirement already satisfied: evaluate in /usr/local/lib/python3.8/dist-packages (0.4.0)\n",
            "Requirement already satisfied: transformers[sentencepiece] in /usr/local/lib/python3.8/dist-packages (4.26.1)\n",
            "Requirement already satisfied: pyarrow>=6.0.0 in /usr/local/lib/python3.8/dist-packages (from datasets) (9.0.0)\n",
            "Requirement already satisfied: tqdm>=4.62.1 in /usr/local/lib/python3.8/dist-packages (from datasets) (4.64.1)\n",
            "Requirement already satisfied: numpy>=1.17 in /usr/local/lib/python3.8/dist-packages (from datasets) (1.22.4)\n",
            "Requirement already satisfied: pyyaml>=5.1 in /usr/local/lib/python3.8/dist-packages (from datasets) (6.0)\n",
            "Requirement already satisfied: multiprocess in /usr/local/lib/python3.8/dist-packages (from datasets) (0.70.14)\n",
            "Requirement already satisfied: responses<0.19 in /usr/local/lib/python3.8/dist-packages (from datasets) (0.18.0)\n",
            "Requirement already satisfied: huggingface-hub<1.0.0,>=0.2.0 in /usr/local/lib/python3.8/dist-packages (from datasets) (0.12.1)\n",
            "Requirement already satisfied: packaging in /usr/local/lib/python3.8/dist-packages (from datasets) (23.0)\n",
            "Requirement already satisfied: xxhash in /usr/local/lib/python3.8/dist-packages (from datasets) (3.2.0)\n",
            "Requirement already satisfied: aiohttp in /usr/local/lib/python3.8/dist-packages (from datasets) (3.8.4)\n",
            "Requirement already satisfied: fsspec[http]>=2021.11.1 in /usr/local/lib/python3.8/dist-packages (from datasets) (2023.1.0)\n",
            "Requirement already satisfied: dill<0.3.7,>=0.3.0 in /usr/local/lib/python3.8/dist-packages (from datasets) (0.3.6)\n",
            "Requirement already satisfied: pandas in /usr/local/lib/python3.8/dist-packages (from datasets) (1.3.5)\n",
            "Requirement already satisfied: requests>=2.19.0 in /usr/local/lib/python3.8/dist-packages (from datasets) (2.25.1)\n",
            "Requirement already satisfied: regex!=2019.12.17 in /usr/local/lib/python3.8/dist-packages (from transformers[sentencepiece]) (2022.6.2)\n",
            "Requirement already satisfied: tokenizers!=0.11.3,<0.14,>=0.11.1 in /usr/local/lib/python3.8/dist-packages (from transformers[sentencepiece]) (0.13.2)\n",
            "Requirement already satisfied: filelock in /usr/local/lib/python3.8/dist-packages (from transformers[sentencepiece]) (3.9.0)\n",
            "Requirement already satisfied: protobuf<=3.20.2 in /usr/local/lib/python3.8/dist-packages (from transformers[sentencepiece]) (3.19.6)\n",
            "Requirement already satisfied: sentencepiece!=0.1.92,>=0.1.91 in /usr/local/lib/python3.8/dist-packages (from transformers[sentencepiece]) (0.1.97)\n",
            "Requirement already satisfied: charset-normalizer<4.0,>=2.0 in /usr/local/lib/python3.8/dist-packages (from aiohttp->datasets) (3.0.1)\n",
            "Requirement already satisfied: async-timeout<5.0,>=4.0.0a3 in /usr/local/lib/python3.8/dist-packages (from aiohttp->datasets) (4.0.2)\n",
            "Requirement already satisfied: multidict<7.0,>=4.5 in /usr/local/lib/python3.8/dist-packages (from aiohttp->datasets) (6.0.4)\n",
            "Requirement already satisfied: yarl<2.0,>=1.0 in /usr/local/lib/python3.8/dist-packages (from aiohttp->datasets) (1.8.2)\n",
            "Requirement already satisfied: frozenlist>=1.1.1 in /usr/local/lib/python3.8/dist-packages (from aiohttp->datasets) (1.3.3)\n",
            "Requirement already satisfied: aiosignal>=1.1.2 in /usr/local/lib/python3.8/dist-packages (from aiohttp->datasets) (1.3.1)\n",
            "Requirement already satisfied: attrs>=17.3.0 in /usr/local/lib/python3.8/dist-packages (from aiohttp->datasets) (22.2.0)\n",
            "Requirement already satisfied: typing-extensions>=3.7.4.3 in /usr/local/lib/python3.8/dist-packages (from huggingface-hub<1.0.0,>=0.2.0->datasets) (4.5.0)\n",
            "Requirement already satisfied: certifi>=2017.4.17 in /usr/local/lib/python3.8/dist-packages (from requests>=2.19.0->datasets) (2022.12.7)\n",
            "Requirement already satisfied: idna<3,>=2.5 in /usr/local/lib/python3.8/dist-packages (from requests>=2.19.0->datasets) (2.10)\n",
            "Requirement already satisfied: chardet<5,>=3.0.2 in /usr/local/lib/python3.8/dist-packages (from requests>=2.19.0->datasets) (4.0.0)\n",
            "Requirement already satisfied: urllib3<1.27,>=1.21.1 in /usr/local/lib/python3.8/dist-packages (from requests>=2.19.0->datasets) (1.26.14)\n",
            "Requirement already satisfied: python-dateutil>=2.7.3 in /usr/local/lib/python3.8/dist-packages (from pandas->datasets) (2.8.2)\n",
            "Requirement already satisfied: pytz>=2017.3 in /usr/local/lib/python3.8/dist-packages (from pandas->datasets) (2022.7.1)\n",
            "Requirement already satisfied: six>=1.5 in /usr/local/lib/python3.8/dist-packages (from python-dateutil>=2.7.3->pandas->datasets) (1.15.0)\n",
            "Looking in indexes: https://pypi.org/simple, https://us-python.pkg.dev/colab-wheels/public/simple/\n",
            "Requirement already satisfied: faiss-gpu in /usr/local/lib/python3.8/dist-packages (1.7.2)\n"
          ]
        }
      ],
      "source": [
        "!pip install datasets evaluate transformers[sentencepiece]\n",
        "!pip install faiss-gpu"
      ]
    },
    {
      "cell_type": "code",
      "execution_count": null,
      "id": "9033ddee",
      "metadata": {
        "id": "9033ddee"
      },
      "outputs": [],
      "source": [
        "from transformers import AutoTokenizer, AutoModel\n",
        "\n",
        "model_ckpt = \"sentence-transformers/distilbert-base-nli-stsb-mean-tokens\"\n",
        "tokenizer = AutoTokenizer.from_pretrained(model_ckpt)\n",
        "model = AutoModel.from_pretrained(model_ckpt)"
      ]
    },
    {
      "cell_type": "code",
      "execution_count": null,
      "id": "3e5d9f4d",
      "metadata": {
        "id": "3e5d9f4d"
      },
      "outputs": [],
      "source": [
        "def cls_pooling(model_output):\n",
        "    return model_output.last_hidden_state[:, 0]"
      ]
    },
    {
      "cell_type": "code",
      "source": [
        "import pickle\n",
        "embeddings_dataset = pickle.load(open('Distillbert_PassageLevel_pkl', 'rb'))\n",
        "embeddings_dataset"
      ],
      "metadata": {
        "colab": {
          "base_uri": "https://localhost:8080/"
        },
        "id": "axa9cgNX6aZb",
        "outputId": "f0648afe-337a-45b2-b63f-f8401b8ee048"
      },
      "id": "axa9cgNX6aZb",
      "execution_count": null,
      "outputs": [
        {
          "output_type": "execute_result",
          "data": {
            "text/plain": [
              "Dataset({\n",
              "    features: ['Title', 'Subheading', 'Paragraph', 'URL', 'text', 'embeddings'],\n",
              "    num_rows: 457\n",
              "})"
            ]
          },
          "metadata": {},
          "execution_count": 38
        }
      ]
    },
    {
      "cell_type": "code",
      "source": [
        "def get_embeddings(text_list):\n",
        "    encoded_input = tokenizer(\n",
        "        text_list, padding=True, truncation=True, return_tensors=\"pt\"\n",
        "    )\n",
        "    #encoded_input = {k: v.to(device) for k, v in encoded_input.items()}\n",
        "    model_output = model(**encoded_input)\n",
        "    return cls_pooling(model_output)"
      ],
      "metadata": {
        "id": "Q3c14urW9bre"
      },
      "id": "Q3c14urW9bre",
      "execution_count": null,
      "outputs": []
    },
    {
      "cell_type": "code",
      "execution_count": null,
      "id": "eeffa2c4",
      "metadata": {
        "id": "eeffa2c4"
      },
      "outputs": [],
      "source": [
        "question = [\"Therapy for ADHD\", \"Not able to focus\",\"Child not sleeping properly\",\"bed wetting\"]\n",
        "question_embedding = get_embeddings([question[-1]]).cpu().detach().numpy()\n",
        "#question_embedding"
      ]
    },
    {
      "cell_type": "code",
      "execution_count": null,
      "id": "90c6f45b",
      "metadata": {
        "id": "90c6f45b"
      },
      "outputs": [],
      "source": [
        "scores, samples = embeddings_dataset.get_nearest_examples(\n",
        "    \"embeddings\", question_embedding, k=5\n",
        ")"
      ]
    },
    {
      "cell_type": "code",
      "execution_count": null,
      "id": "9b0a0391",
      "metadata": {
        "id": "9b0a0391"
      },
      "outputs": [],
      "source": [
        "import pandas as pd\n",
        "\n",
        "samples_df = pd.DataFrame.from_dict(samples)\n",
        "samples_df[\"scores\"] = scores\n",
        "samples_df.sort_values(\"scores\", ascending=False, inplace=True)"
      ]
    },
    {
      "cell_type": "code",
      "execution_count": null,
      "id": "6f120149",
      "metadata": {
        "colab": {
          "base_uri": "https://localhost:8080/"
        },
        "id": "6f120149",
        "outputId": "43a0996a-b855-4f51-ea8f-bae28da07546"
      },
      "outputs": [
        {
          "output_type": "stream",
          "name": "stdout",
          "text": [
            "TITLE: 3-Day Potty Training Method: How It Works and How to Prepare- Parenting\n",
            "SCORE: 344.7822265625\n",
            "COMMENT: You’ll need a child-size potty to make things comfortable for your child. This best-selling potty chair looks like an adult-sized toilet, so they should quickly catch on to what it’s meant for. Fun details like a moving handle that makes flushing noises add to the “big kid” feeling your kid will get from using this.     Baby Wipes\n",
            "URL: https://www.parenting.com/toddler/potty-training/how-3-day-potty-training-method-works\n",
            "==================================================\n",
            "\n",
            "TITLE: Toilet Training Your Toddler: Strategy\n",
            "SCORE: 341.1186218261719\n",
            "COMMENT: Pregnancy & Childbirth  Newborn & Infants  Toddler & Pre-school  School Age  Teens & Young Adults\n",
            "URL: https://childrensmd.org/browse-by-topic/behavior-development/toilet-training-your-toddler-strategy-not-tactics\n",
            "==================================================\n",
            "\n",
            "TITLE: 3-Day Potty Training Method: How It Works and How to Prepare- Parenting\n",
            "SCORE: 337.9621887207031\n",
            "COMMENT: In general, parents who do the three-day potty-training method let their kids go naked, or at least diaper-less. If the idea of your kid’s bare butt touching everything you own kind of stresses you out, Jensen says using undies with no pants is OK.     Bath Mat\n",
            "URL: https://www.parenting.com/toddler/potty-training/how-3-day-potty-training-method-works\n",
            "==================================================\n",
            "\n",
            "TITLE: When to Start Toilet Training | Is My Child Ready for It?\n",
            "SCORE: 309.6043395996094\n",
            "COMMENT: Burnout Prevention for Young Athletes  Feb 06, 2020 • Lisa Ryan, MD  When Should Your Child Be Evaluated for Braces?  Jul 14, 2022 • Emily Hahn  Flu Facts: Keeping Your Family Healthy  Nov 09, 2018 • Kendra Whittle\n",
            "URL: https://childrensmd.org/browse-by-age-group/toddler-pre-school/toilet-training\n",
            "==================================================\n",
            "\n",
            "TITLE: When to Start Toilet Training | Is My Child Ready for It?\n",
            "SCORE: 300.8970642089844\n",
            "COMMENT: Pregnancy & Childbirth  Newborn & Infants  Toddler & Pre-school  School Age  Teens & Young Adults\n",
            "URL: https://childrensmd.org/browse-by-age-group/toddler-pre-school/toilet-training\n",
            "==================================================\n",
            "\n"
          ]
        }
      ],
      "source": [
        "for _, row in samples_df.iterrows():\n",
        "    print(f\"TITLE: {row.Title}\")\n",
        "    print(f\"SCORE: {row.scores}\")\n",
        "    print(f\"COMMENT: {row.Paragraph}\")\n",
        "    print(f\"URL: {row.URL}\")\n",
        "    print(\"=\" * 50)\n",
        "    print()"
      ]
    },
    {
      "cell_type": "code",
      "source": [],
      "metadata": {
        "id": "uWdfHeyDL8et"
      },
      "id": "uWdfHeyDL8et",
      "execution_count": null,
      "outputs": []
    }
  ],
  "metadata": {
    "kernelspec": {
      "display_name": "Python 3 (ipykernel)",
      "language": "python",
      "name": "python3"
    },
    "language_info": {
      "codemirror_mode": {
        "name": "ipython",
        "version": 3
      },
      "file_extension": ".py",
      "mimetype": "text/x-python",
      "name": "python",
      "nbconvert_exporter": "python",
      "pygments_lexer": "ipython3",
      "version": "3.9.13"
    },
    "colab": {
      "provenance": []
    }
  },
  "nbformat": 4,
  "nbformat_minor": 5
}