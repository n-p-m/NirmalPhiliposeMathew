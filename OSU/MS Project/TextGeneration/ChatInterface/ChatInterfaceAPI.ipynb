{
  "nbformat": 4,
  "nbformat_minor": 0,
  "metadata": {
    "colab": {
      "provenance": [],
      "gpuType": "T4"
    },
    "kernelspec": {
      "name": "python3",
      "display_name": "Python 3"
    },
    "language_info": {
      "name": "python"
    },
    "accelerator": "GPU"
  },
  "cells": [
    {
      "cell_type": "code",
      "execution_count": null,
      "metadata": {
        "colab": {
          "base_uri": "https://localhost:8080/"
        },
        "id": "4krA-eysB3VL",
        "outputId": "4f4013e8-a97c-46ef-af33-9725f47d0ea7"
      },
      "outputs": [
        {
          "output_type": "stream",
          "name": "stdout",
          "text": [
            "Collecting langchain\n",
            "  Downloading langchain-0.0.335-py3-none-any.whl (2.0 MB)\n",
            "\u001b[2K     \u001b[90m━━━━━━━━━━━━━━━━━━━━━━━━━━━━━━━━━━━━━━━━\u001b[0m \u001b[32m2.0/2.0 MB\u001b[0m \u001b[31m14.7 MB/s\u001b[0m eta \u001b[36m0:00:00\u001b[0m\n",
            "\u001b[?25hRequirement already satisfied: PyYAML>=5.3 in /usr/local/lib/python3.10/dist-packages (from langchain) (6.0.1)\n",
            "Requirement already satisfied: SQLAlchemy<3,>=1.4 in /usr/local/lib/python3.10/dist-packages (from langchain) (2.0.23)\n",
            "Requirement already satisfied: aiohttp<4.0.0,>=3.8.3 in /usr/local/lib/python3.10/dist-packages (from langchain) (3.8.6)\n",
            "Requirement already satisfied: anyio<4.0 in /usr/local/lib/python3.10/dist-packages (from langchain) (3.7.1)\n",
            "Requirement already satisfied: async-timeout<5.0.0,>=4.0.0 in /usr/local/lib/python3.10/dist-packages (from langchain) (4.0.3)\n",
            "Collecting dataclasses-json<0.7,>=0.5.7 (from langchain)\n",
            "  Downloading dataclasses_json-0.6.2-py3-none-any.whl (28 kB)\n",
            "Collecting jsonpatch<2.0,>=1.33 (from langchain)\n",
            "  Downloading jsonpatch-1.33-py2.py3-none-any.whl (12 kB)\n",
            "Collecting langsmith<0.1.0,>=0.0.63 (from langchain)\n",
            "  Downloading langsmith-0.0.63-py3-none-any.whl (45 kB)\n",
            "\u001b[2K     \u001b[90m━━━━━━━━━━━━━━━━━━━━━━━━━━━━━━━━━━━━━━━━\u001b[0m \u001b[32m45.3/45.3 kB\u001b[0m \u001b[31m6.2 MB/s\u001b[0m eta \u001b[36m0:00:00\u001b[0m\n",
            "\u001b[?25hRequirement already satisfied: numpy<2,>=1 in /usr/local/lib/python3.10/dist-packages (from langchain) (1.23.5)\n",
            "Requirement already satisfied: pydantic<3,>=1 in /usr/local/lib/python3.10/dist-packages (from langchain) (1.10.13)\n",
            "Requirement already satisfied: requests<3,>=2 in /usr/local/lib/python3.10/dist-packages (from langchain) (2.31.0)\n",
            "Requirement already satisfied: tenacity<9.0.0,>=8.1.0 in /usr/local/lib/python3.10/dist-packages (from langchain) (8.2.3)\n",
            "Requirement already satisfied: attrs>=17.3.0 in /usr/local/lib/python3.10/dist-packages (from aiohttp<4.0.0,>=3.8.3->langchain) (23.1.0)\n",
            "Requirement already satisfied: charset-normalizer<4.0,>=2.0 in /usr/local/lib/python3.10/dist-packages (from aiohttp<4.0.0,>=3.8.3->langchain) (3.3.2)\n",
            "Requirement already satisfied: multidict<7.0,>=4.5 in /usr/local/lib/python3.10/dist-packages (from aiohttp<4.0.0,>=3.8.3->langchain) (6.0.4)\n",
            "Requirement already satisfied: yarl<2.0,>=1.0 in /usr/local/lib/python3.10/dist-packages (from aiohttp<4.0.0,>=3.8.3->langchain) (1.9.2)\n",
            "Requirement already satisfied: frozenlist>=1.1.1 in /usr/local/lib/python3.10/dist-packages (from aiohttp<4.0.0,>=3.8.3->langchain) (1.4.0)\n",
            "Requirement already satisfied: aiosignal>=1.1.2 in /usr/local/lib/python3.10/dist-packages (from aiohttp<4.0.0,>=3.8.3->langchain) (1.3.1)\n",
            "Requirement already satisfied: idna>=2.8 in /usr/local/lib/python3.10/dist-packages (from anyio<4.0->langchain) (3.4)\n",
            "Requirement already satisfied: sniffio>=1.1 in /usr/local/lib/python3.10/dist-packages (from anyio<4.0->langchain) (1.3.0)\n",
            "Requirement already satisfied: exceptiongroup in /usr/local/lib/python3.10/dist-packages (from anyio<4.0->langchain) (1.1.3)\n",
            "Collecting marshmallow<4.0.0,>=3.18.0 (from dataclasses-json<0.7,>=0.5.7->langchain)\n",
            "  Downloading marshmallow-3.20.1-py3-none-any.whl (49 kB)\n",
            "\u001b[2K     \u001b[90m━━━━━━━━━━━━━━━━━━━━━━━━━━━━━━━━━━━━━━━━\u001b[0m \u001b[32m49.4/49.4 kB\u001b[0m \u001b[31m6.9 MB/s\u001b[0m eta \u001b[36m0:00:00\u001b[0m\n",
            "\u001b[?25hCollecting typing-inspect<1,>=0.4.0 (from dataclasses-json<0.7,>=0.5.7->langchain)\n",
            "  Downloading typing_inspect-0.9.0-py3-none-any.whl (8.8 kB)\n",
            "Collecting jsonpointer>=1.9 (from jsonpatch<2.0,>=1.33->langchain)\n",
            "  Downloading jsonpointer-2.4-py2.py3-none-any.whl (7.8 kB)\n",
            "Requirement already satisfied: typing-extensions>=4.2.0 in /usr/local/lib/python3.10/dist-packages (from pydantic<3,>=1->langchain) (4.5.0)\n",
            "Requirement already satisfied: urllib3<3,>=1.21.1 in /usr/local/lib/python3.10/dist-packages (from requests<3,>=2->langchain) (2.0.7)\n",
            "Requirement already satisfied: certifi>=2017.4.17 in /usr/local/lib/python3.10/dist-packages (from requests<3,>=2->langchain) (2023.7.22)\n",
            "Requirement already satisfied: greenlet!=0.4.17 in /usr/local/lib/python3.10/dist-packages (from SQLAlchemy<3,>=1.4->langchain) (3.0.1)\n",
            "Requirement already satisfied: packaging>=17.0 in /usr/local/lib/python3.10/dist-packages (from marshmallow<4.0.0,>=3.18.0->dataclasses-json<0.7,>=0.5.7->langchain) (23.2)\n",
            "Collecting mypy-extensions>=0.3.0 (from typing-inspect<1,>=0.4.0->dataclasses-json<0.7,>=0.5.7->langchain)\n",
            "  Downloading mypy_extensions-1.0.0-py3-none-any.whl (4.7 kB)\n",
            "Installing collected packages: mypy-extensions, marshmallow, jsonpointer, typing-inspect, langsmith, jsonpatch, dataclasses-json, langchain\n",
            "Successfully installed dataclasses-json-0.6.2 jsonpatch-1.33 jsonpointer-2.4 langchain-0.0.335 langsmith-0.0.63 marshmallow-3.20.1 mypy-extensions-1.0.0 typing-inspect-0.9.0\n",
            "Collecting python-decouple\n",
            "  Downloading python_decouple-3.8-py3-none-any.whl (9.9 kB)\n",
            "Installing collected packages: python-decouple\n",
            "Successfully installed python-decouple-3.8\n",
            "Requirement already satisfied: pydantic==1.* in /usr/local/lib/python3.10/dist-packages (1.10.13)\n",
            "Requirement already satisfied: typing-extensions>=4.2.0 in /usr/local/lib/python3.10/dist-packages (from pydantic==1.*) (4.5.0)\n",
            "Collecting transformers\n",
            "  Downloading transformers-4.35.0-py3-none-any.whl (7.9 MB)\n",
            "\u001b[2K     \u001b[90m━━━━━━━━━━━━━━━━━━━━━━━━━━━━━━━━━━━━━━━━\u001b[0m \u001b[32m7.9/7.9 MB\u001b[0m \u001b[31m30.5 MB/s\u001b[0m eta \u001b[36m0:00:00\u001b[0m\n",
            "\u001b[?25hRequirement already satisfied: filelock in /usr/local/lib/python3.10/dist-packages (from transformers) (3.13.1)\n",
            "Collecting huggingface-hub<1.0,>=0.16.4 (from transformers)\n",
            "  Downloading huggingface_hub-0.19.0-py3-none-any.whl (311 kB)\n",
            "\u001b[2K     \u001b[90m━━━━━━━━━━━━━━━━━━━━━━━━━━━━━━━━━━━━━━━━\u001b[0m \u001b[32m311.2/311.2 kB\u001b[0m \u001b[31m38.9 MB/s\u001b[0m eta \u001b[36m0:00:00\u001b[0m\n",
            "\u001b[?25hRequirement already satisfied: numpy>=1.17 in /usr/local/lib/python3.10/dist-packages (from transformers) (1.23.5)\n",
            "Requirement already satisfied: packaging>=20.0 in /usr/local/lib/python3.10/dist-packages (from transformers) (23.2)\n",
            "Requirement already satisfied: pyyaml>=5.1 in /usr/local/lib/python3.10/dist-packages (from transformers) (6.0.1)\n",
            "Requirement already satisfied: regex!=2019.12.17 in /usr/local/lib/python3.10/dist-packages (from transformers) (2023.6.3)\n",
            "Requirement already satisfied: requests in /usr/local/lib/python3.10/dist-packages (from transformers) (2.31.0)\n",
            "Collecting tokenizers<0.15,>=0.14 (from transformers)\n",
            "  Downloading tokenizers-0.14.1-cp310-cp310-manylinux_2_17_x86_64.manylinux2014_x86_64.whl (3.8 MB)\n",
            "\u001b[2K     \u001b[90m━━━━━━━━━━━━━━━━━━━━━━━━━━━━━━━━━━━━━━━━\u001b[0m \u001b[32m3.8/3.8 MB\u001b[0m \u001b[31m82.0 MB/s\u001b[0m eta \u001b[36m0:00:00\u001b[0m\n",
            "\u001b[?25hCollecting safetensors>=0.3.1 (from transformers)\n",
            "  Downloading safetensors-0.4.0-cp310-cp310-manylinux_2_17_x86_64.manylinux2014_x86_64.whl (1.3 MB)\n",
            "\u001b[2K     \u001b[90m━━━━━━━━━━━━━━━━━━━━━━━━━━━━━━━━━━━━━━━━\u001b[0m \u001b[32m1.3/1.3 MB\u001b[0m \u001b[31m71.7 MB/s\u001b[0m eta \u001b[36m0:00:00\u001b[0m\n",
            "\u001b[?25hRequirement already satisfied: tqdm>=4.27 in /usr/local/lib/python3.10/dist-packages (from transformers) (4.66.1)\n",
            "Requirement already satisfied: fsspec>=2023.5.0 in /usr/local/lib/python3.10/dist-packages (from huggingface-hub<1.0,>=0.16.4->transformers) (2023.6.0)\n",
            "Requirement already satisfied: typing-extensions>=3.7.4.3 in /usr/local/lib/python3.10/dist-packages (from huggingface-hub<1.0,>=0.16.4->transformers) (4.5.0)\n",
            "Collecting huggingface-hub<1.0,>=0.16.4 (from transformers)\n",
            "  Downloading huggingface_hub-0.17.3-py3-none-any.whl (295 kB)\n",
            "\u001b[2K     \u001b[90m━━━━━━━━━━━━━━━━━━━━━━━━━━━━━━━━━━━━━━━━\u001b[0m \u001b[32m295.0/295.0 kB\u001b[0m \u001b[31m40.6 MB/s\u001b[0m eta \u001b[36m0:00:00\u001b[0m\n",
            "\u001b[?25hRequirement already satisfied: charset-normalizer<4,>=2 in /usr/local/lib/python3.10/dist-packages (from requests->transformers) (3.3.2)\n",
            "Requirement already satisfied: idna<4,>=2.5 in /usr/local/lib/python3.10/dist-packages (from requests->transformers) (3.4)\n",
            "Requirement already satisfied: urllib3<3,>=1.21.1 in /usr/local/lib/python3.10/dist-packages (from requests->transformers) (2.0.7)\n",
            "Requirement already satisfied: certifi>=2017.4.17 in /usr/local/lib/python3.10/dist-packages (from requests->transformers) (2023.7.22)\n",
            "Installing collected packages: safetensors, huggingface-hub, tokenizers, transformers\n",
            "Successfully installed huggingface-hub-0.17.3 safetensors-0.4.0 tokenizers-0.14.1 transformers-4.35.0\n",
            "\u001b[2K     \u001b[90m━━━━━━━━━━━━━━━━━━━━━━━━━━━━━━━━━━━━━━━━\u001b[0m \u001b[32m15.4/15.4 MB\u001b[0m \u001b[31m34.0 MB/s\u001b[0m eta \u001b[36m0:00:00\u001b[0m\n",
            "\u001b[2K     \u001b[90m━━━━━━━━━━━━━━━━━━━━━━━━━━━━━━━━━━━━━━━━\u001b[0m \u001b[32m92.9/92.9 kB\u001b[0m \u001b[31m12.3 MB/s\u001b[0m eta \u001b[36m0:00:00\u001b[0m\n",
            "\u001b[?25h  Preparing metadata (setup.py) ... \u001b[?25l\u001b[?25hdone\n",
            "\u001b[2K     \u001b[90m━━━━━━━━━━━━━━━━━━━━━━━━━━━━━━━━━━━━━━━━\u001b[0m \u001b[32m302.7/302.7 kB\u001b[0m \u001b[31m34.0 MB/s\u001b[0m eta \u001b[36m0:00:00\u001b[0m\n",
            "\u001b[2K     \u001b[90m━━━━━━━━━━━━━━━━━━━━━━━━━━━━━━━━━━━━━━━━\u001b[0m \u001b[32m75.0/75.0 kB\u001b[0m \u001b[31m9.9 MB/s\u001b[0m eta \u001b[36m0:00:00\u001b[0m\n",
            "\u001b[2K     \u001b[90m━━━━━━━━━━━━━━━━━━━━━━━━━━━━━━━━━━━━━━━━\u001b[0m \u001b[32m138.7/138.7 kB\u001b[0m \u001b[31m17.8 MB/s\u001b[0m eta \u001b[36m0:00:00\u001b[0m\n",
            "\u001b[2K     \u001b[90m━━━━━━━━━━━━━━━━━━━━━━━━━━━━━━━━━━━━━━━━\u001b[0m \u001b[32m395.8/395.8 kB\u001b[0m \u001b[31m18.6 MB/s\u001b[0m eta \u001b[36m0:00:00\u001b[0m\n",
            "\u001b[2K     \u001b[90m━━━━━━━━━━━━━━━━━━━━━━━━━━━━━━━━━━━━━━━━\u001b[0m \u001b[32m45.7/45.7 kB\u001b[0m \u001b[31m6.0 MB/s\u001b[0m eta \u001b[36m0:00:00\u001b[0m\n",
            "\u001b[2K     \u001b[90m━━━━━━━━━━━━━━━━━━━━━━━━━━━━━━━━━━━━━━━━\u001b[0m \u001b[32m59.7/59.7 kB\u001b[0m \u001b[31m8.4 MB/s\u001b[0m eta \u001b[36m0:00:00\u001b[0m\n",
            "\u001b[2K     \u001b[90m━━━━━━━━━━━━━━━━━━━━━━━━━━━━━━━━━━━━━━━━\u001b[0m \u001b[32m129.9/129.9 kB\u001b[0m \u001b[31m12.6 MB/s\u001b[0m eta \u001b[36m0:00:00\u001b[0m\n",
            "\u001b[2K     \u001b[90m━━━━━━━━━━━━━━━━━━━━━━━━━━━━━━━━━━━━━━━━\u001b[0m \u001b[32m2.0/2.0 MB\u001b[0m \u001b[31m89.8 MB/s\u001b[0m eta \u001b[36m0:00:00\u001b[0m\n",
            "\u001b[2K     \u001b[90m━━━━━━━━━━━━━━━━━━━━━━━━━━━━━━━━━━━━━━━━\u001b[0m \u001b[32m58.3/58.3 kB\u001b[0m \u001b[31m7.6 MB/s\u001b[0m eta \u001b[36m0:00:00\u001b[0m\n",
            "\u001b[2K     \u001b[90m━━━━━━━━━━━━━━━━━━━━━━━━━━━━━━━━━━━━━━━━\u001b[0m \u001b[32m67.0/67.0 kB\u001b[0m \u001b[31m8.7 MB/s\u001b[0m eta \u001b[36m0:00:00\u001b[0m\n",
            "\u001b[2K     \u001b[90m━━━━━━━━━━━━━━━━━━━━━━━━━━━━━━━━━━━━━━━━\u001b[0m \u001b[32m76.9/76.9 kB\u001b[0m \u001b[31m9.7 MB/s\u001b[0m eta \u001b[36m0:00:00\u001b[0m\n",
            "\u001b[?25h  Building wheel for ffmpy (setup.py) ... \u001b[?25l\u001b[?25hdone\n",
            "\u001b[31mERROR: pip's dependency resolver does not currently take into account all the packages that are installed. This behaviour is the source of the following dependency conflicts.\n",
            "lida 0.0.10 requires kaleido, which is not installed.\n",
            "llmx 0.0.15a0 requires cohere, which is not installed.\n",
            "llmx 0.0.15a0 requires openai, which is not installed.\n",
            "llmx 0.0.15a0 requires tiktoken, which is not installed.\n",
            "tensorflow-probability 0.22.0 requires typing-extensions<4.6.0, but you have typing-extensions 4.8.0 which is incompatible.\u001b[0m\u001b[31m\n",
            "\u001b[0m"
          ]
        }
      ],
      "source": [
        "! pip -q install --upgrade together\n",
        "! pip install langchain\n",
        "! pip install python-decouple\n",
        "! pip install \"pydantic==1.*\"\n",
        "! pip install transformers\n",
        "!pip install -q gradio\n"
      ]
    },
    {
      "cell_type": "code",
      "source": [
        "from decouple import config\n",
        "import together\n",
        "\n",
        "together.api_key='8e0125f2beb859507e6bcd5fa13ca51d457acb65d9132879bda89944a6e72481'\n"
      ],
      "metadata": {
        "id": "1ShOR75YB5x0"
      },
      "execution_count": null,
      "outputs": []
    },
    {
      "cell_type": "code",
      "source": [
        "models=together.Models.list()\n",
        "\n",
        "\n",
        "for i, model in enumerate(models):\n",
        "  print(i,model['name'])"
      ],
      "metadata": {
        "colab": {
          "base_uri": "https://localhost:8080/"
        },
        "id": "hsgHG7xcB7Dy",
        "outputId": "6ae14f03-78ff-4065-fdf8-dfa7a981fa79"
      },
      "execution_count": null,
      "outputs": [
        {
          "output_type": "stream",
          "name": "stdout",
          "text": [
            "0 Austism/chronos-hermes-13b\n",
            "1 EleutherAI/llemma_7b\n",
            "2 EleutherAI/pythia-12b-v0\n",
            "3 EleutherAI/pythia-1b-v0\n",
            "4 EleutherAI/pythia-2.8b-v0\n",
            "5 EleutherAI/pythia-6.9b\n",
            "6 Gryphe/MythoMax-L2-13b\n",
            "7 HuggingFaceH4/starchat-alpha\n",
            "8 NousResearch/Nous-Hermes-13b\n",
            "9 NousResearch/Nous-Hermes-Llama2-13b\n",
            "10 NousResearch/Nous-Hermes-Llama2-70b\n",
            "11 NousResearch/Nous-Hermes-llama-2-7b\n",
            "12 NumbersStation/nsql-llama-2-7B\n",
            "13 Open-Orca/Mistral-7B-OpenOrca\n",
            "14 OpenAssistant/oasst-sft-4-pythia-12b-epoch-3.5\n",
            "15 OpenAssistant/stablelm-7b-sft-v7-epoch-3\n",
            "16 Phind/Phind-CodeLlama-34B-Python-v1\n",
            "17 Phind/Phind-CodeLlama-34B-v2\n",
            "18 SG161222/Realistic_Vision_V3.0_VAE\n",
            "19 WizardLM/WizardCoder-15B-V1.0\n",
            "20 WizardLM/WizardLM-70B-V1.0\n",
            "21 bigcode/starcoder\n",
            "22 databricks/dolly-v2-3b\n",
            "23 databricks/dolly-v2-7b\n",
            "24 defog/sqlcoder\n",
            "25 garage-bAInd/Platypus2-70B-instruct\n",
            "26 huggyllama/llama-13b\n",
            "27 huggyllama/llama-30b\n",
            "28 huggyllama/llama-65b\n",
            "29 huggyllama/llama-7b\n",
            "30 lmsys/fastchat-t5-3b-v1.0\n",
            "31 lmsys/vicuna-13b-v1.5-16k\n",
            "32 lmsys/vicuna-13b-v1.5\n",
            "33 lmsys/vicuna-7b-v1.5\n",
            "34 mistralai/Mistral-7B-Instruct-v0.1\n",
            "35 mistralai/Mistral-7B-v0.1\n",
            "36 prompthero/openjourney\n",
            "37 runwayml/stable-diffusion-v1-5\n",
            "38 stabilityai/stable-diffusion-2-1\n",
            "39 stabilityai/stable-diffusion-xl-base-1.0\n",
            "40 teknium/OpenHermes-2-Mistral-7B\n",
            "41 togethercomputer/CodeLlama-13b-Instruct\n",
            "42 togethercomputer/CodeLlama-13b-Python\n",
            "43 togethercomputer/CodeLlama-13b\n",
            "44 togethercomputer/CodeLlama-34b-Instruct\n",
            "45 togethercomputer/CodeLlama-34b-Python\n",
            "46 togethercomputer/CodeLlama-34b\n",
            "47 togethercomputer/CodeLlama-7b-Instruct\n",
            "48 togethercomputer/CodeLlama-7b-Python\n",
            "49 togethercomputer/CodeLlama-7b\n",
            "50 togethercomputer/GPT-JT-6B-v1\n",
            "51 togethercomputer/GPT-JT-Moderation-6B\n",
            "52 togethercomputer/GPT-NeoXT-Chat-Base-20B\n",
            "53 togethercomputer/Koala-13B\n",
            "54 togethercomputer/LLaMA-2-7B-32K\n",
            "55 togethercomputer/Llama-2-7B-32K-Instruct\n",
            "56 togethercomputer/Pythia-Chat-Base-7B-v0.16\n",
            "57 togethercomputer/Qwen-7B-Chat\n",
            "58 togethercomputer/Qwen-7B\n",
            "59 togethercomputer/RedPajama-INCITE-7B-Base\n",
            "60 togethercomputer/RedPajama-INCITE-7B-Chat\n",
            "61 togethercomputer/RedPajama-INCITE-7B-Instruct\n",
            "62 togethercomputer/RedPajama-INCITE-Base-3B-v1\n",
            "63 togethercomputer/RedPajama-INCITE-Chat-3B-v1\n",
            "64 togethercomputer/RedPajama-INCITE-Instruct-3B-v1\n",
            "65 togethercomputer/alpaca-7b\n",
            "66 togethercomputer/codegen2-16B\n",
            "67 togethercomputer/codegen2-7B\n",
            "68 togethercomputer/falcon-40b-instruct\n",
            "69 togethercomputer/falcon-40b\n",
            "70 togethercomputer/falcon-7b-instruct\n",
            "71 togethercomputer/falcon-7b\n",
            "72 togethercomputer/guanaco-13b\n",
            "73 togethercomputer/guanaco-65b\n",
            "74 togethercomputer/guanaco-7b\n",
            "75 togethercomputer/llama-2-13b-chat\n",
            "76 togethercomputer/llama-2-13b\n",
            "77 togethercomputer/llama-2-70b-chat\n",
            "78 togethercomputer/llama-2-70b\n",
            "79 togethercomputer/llama-2-7b-chat\n",
            "80 togethercomputer/llama-2-7b\n",
            "81 togethercomputer/mpt-30b-instruct\n",
            "82 togethercomputer/mpt-30b\n",
            "83 togethercomputer/mpt-7b-chat\n",
            "84 upstage/SOLAR-0-70b-16bit\n",
            "85 wavymulder/Analog-Diffusion\n",
            "86 lmsys/vicuna-13b-v1.3\n",
            "87 togethercomputer/replit-code-v1-3b\n",
            "88 togethercomputer/mpt-7b\n",
            "89 togethercomputer/mpt-30b-chat\n",
            "90 google/flan-t5-xxl\n",
            "91 google/flan-t5-xl\n",
            "92 togethercomputer/mpt-7b-instruct\n",
            "93 NumbersStation/nsql-6B\n",
            "94 togethercomputer/Koala-7B\n",
            "95 databricks/dolly-v2-12b\n",
            "96 EleutherAI/gpt-neox-20b\n",
            "97 OpenAssistant/oasst-sft-6-llama-30b-xor\n",
            "98 Salesforce/instructcodet5p-16b\n",
            "99 EleutherAI/gpt-j-6b\n",
            "100 lmsys/vicuna-7b-v1.3\n",
            "101 stabilityai/stablelm-base-alpha-3b\n",
            "102 stabilityai/stablelm-base-alpha-7b\n",
            "103 togethercomputer/guanaco-33b\n"
          ]
        }
      ]
    },
    {
      "cell_type": "code",
      "source": [
        "together.Models.start(\"togethercomputer/llama-2-7b-chat\")"
      ],
      "metadata": {
        "colab": {
          "base_uri": "https://localhost:8080/"
        },
        "id": "6pulNpFdB9Ih",
        "outputId": "90918d49-0d36-4f6e-eeb3-019f6d3e4064"
      },
      "execution_count": null,
      "outputs": [
        {
          "output_type": "execute_result",
          "data": {
            "text/plain": [
              "{'success': True,\n",
              " 'value': '8fadd0868b5629472202aee7a8e5a64867dd21cd870fff0f20cea38d795732aa-38affa63e0e6842a8ec7da640b9281d3a7ca8c8476c0f6499a54ac3a9a3b64c2'}"
            ]
          },
          "metadata": {},
          "execution_count": 4
        }
      ]
    },
    {
      "cell_type": "code",
      "source": [
        "from typing import Any,Dict\n",
        "from pydantic import Extra, root_validator\n",
        "from langchain.llms.base import LLM\n",
        "from langchain.utils import get_from_dict_or_env\n",
        "\n",
        "TG_apikey='8e0125f2beb859507e6bcd5fa13ca51d457acb65d9132879bda89944a6e72481'\n",
        "\n",
        "class TogetherLLM(LLM):\n",
        "  model=\"togethercomputer/llama-2-7b-chat\"\n",
        "\n",
        "  together_api_key= TG_apikey\n",
        "\n",
        "  temperature =0.3\n",
        "\n",
        "  max_tokens=256\n",
        "\n",
        "  class Config:\n",
        "    extra = Extra.forbid\n",
        "\n",
        "  @root_validator(skip_on_failure=True)\n",
        "\n",
        "  def validate_environment(cls,values:Dict)-> Dict:\n",
        "    api_key=get_from_dict_or_env(\n",
        "        values,\"together_api_key\",\"TG_apikey\"\n",
        "    )\n",
        "    values[\"together_api_key\"]=api_key\n",
        "    return values\n",
        "\n",
        "  @property\n",
        "  def _llm_type(self):\n",
        "    return \"together\"\n",
        "\n",
        "  def _call(\n",
        "      self,\n",
        "      prompt,\n",
        "      **kwargs:Any,\n",
        "  ):\n",
        "    together.api_key = self.together_api_key\n",
        "    output = together.Complete.create(prompt,\n",
        "                                      model=self.model,\n",
        "                                      max_tokens=self.max_tokens,\n",
        "                                      temperature=self.temperature,)\n",
        "    text=output['output']['choices'][0]['text']\n",
        "    return text"
      ],
      "metadata": {
        "id": "L5LmOf-kCAZF",
        "colab": {
          "base_uri": "https://localhost:8080/",
          "height": 480
        },
        "outputId": "4a474e3c-6fb5-4032-87e4-f4141a447354"
      },
      "execution_count": null,
      "outputs": [
        {
          "output_type": "stream",
          "name": "stderr",
          "text": [
            "<ipython-input-8-1b0e802465eb>:18: PydanticDeprecatedSince20: `pydantic.config.Extra` is deprecated, use literal values instead (e.g. `extra='allow'`). Deprecated in Pydantic V2.0 to be removed in V3.0. See Pydantic V2 Migration Guide at https://errors.pydantic.dev/2.4/migration/\n",
            "  extra = Extra.forbid\n",
            "<ipython-input-8-1b0e802465eb>:20: PydanticDeprecatedSince20: Pydantic V1 style `@root_validator` validators are deprecated. You should migrate to Pydantic V2 style `@model_validator` validators, see the migration guide for more details. Deprecated in Pydantic V2.0 to be removed in V3.0. See Pydantic V2 Migration Guide at https://errors.pydantic.dev/2.4/migration/\n",
            "  @root_validator(skip_on_failure=True)\n"
          ]
        },
        {
          "output_type": "error",
          "ename": "TypeError",
          "evalue": "ignored",
          "traceback": [
            "\u001b[0;31m---------------------------------------------------------------------------\u001b[0m",
            "\u001b[0;31mTypeError\u001b[0m                                 Traceback (most recent call last)",
            "\u001b[0;32m<ipython-input-8-1b0e802465eb>\u001b[0m in \u001b[0;36m<cell line: 8>\u001b[0;34m()\u001b[0m\n\u001b[1;32m      6\u001b[0m \u001b[0mTG_apikey\u001b[0m\u001b[0;34m=\u001b[0m\u001b[0;34m'8e0125f2beb859507e6bcd5fa13ca51d457acb65d9132879bda89944a6e72481'\u001b[0m\u001b[0;34m\u001b[0m\u001b[0;34m\u001b[0m\u001b[0m\n\u001b[1;32m      7\u001b[0m \u001b[0;34m\u001b[0m\u001b[0m\n\u001b[0;32m----> 8\u001b[0;31m \u001b[0;32mclass\u001b[0m \u001b[0mTogetherLLM\u001b[0m\u001b[0;34m(\u001b[0m\u001b[0mLLM\u001b[0m\u001b[0;34m)\u001b[0m\u001b[0;34m:\u001b[0m\u001b[0;34m\u001b[0m\u001b[0;34m\u001b[0m\u001b[0m\n\u001b[0m\u001b[1;32m      9\u001b[0m   \u001b[0mmodel\u001b[0m\u001b[0;34m=\u001b[0m\u001b[0;34m\"togethercomputer/llama-2-7b-chat\"\u001b[0m\u001b[0;34m\u001b[0m\u001b[0;34m\u001b[0m\u001b[0m\n\u001b[1;32m     10\u001b[0m \u001b[0;34m\u001b[0m\u001b[0m\n",
            "\u001b[0;32m/usr/local/lib/python3.10/dist-packages/pydantic/v1/main.py\u001b[0m in \u001b[0;36m__new__\u001b[0;34m(mcs, name, bases, namespace, **kwargs)\u001b[0m\n\u001b[1;32m    219\u001b[0m                 \u001b[0;32melif\u001b[0m \u001b[0mis_valid_field\u001b[0m\u001b[0;34m(\u001b[0m\u001b[0mvar_name\u001b[0m\u001b[0;34m)\u001b[0m \u001b[0;32mand\u001b[0m \u001b[0mvar_name\u001b[0m \u001b[0;32mnot\u001b[0m \u001b[0;32min\u001b[0m \u001b[0mannotations\u001b[0m \u001b[0;32mand\u001b[0m \u001b[0mcan_be_changed\u001b[0m\u001b[0;34m:\u001b[0m\u001b[0;34m\u001b[0m\u001b[0;34m\u001b[0m\u001b[0m\n\u001b[1;32m    220\u001b[0m                     \u001b[0mvalidate_field_name\u001b[0m\u001b[0;34m(\u001b[0m\u001b[0mbases\u001b[0m\u001b[0;34m,\u001b[0m \u001b[0mvar_name\u001b[0m\u001b[0;34m)\u001b[0m\u001b[0;34m\u001b[0m\u001b[0;34m\u001b[0m\u001b[0m\n\u001b[0;32m--> 221\u001b[0;31m                     inferred = ModelField.infer(\n\u001b[0m\u001b[1;32m    222\u001b[0m                         \u001b[0mname\u001b[0m\u001b[0;34m=\u001b[0m\u001b[0mvar_name\u001b[0m\u001b[0;34m,\u001b[0m\u001b[0;34m\u001b[0m\u001b[0;34m\u001b[0m\u001b[0m\n\u001b[1;32m    223\u001b[0m                         \u001b[0mvalue\u001b[0m\u001b[0;34m=\u001b[0m\u001b[0mvalue\u001b[0m\u001b[0;34m,\u001b[0m\u001b[0;34m\u001b[0m\u001b[0;34m\u001b[0m\u001b[0m\n",
            "\u001b[0;32m/usr/local/lib/python3.10/dist-packages/pydantic/v1/fields.py\u001b[0m in \u001b[0;36minfer\u001b[0;34m(cls, name, value, annotation, class_validators, config)\u001b[0m\n\u001b[1;32m    504\u001b[0m         \u001b[0mannotation\u001b[0m \u001b[0;34m=\u001b[0m \u001b[0mget_annotation_from_field_info\u001b[0m\u001b[0;34m(\u001b[0m\u001b[0mannotation\u001b[0m\u001b[0;34m,\u001b[0m \u001b[0mfield_info\u001b[0m\u001b[0;34m,\u001b[0m \u001b[0mname\u001b[0m\u001b[0;34m,\u001b[0m \u001b[0mconfig\u001b[0m\u001b[0;34m.\u001b[0m\u001b[0mvalidate_assignment\u001b[0m\u001b[0;34m)\u001b[0m\u001b[0;34m\u001b[0m\u001b[0;34m\u001b[0m\u001b[0m\n\u001b[1;32m    505\u001b[0m \u001b[0;34m\u001b[0m\u001b[0m\n\u001b[0;32m--> 506\u001b[0;31m         return cls(\n\u001b[0m\u001b[1;32m    507\u001b[0m             \u001b[0mname\u001b[0m\u001b[0;34m=\u001b[0m\u001b[0mname\u001b[0m\u001b[0;34m,\u001b[0m\u001b[0;34m\u001b[0m\u001b[0;34m\u001b[0m\u001b[0m\n\u001b[1;32m    508\u001b[0m             \u001b[0mtype_\u001b[0m\u001b[0;34m=\u001b[0m\u001b[0mannotation\u001b[0m\u001b[0;34m,\u001b[0m\u001b[0;34m\u001b[0m\u001b[0;34m\u001b[0m\u001b[0m\n",
            "\u001b[0;32m/usr/local/lib/python3.10/dist-packages/pydantic/v1/fields.py\u001b[0m in \u001b[0;36m__init__\u001b[0;34m(self, name, type_, class_validators, model_config, default, default_factory, required, final, alias, field_info)\u001b[0m\n\u001b[1;32m    434\u001b[0m         \u001b[0mself\u001b[0m\u001b[0;34m.\u001b[0m\u001b[0mshape\u001b[0m\u001b[0;34m:\u001b[0m \u001b[0mint\u001b[0m \u001b[0;34m=\u001b[0m \u001b[0mSHAPE_SINGLETON\u001b[0m\u001b[0;34m\u001b[0m\u001b[0;34m\u001b[0m\u001b[0m\n\u001b[1;32m    435\u001b[0m         \u001b[0mself\u001b[0m\u001b[0;34m.\u001b[0m\u001b[0mmodel_config\u001b[0m\u001b[0;34m.\u001b[0m\u001b[0mprepare_field\u001b[0m\u001b[0;34m(\u001b[0m\u001b[0mself\u001b[0m\u001b[0;34m)\u001b[0m\u001b[0;34m\u001b[0m\u001b[0;34m\u001b[0m\u001b[0m\n\u001b[0;32m--> 436\u001b[0;31m         \u001b[0mself\u001b[0m\u001b[0;34m.\u001b[0m\u001b[0mprepare\u001b[0m\u001b[0;34m(\u001b[0m\u001b[0;34m)\u001b[0m\u001b[0;34m\u001b[0m\u001b[0;34m\u001b[0m\u001b[0m\n\u001b[0m\u001b[1;32m    437\u001b[0m \u001b[0;34m\u001b[0m\u001b[0m\n\u001b[1;32m    438\u001b[0m     \u001b[0;32mdef\u001b[0m \u001b[0mget_default\u001b[0m\u001b[0;34m(\u001b[0m\u001b[0mself\u001b[0m\u001b[0;34m)\u001b[0m \u001b[0;34m->\u001b[0m \u001b[0mAny\u001b[0m\u001b[0;34m:\u001b[0m\u001b[0;34m\u001b[0m\u001b[0;34m\u001b[0m\u001b[0m\n",
            "\u001b[0;32m/usr/local/lib/python3.10/dist-packages/pydantic/v1/fields.py\u001b[0m in \u001b[0;36mprepare\u001b[0;34m(self)\u001b[0m\n\u001b[1;32m    544\u001b[0m         \u001b[0me\u001b[0m\u001b[0;34m.\u001b[0m\u001b[0mg\u001b[0m\u001b[0;34m.\u001b[0m \u001b[0mcalling\u001b[0m \u001b[0mit\u001b[0m \u001b[0mit\u001b[0m \u001b[0mmultiple\u001b[0m \u001b[0mtimes\u001b[0m \u001b[0mmay\u001b[0m \u001b[0mmodify\u001b[0m \u001b[0mthe\u001b[0m \u001b[0mfield\u001b[0m \u001b[0;32mand\u001b[0m \u001b[0mconfigure\u001b[0m \u001b[0mit\u001b[0m \u001b[0mincorrectly\u001b[0m\u001b[0;34m.\u001b[0m\u001b[0;34m\u001b[0m\u001b[0;34m\u001b[0m\u001b[0m\n\u001b[1;32m    545\u001b[0m         \"\"\"\n\u001b[0;32m--> 546\u001b[0;31m         \u001b[0mself\u001b[0m\u001b[0;34m.\u001b[0m\u001b[0m_set_default_and_type\u001b[0m\u001b[0;34m(\u001b[0m\u001b[0;34m)\u001b[0m\u001b[0;34m\u001b[0m\u001b[0;34m\u001b[0m\u001b[0m\n\u001b[0m\u001b[1;32m    547\u001b[0m         \u001b[0;32mif\u001b[0m \u001b[0mself\u001b[0m\u001b[0;34m.\u001b[0m\u001b[0mtype_\u001b[0m\u001b[0;34m.\u001b[0m\u001b[0m__class__\u001b[0m \u001b[0;32mis\u001b[0m \u001b[0mForwardRef\u001b[0m \u001b[0;32mor\u001b[0m \u001b[0mself\u001b[0m\u001b[0;34m.\u001b[0m\u001b[0mtype_\u001b[0m\u001b[0;34m.\u001b[0m\u001b[0m__class__\u001b[0m \u001b[0;32mis\u001b[0m \u001b[0mDeferredType\u001b[0m\u001b[0;34m:\u001b[0m\u001b[0;34m\u001b[0m\u001b[0;34m\u001b[0m\u001b[0m\n\u001b[1;32m    548\u001b[0m             \u001b[0;31m# self.type_ is currently a ForwardRef and there's nothing we can do now,\u001b[0m\u001b[0;34m\u001b[0m\u001b[0;34m\u001b[0m\u001b[0m\n",
            "\u001b[0;32m/usr/local/lib/python3.10/dist-packages/pydantic/v1/fields.py\u001b[0m in \u001b[0;36m_set_default_and_type\u001b[0;34m(self)\u001b[0m\n\u001b[1;32m    568\u001b[0m             \u001b[0;32mreturn\u001b[0m\u001b[0;34m\u001b[0m\u001b[0;34m\u001b[0m\u001b[0m\n\u001b[1;32m    569\u001b[0m \u001b[0;34m\u001b[0m\u001b[0m\n\u001b[0;32m--> 570\u001b[0;31m         \u001b[0mdefault_value\u001b[0m \u001b[0;34m=\u001b[0m \u001b[0mself\u001b[0m\u001b[0;34m.\u001b[0m\u001b[0mget_default\u001b[0m\u001b[0;34m(\u001b[0m\u001b[0;34m)\u001b[0m\u001b[0;34m\u001b[0m\u001b[0;34m\u001b[0m\u001b[0m\n\u001b[0m\u001b[1;32m    571\u001b[0m \u001b[0;34m\u001b[0m\u001b[0m\n\u001b[1;32m    572\u001b[0m         \u001b[0;32mif\u001b[0m \u001b[0mdefault_value\u001b[0m \u001b[0;32mis\u001b[0m \u001b[0;32mnot\u001b[0m \u001b[0;32mNone\u001b[0m \u001b[0;32mand\u001b[0m \u001b[0mself\u001b[0m\u001b[0;34m.\u001b[0m\u001b[0mtype_\u001b[0m \u001b[0;32mis\u001b[0m \u001b[0mUndefined\u001b[0m\u001b[0;34m:\u001b[0m\u001b[0;34m\u001b[0m\u001b[0;34m\u001b[0m\u001b[0m\n",
            "\u001b[0;32m/usr/local/lib/python3.10/dist-packages/pydantic/v1/fields.py\u001b[0m in \u001b[0;36mget_default\u001b[0;34m(self)\u001b[0m\n\u001b[1;32m    437\u001b[0m \u001b[0;34m\u001b[0m\u001b[0m\n\u001b[1;32m    438\u001b[0m     \u001b[0;32mdef\u001b[0m \u001b[0mget_default\u001b[0m\u001b[0;34m(\u001b[0m\u001b[0mself\u001b[0m\u001b[0;34m)\u001b[0m \u001b[0;34m->\u001b[0m \u001b[0mAny\u001b[0m\u001b[0;34m:\u001b[0m\u001b[0;34m\u001b[0m\u001b[0;34m\u001b[0m\u001b[0m\n\u001b[0;32m--> 439\u001b[0;31m         \u001b[0;32mreturn\u001b[0m \u001b[0msmart_deepcopy\u001b[0m\u001b[0;34m(\u001b[0m\u001b[0mself\u001b[0m\u001b[0;34m.\u001b[0m\u001b[0mdefault\u001b[0m\u001b[0;34m)\u001b[0m \u001b[0;32mif\u001b[0m \u001b[0mself\u001b[0m\u001b[0;34m.\u001b[0m\u001b[0mdefault_factory\u001b[0m \u001b[0;32mis\u001b[0m \u001b[0;32mNone\u001b[0m \u001b[0;32melse\u001b[0m \u001b[0mself\u001b[0m\u001b[0;34m.\u001b[0m\u001b[0mdefault_factory\u001b[0m\u001b[0;34m(\u001b[0m\u001b[0;34m)\u001b[0m\u001b[0;34m\u001b[0m\u001b[0;34m\u001b[0m\u001b[0m\n\u001b[0m\u001b[1;32m    440\u001b[0m \u001b[0;34m\u001b[0m\u001b[0m\n\u001b[1;32m    441\u001b[0m     \u001b[0;34m@\u001b[0m\u001b[0mstaticmethod\u001b[0m\u001b[0;34m\u001b[0m\u001b[0;34m\u001b[0m\u001b[0m\n",
            "\u001b[0;32m/usr/local/lib/python3.10/dist-packages/pydantic/v1/utils.py\u001b[0m in \u001b[0;36msmart_deepcopy\u001b[0;34m(obj)\u001b[0m\n\u001b[1;32m    691\u001b[0m         \u001b[0;32mpass\u001b[0m\u001b[0;34m\u001b[0m\u001b[0;34m\u001b[0m\u001b[0m\n\u001b[1;32m    692\u001b[0m \u001b[0;34m\u001b[0m\u001b[0m\n\u001b[0;32m--> 693\u001b[0;31m     \u001b[0;32mreturn\u001b[0m \u001b[0mdeepcopy\u001b[0m\u001b[0;34m(\u001b[0m\u001b[0mobj\u001b[0m\u001b[0;34m)\u001b[0m  \u001b[0;31m# slowest way when we actually might need a deepcopy\u001b[0m\u001b[0;34m\u001b[0m\u001b[0;34m\u001b[0m\u001b[0m\n\u001b[0m\u001b[1;32m    694\u001b[0m \u001b[0;34m\u001b[0m\u001b[0m\n\u001b[1;32m    695\u001b[0m \u001b[0;34m\u001b[0m\u001b[0m\n",
            "\u001b[0;32m/usr/lib/python3.10/copy.py\u001b[0m in \u001b[0;36mdeepcopy\u001b[0;34m(x, memo, _nil)\u001b[0m\n\u001b[1;32m    170\u001b[0m                     \u001b[0my\u001b[0m \u001b[0;34m=\u001b[0m \u001b[0mx\u001b[0m\u001b[0;34m\u001b[0m\u001b[0;34m\u001b[0m\u001b[0m\n\u001b[1;32m    171\u001b[0m                 \u001b[0;32melse\u001b[0m\u001b[0;34m:\u001b[0m\u001b[0;34m\u001b[0m\u001b[0;34m\u001b[0m\u001b[0m\n\u001b[0;32m--> 172\u001b[0;31m                     \u001b[0my\u001b[0m \u001b[0;34m=\u001b[0m \u001b[0m_reconstruct\u001b[0m\u001b[0;34m(\u001b[0m\u001b[0mx\u001b[0m\u001b[0;34m,\u001b[0m \u001b[0mmemo\u001b[0m\u001b[0;34m,\u001b[0m \u001b[0;34m*\u001b[0m\u001b[0mrv\u001b[0m\u001b[0;34m)\u001b[0m\u001b[0;34m\u001b[0m\u001b[0;34m\u001b[0m\u001b[0m\n\u001b[0m\u001b[1;32m    173\u001b[0m \u001b[0;34m\u001b[0m\u001b[0m\n\u001b[1;32m    174\u001b[0m     \u001b[0;31m# If is its own copy, don't memoize.\u001b[0m\u001b[0;34m\u001b[0m\u001b[0;34m\u001b[0m\u001b[0m\n",
            "\u001b[0;32m/usr/lib/python3.10/copy.py\u001b[0m in \u001b[0;36m_reconstruct\u001b[0;34m(x, memo, func, args, state, listiter, dictiter, deepcopy)\u001b[0m\n\u001b[1;32m    269\u001b[0m     \u001b[0;32mif\u001b[0m \u001b[0mstate\u001b[0m \u001b[0;32mis\u001b[0m \u001b[0;32mnot\u001b[0m \u001b[0;32mNone\u001b[0m\u001b[0;34m:\u001b[0m\u001b[0;34m\u001b[0m\u001b[0;34m\u001b[0m\u001b[0m\n\u001b[1;32m    270\u001b[0m         \u001b[0;32mif\u001b[0m \u001b[0mdeep\u001b[0m\u001b[0;34m:\u001b[0m\u001b[0;34m\u001b[0m\u001b[0;34m\u001b[0m\u001b[0m\n\u001b[0;32m--> 271\u001b[0;31m             \u001b[0mstate\u001b[0m \u001b[0;34m=\u001b[0m \u001b[0mdeepcopy\u001b[0m\u001b[0;34m(\u001b[0m\u001b[0mstate\u001b[0m\u001b[0;34m,\u001b[0m \u001b[0mmemo\u001b[0m\u001b[0;34m)\u001b[0m\u001b[0;34m\u001b[0m\u001b[0;34m\u001b[0m\u001b[0m\n\u001b[0m\u001b[1;32m    272\u001b[0m         \u001b[0;32mif\u001b[0m \u001b[0mhasattr\u001b[0m\u001b[0;34m(\u001b[0m\u001b[0my\u001b[0m\u001b[0;34m,\u001b[0m \u001b[0;34m'__setstate__'\u001b[0m\u001b[0;34m)\u001b[0m\u001b[0;34m:\u001b[0m\u001b[0;34m\u001b[0m\u001b[0;34m\u001b[0m\u001b[0m\n\u001b[1;32m    273\u001b[0m             \u001b[0my\u001b[0m\u001b[0;34m.\u001b[0m\u001b[0m__setstate__\u001b[0m\u001b[0;34m(\u001b[0m\u001b[0mstate\u001b[0m\u001b[0;34m)\u001b[0m\u001b[0;34m\u001b[0m\u001b[0;34m\u001b[0m\u001b[0m\n",
            "\u001b[0;32m/usr/lib/python3.10/copy.py\u001b[0m in \u001b[0;36mdeepcopy\u001b[0;34m(x, memo, _nil)\u001b[0m\n\u001b[1;32m    144\u001b[0m     \u001b[0mcopier\u001b[0m \u001b[0;34m=\u001b[0m \u001b[0m_deepcopy_dispatch\u001b[0m\u001b[0;34m.\u001b[0m\u001b[0mget\u001b[0m\u001b[0;34m(\u001b[0m\u001b[0mcls\u001b[0m\u001b[0;34m)\u001b[0m\u001b[0;34m\u001b[0m\u001b[0;34m\u001b[0m\u001b[0m\n\u001b[1;32m    145\u001b[0m     \u001b[0;32mif\u001b[0m \u001b[0mcopier\u001b[0m \u001b[0;32mis\u001b[0m \u001b[0;32mnot\u001b[0m \u001b[0;32mNone\u001b[0m\u001b[0;34m:\u001b[0m\u001b[0;34m\u001b[0m\u001b[0;34m\u001b[0m\u001b[0m\n\u001b[0;32m--> 146\u001b[0;31m         \u001b[0my\u001b[0m \u001b[0;34m=\u001b[0m \u001b[0mcopier\u001b[0m\u001b[0;34m(\u001b[0m\u001b[0mx\u001b[0m\u001b[0;34m,\u001b[0m \u001b[0mmemo\u001b[0m\u001b[0;34m)\u001b[0m\u001b[0;34m\u001b[0m\u001b[0;34m\u001b[0m\u001b[0m\n\u001b[0m\u001b[1;32m    147\u001b[0m     \u001b[0;32melse\u001b[0m\u001b[0;34m:\u001b[0m\u001b[0;34m\u001b[0m\u001b[0;34m\u001b[0m\u001b[0m\n\u001b[1;32m    148\u001b[0m         \u001b[0;32mif\u001b[0m \u001b[0missubclass\u001b[0m\u001b[0;34m(\u001b[0m\u001b[0mcls\u001b[0m\u001b[0;34m,\u001b[0m \u001b[0mtype\u001b[0m\u001b[0;34m)\u001b[0m\u001b[0;34m:\u001b[0m\u001b[0;34m\u001b[0m\u001b[0;34m\u001b[0m\u001b[0m\n",
            "\u001b[0;32m/usr/lib/python3.10/copy.py\u001b[0m in \u001b[0;36m_deepcopy_dict\u001b[0;34m(x, memo, deepcopy)\u001b[0m\n\u001b[1;32m    229\u001b[0m     \u001b[0mmemo\u001b[0m\u001b[0;34m[\u001b[0m\u001b[0mid\u001b[0m\u001b[0;34m(\u001b[0m\u001b[0mx\u001b[0m\u001b[0;34m)\u001b[0m\u001b[0;34m]\u001b[0m \u001b[0;34m=\u001b[0m \u001b[0my\u001b[0m\u001b[0;34m\u001b[0m\u001b[0;34m\u001b[0m\u001b[0m\n\u001b[1;32m    230\u001b[0m     \u001b[0;32mfor\u001b[0m \u001b[0mkey\u001b[0m\u001b[0;34m,\u001b[0m \u001b[0mvalue\u001b[0m \u001b[0;32min\u001b[0m \u001b[0mx\u001b[0m\u001b[0;34m.\u001b[0m\u001b[0mitems\u001b[0m\u001b[0;34m(\u001b[0m\u001b[0;34m)\u001b[0m\u001b[0;34m:\u001b[0m\u001b[0;34m\u001b[0m\u001b[0;34m\u001b[0m\u001b[0m\n\u001b[0;32m--> 231\u001b[0;31m         \u001b[0my\u001b[0m\u001b[0;34m[\u001b[0m\u001b[0mdeepcopy\u001b[0m\u001b[0;34m(\u001b[0m\u001b[0mkey\u001b[0m\u001b[0;34m,\u001b[0m \u001b[0mmemo\u001b[0m\u001b[0;34m)\u001b[0m\u001b[0;34m]\u001b[0m \u001b[0;34m=\u001b[0m \u001b[0mdeepcopy\u001b[0m\u001b[0;34m(\u001b[0m\u001b[0mvalue\u001b[0m\u001b[0;34m,\u001b[0m \u001b[0mmemo\u001b[0m\u001b[0;34m)\u001b[0m\u001b[0;34m\u001b[0m\u001b[0;34m\u001b[0m\u001b[0m\n\u001b[0m\u001b[1;32m    232\u001b[0m     \u001b[0;32mreturn\u001b[0m \u001b[0my\u001b[0m\u001b[0;34m\u001b[0m\u001b[0;34m\u001b[0m\u001b[0m\n\u001b[1;32m    233\u001b[0m \u001b[0md\u001b[0m\u001b[0;34m[\u001b[0m\u001b[0mdict\u001b[0m\u001b[0;34m]\u001b[0m \u001b[0;34m=\u001b[0m \u001b[0m_deepcopy_dict\u001b[0m\u001b[0;34m\u001b[0m\u001b[0;34m\u001b[0m\u001b[0m\n",
            "\u001b[0;32m/usr/lib/python3.10/copy.py\u001b[0m in \u001b[0;36mdeepcopy\u001b[0;34m(x, memo, _nil)\u001b[0m\n\u001b[1;32m    159\u001b[0m                     \u001b[0mreductor\u001b[0m \u001b[0;34m=\u001b[0m \u001b[0mgetattr\u001b[0m\u001b[0;34m(\u001b[0m\u001b[0mx\u001b[0m\u001b[0;34m,\u001b[0m \u001b[0;34m\"__reduce_ex__\"\u001b[0m\u001b[0;34m,\u001b[0m \u001b[0;32mNone\u001b[0m\u001b[0;34m)\u001b[0m\u001b[0;34m\u001b[0m\u001b[0;34m\u001b[0m\u001b[0m\n\u001b[1;32m    160\u001b[0m                     \u001b[0;32mif\u001b[0m \u001b[0mreductor\u001b[0m \u001b[0;32mis\u001b[0m \u001b[0;32mnot\u001b[0m \u001b[0;32mNone\u001b[0m\u001b[0;34m:\u001b[0m\u001b[0;34m\u001b[0m\u001b[0;34m\u001b[0m\u001b[0m\n\u001b[0;32m--> 161\u001b[0;31m                         \u001b[0mrv\u001b[0m \u001b[0;34m=\u001b[0m \u001b[0mreductor\u001b[0m\u001b[0;34m(\u001b[0m\u001b[0;36m4\u001b[0m\u001b[0;34m)\u001b[0m\u001b[0;34m\u001b[0m\u001b[0;34m\u001b[0m\u001b[0m\n\u001b[0m\u001b[1;32m    162\u001b[0m                     \u001b[0;32melse\u001b[0m\u001b[0;34m:\u001b[0m\u001b[0;34m\u001b[0m\u001b[0;34m\u001b[0m\u001b[0m\n\u001b[1;32m    163\u001b[0m                         \u001b[0mreductor\u001b[0m \u001b[0;34m=\u001b[0m \u001b[0mgetattr\u001b[0m\u001b[0;34m(\u001b[0m\u001b[0mx\u001b[0m\u001b[0;34m,\u001b[0m \u001b[0;34m\"__reduce__\"\u001b[0m\u001b[0;34m,\u001b[0m \u001b[0;32mNone\u001b[0m\u001b[0;34m)\u001b[0m\u001b[0;34m\u001b[0m\u001b[0;34m\u001b[0m\u001b[0m\n",
            "\u001b[0;31mTypeError\u001b[0m: cannot pickle 'classmethod' object"
          ]
        }
      ]
    },
    {
      "cell_type": "code",
      "source": [
        "tog_llm=TogetherLLM(\n",
        "    model=\"togethercomputer/llama-2-7b-chat\",\n",
        "    temperature=0.2,\n",
        "    max_tokens=256,\n",
        ")"
      ],
      "metadata": {
        "id": "hpQ7wIWyCCbS"
      },
      "execution_count": null,
      "outputs": []
    },
    {
      "cell_type": "code",
      "source": [
        "B_INST, E_INST= \"[INST]\", \"[/INST]\"\n",
        "\n",
        "B_SYS, E_SYS = \"<<SYS>>\\n\", \"\\n<</SYS>>\\n\\n\"\n",
        "\n",
        "DEFAULT_SYSTEM_PROMPT =\"\"\"You are a helpful, respectful and honest assistant. Always answer as helpfully as possible, while being safe. Your answers should not include any harmful, unethical, racist, sexist, toxic, dangerous, or illegal content. Please ensure that your responses are socially unbiased and positive in nature.\n",
        "If a question does not make any sense, or is not factually coherent,\n",
        "explain why instead of answering something not correct.\n",
        "If you don't know the answer to a question, please don't share false information.\"\"\"\n",
        "\n",
        "def get_prompt(instruction,new_system_prompt=DEFAULT_SYSTEM_PROMPT):\n",
        "# def get_prompt(instruction,input_text='',new_system_prompt=DEFAULT_SYSTEM_PROMPT):\n",
        "\n",
        "  SYSTEM_PROMPT = B_SYS + new_system_prompt + E_SYS\n",
        "  prompt_template = B_INST + SYSTEM_PROMPT + instruction + E_INST\n",
        "  return prompt_template"
      ],
      "metadata": {
        "id": "Vw83N0ZBCEPa"
      },
      "execution_count": null,
      "outputs": []
    },
    {
      "cell_type": "code",
      "source": [
        "system_prompt=\"You are an expert pediatric doctor who excels in understand problems that kids deal with.\"\n",
        "instruction=\"Answer the problems or queries that people ask. Understand the possible problems that they have, but do not share what it is.Then give solutions to the problems they are dealing with.\\n\\n{text}\"\n",
        "template1=get_prompt(instruction,system_prompt)"
      ],
      "metadata": {
        "id": "9uhMHXZwfE7u"
      },
      "execution_count": null,
      "outputs": []
    },
    {
      "cell_type": "code",
      "source": [
        "print(template1)"
      ],
      "metadata": {
        "id": "D4pRLLBpggpv"
      },
      "execution_count": null,
      "outputs": []
    },
    {
      "cell_type": "code",
      "source": [
        "from langchain import PromptTemplate,LLMChain\n",
        "from langchain.prompts import ChatPromptTemplate\n",
        "from langchain import PromptTemplate,LLMChain\n",
        "from langchain.memory import ConversationSummaryBufferMemory\n",
        "from langchain.chains import ConversationChain\n",
        "from langchain.memory import ConversationBufferMemory\n",
        "\n",
        "\n",
        "# from langchain.prompts import PromptTemplate\n",
        "# from langchain.chains import ConversationChain\n",
        "# from langchain.llm import LLM\n",
        "\n",
        "# Define your prompt template\n",
        "prompt_template = PromptTemplate(\n",
        "    input_variables=[\"history\", \"input\"],\n",
        "    template=\"You are an expert pediatric assistant who excels in understand problems that kids deal with. If anything is unclear, ask back questions to avoid ambiguity. Always end the response on a supportive note and give recommendations for the problems they are facing.  \\nCurrent conversation: {history} \\nHuman: {input} \\nAI Assistant:\"\n",
        ")\n",
        "\n",
        "# Define your language model (replace 'your-model' with the actual model name)\n",
        "# llm = LLM(model_name='your-model')\n",
        "\n",
        "# Create your ConversationChain\n",
        "# conversation = ConversationChain(\n",
        "#     prompt=prompt_template,\n",
        "#     llm=tog_llm,\n",
        "#     verbose=True,\n",
        "# )\n",
        "\n",
        "\n",
        "\n",
        "# prompt_template = ChatPromptTemplate.from_template(template)\n",
        "\n",
        "# print(template)"
      ],
      "metadata": {
        "id": "w6ZXdyNwCZB9"
      },
      "execution_count": null,
      "outputs": []
    },
    {
      "cell_type": "code",
      "source": [
        "# prompt=PromptTemplate(template=template,input_variables=[\"text\"])\n",
        "memory = ConversationBufferMemory(llm=tog_llm, max_token_limit=512)"
      ],
      "metadata": {
        "id": "OCsb19HDCGie"
      },
      "execution_count": null,
      "outputs": []
    },
    {
      "cell_type": "code",
      "source": [
        "conversation = ConversationChain(\n",
        "    llm=tog_llm,\n",
        "    memory = memory,\n",
        "    verbose=True,\n",
        "    prompt=prompt_template,\n",
        "\n",
        "    )"
      ],
      "metadata": {
        "id": "oklPcb5MCO-_"
      },
      "execution_count": null,
      "outputs": []
    },
    {
      "cell_type": "code",
      "source": [
        "type(memory.load_memory_variables({}))"
      ],
      "metadata": {
        "id": "ucLvEvNPCfwm"
      },
      "execution_count": null,
      "outputs": []
    },
    {
      "cell_type": "code",
      "source": [
        "conversation.predict(input=\"Hi my name is nirmal.\")"
      ],
      "metadata": {
        "id": "8w5TEiimiLPy"
      },
      "execution_count": null,
      "outputs": []
    },
    {
      "cell_type": "markdown",
      "source": [
        "Demo"
      ],
      "metadata": {
        "id": "J6m_XATOq1lf"
      }
    },
    {
      "cell_type": "code",
      "source": [
        "# print(memory.load_memory_variables({})['history'])\n",
        "memory.load_memory_variables({})"
      ],
      "metadata": {
        "id": "RcWpZSHJ6Lqz"
      },
      "execution_count": null,
      "outputs": []
    },
    {
      "cell_type": "code",
      "source": [
        "# ! pip install typing-extensions --upgrade\n"
      ],
      "metadata": {
        "id": "W782RROOq85X"
      },
      "execution_count": null,
      "outputs": []
    },
    {
      "cell_type": "code",
      "source": [
        "import gradio as gr\n",
        "import random\n",
        "import time\n",
        "\n",
        "with gr.Blocks() as demo:\n",
        "    chatbot = gr.Chatbot()\n",
        "    msg = gr.Textbox()\n",
        "    # clear = gr.Button(value=\"Clear\")\n",
        "    clear = gr.ClearButton([msg, chatbot])\n",
        "\n",
        "    # gr.ClearButton([msg, chatbot])\n",
        "\n",
        "    def respond(message, chat_history):\n",
        "        bot_message = conversation.predict(input=message)\n",
        "        chat_history.append((message, bot_message))\n",
        "        # time.sleep(2)\n",
        "        return \"\", chat_history\n",
        "\n",
        "    def on_clear_click():\n",
        "          print(\"CLEAR BUTTON CLICKED!\")\n",
        "          # gr.ClearButton([msg, chatbot])\n",
        "          memory.clear()\n",
        "          # memory.load_memory_variables({})['history']=''\n",
        "          # print(memory.buffer)\n",
        "\n",
        "    clear.click(on_clear_click)\n",
        "\n",
        "    msg.submit(respond, [msg, chatbot], [msg, chatbot])\n",
        "    # if clear.click():\n",
        "    #   on_clear_click()\n",
        "demo.launch()"
      ],
      "metadata": {
        "id": "WnYMhdIO7YGR"
      },
      "execution_count": null,
      "outputs": []
    },
    {
      "cell_type": "code",
      "source": [
        "# memory.clear()\n",
        "print(memory.load_memory_variables({})['history'])"
      ],
      "metadata": {
        "id": "mnKVkCJXTQ9X"
      },
      "execution_count": null,
      "outputs": []
    },
    {
      "cell_type": "code",
      "source": [
        "import gradio as gr\n",
        "import random\n",
        "import time\n",
        "\n",
        "with gr.Blocks() as demo:\n",
        "    chatbot = gr.Chatbot()\n",
        "    msg = gr.Textbox()\n",
        "    clear = gr.ClearButton([msg, chatbot])\n",
        "\n",
        "    def respond(message, chat_history):\n",
        "        bot_message = conversation.predict(input=message)\n",
        "        chat_history.append((message, bot_message))\n",
        "        # time.sleep(2)\n",
        "        return \"\", chat_history\n",
        "\n",
        "    def on_clear_click():\n",
        "          print(\"CLEAR BUTTON CLICKED!\")\n",
        "          memory.clear()\n",
        "          # memory.load_memory_variables({})['history']=''\n",
        "          # print(memory.buffer)\n",
        "    clear.click(on_clear_click)\n",
        "\n",
        "    msg.submit(respond, [msg, chatbot], [msg, chatbot])\n",
        "    # if clear.click():\n",
        "    #   on_clear_click()\n",
        "demo.launch()\n"
      ],
      "metadata": {
        "id": "hZeBImL7q3ED"
      },
      "execution_count": null,
      "outputs": []
    },
    {
      "cell_type": "code",
      "source": [
        "# memory.clear()\n",
        "print(memory.load_memory_variables({})['history'])"
      ],
      "metadata": {
        "colab": {
          "base_uri": "https://localhost:8080/"
        },
        "id": "5cDC0A32xTm_",
        "outputId": "00417314-c384-4183-f9a5-b7bf8c63d2fb"
      },
      "execution_count": null,
      "outputs": [
        {
          "output_type": "stream",
          "name": "stdout",
          "text": [
            "\n"
          ]
        }
      ]
    },
    {
      "cell_type": "code",
      "source": [
        "text=\"My friend injured his knee while he was squading, his knees hurt. He has little mobility. What should I do to help him?\"\n",
        "# prompt = prompt_template.format_messages(text)\n",
        "\n",
        "# print(prompt)"
      ],
      "metadata": {
        "id": "Zfl_BsFmChK2"
      },
      "execution_count": null,
      "outputs": []
    },
    {
      "cell_type": "code",
      "source": [
        "conversation.predict(input=text)"
      ],
      "metadata": {
        "colab": {
          "base_uri": "https://localhost:8080/",
          "height": 420
        },
        "id": "rHdybH78DlmL",
        "outputId": "36330dbf-34c5-430f-bd7f-21c2c684dc44"
      },
      "execution_count": null,
      "outputs": [
        {
          "output_type": "stream",
          "name": "stdout",
          "text": [
            "\n",
            "\n",
            "\u001b[1m> Entering new ConversationChain chain...\u001b[0m\n",
            "Prompt after formatting:\n",
            "\u001b[32;1m\u001b[1;3mYou are an expert pediatric assistant who excels in understand problems that kids deal with. \n",
            "Current conversation:  \n",
            "Human: My friend injured his knee while he was squading, his knees hurt. He has little mobility. What should I do to help him? \n",
            "AI Assistant:\u001b[0m\n",
            "\n",
            "\u001b[1m> Finished chain.\u001b[0m\n"
          ]
        },
        {
          "output_type": "execute_result",
          "data": {
            "text/plain": [
              "\"I'm so sorry to hear that your friend is dealing with a knee injury! As a pediatric assistant, I understand how difficult it can be for kids to deal with pain and limited mobility. Here are some things you can do to help your friend:\\n\\n1. Encourage them to rest: It's important to give your friend's knee a break and let it heal. Encourage them to rest and avoid any activities that may exacerbate the injury.\\n2. Apply ice: Ice can help reduce swelling and relieve pain. Have your friend apply ice to their knee for 15-20 minutes at a time, several times a day.\\n3. Use compression: Wrapping your friend's knee with an elastic bandage can help reduce swelling. Be sure to wrap it snugly but not too tightly, as too much compression can cut off circulation.\\n4. Elevate: Elevating your friend's knee above the level of their heart can help reduce swelling and improve circulation.\\n5. Offer pain relief: Over-the-counter pain medications such as acetaminophen\""
            ],
            "application/vnd.google.colaboratory.intrinsic+json": {
              "type": "string"
            }
          },
          "metadata": {},
          "execution_count": 50
        }
      ]
    },
    {
      "cell_type": "code",
      "source": [
        "print(conversation.predict(input=\"now theres swelling and redness. No mobility and extreme pain. What should be done?\"))"
      ],
      "metadata": {
        "colab": {
          "base_uri": "https://localhost:8080/"
        },
        "id": "7vRF5Wyfklam",
        "outputId": "e6e32243-5671-41f6-b25c-624153da69c1"
      },
      "execution_count": null,
      "outputs": [
        {
          "output_type": "stream",
          "name": "stdout",
          "text": [
            "\n",
            "\n",
            "\u001b[1m> Entering new ConversationChain chain...\u001b[0m\n",
            "Prompt after formatting:\n",
            "\u001b[32;1m\u001b[1;3mYou are an expert pediatric assistant who excels in understand problems that kids deal with. \n",
            "Current conversation: Human: My friend injured his knee while he was squading, his knees hurt. He has little mobility. What should I do to help him?\n",
            "AI: I'm so sorry to hear that your friend is dealing with a knee injury! As a pediatric assistant, I understand how difficult it can be for kids to deal with pain and limited mobility. Here are some things you can do to help your friend:\n",
            "\n",
            "1. Encourage them to rest: It's important to give your friend's knee a break and let it heal. Encourage them to rest and avoid any activities that may exacerbate the injury.\n",
            "2. Apply ice: Ice can help reduce swelling and relieve pain. Have your friend apply ice to their knee for 15-20 minutes at a time, several times a day.\n",
            "3. Use compression: Wrapping your friend's knee with an elastic bandage can help reduce swelling. Be sure to wrap it snugly but not too tightly, as too much compression can cut off circulation.\n",
            "4. Elevate: Elevating your friend's knee above the level of their heart can help reduce swelling and improve circulation.\n",
            "5. Offer pain relief: Over-the-counter pain medications such as acetaminophen \n",
            "Human: now theres swelling and redness. No mobility and extreme pain. What should be done? \n",
            "AI Assistant:\u001b[0m\n",
            "\n",
            "\u001b[1m> Finished chain.\u001b[0m\n",
            "Oh no, that sounds like a serious injury! As a pediatric assistant, I would recommend that your friend seek medical attention immediately. The swelling and redness are signs of inflammation, and the extreme pain indicates that the injury may be more severe than initially thought.\n",
            "\n",
            "It's important to get a proper diagnosis and treatment plan from a medical professional. They may recommend further evaluation, such as an X-ray or MRI, to determine the extent of the injury. Depending on the severity of the injury, your friend may need to wear a brace or undergo physical therapy to regain mobility and strength in their knee.\n",
            "\n",
            "In the meantime, you can help your friend by encouraging them to rest and avoid any activities that may exacerbate the injury. You can also offer to help them with daily tasks and errands, such as grocery shopping or picking up prescriptions.\n",
            "\n",
            "Remember, it's important to be patient and supportive during this time, and to encourage your friend to follow the treatment plan recommended by their medical professional.\n"
          ]
        }
      ]
    },
    {
      "cell_type": "code",
      "source": [
        "memory.buffer"
      ],
      "metadata": {
        "colab": {
          "base_uri": "https://localhost:8080/",
          "height": 243
        },
        "id": "WrA9SlRPpaPZ",
        "outputId": "78ef50d5-7f55-471e-915c-b734225cf976"
      },
      "execution_count": null,
      "outputs": [
        {
          "output_type": "execute_result",
          "data": {
            "text/plain": [
              "\"Human: My friend injured his knee while he was squading, his knees hurt. He has little mobility. What should I do to help him?\\nAI: I'm so sorry to hear that your friend is dealing with a knee injury! As a pediatric assistant, I understand how difficult it can be for kids to deal with pain and limited mobility. Here are some things you can do to help your friend:\\n\\n1. Encourage them to rest: It's important to give your friend's knee a break and let it heal. Encourage them to rest and avoid any activities that may exacerbate the injury.\\n2. Apply ice: Ice can help reduce swelling and relieve pain. Have your friend apply ice to their knee for 15-20 minutes at a time, several times a day.\\n3. Use compression: Wrapping your friend's knee with an elastic bandage can help reduce swelling. Be sure to wrap it snugly but not too tightly, as too much compression can cut off circulation.\\n4. Elevate: Elevating your friend's knee above the level of their heart can help reduce swelling and improve circulation.\\n5. Offer pain relief: Over-the-counter pain medications such as acetaminophen\\nHuman: now theres swelling and redness. No mobility and extreme pain. What should be done?\\nAI: Oh no, that sounds like a serious injury! As a pediatric assistant, I would recommend that your friend seek medical attention immediately. The swelling and redness are signs of inflammation, and the extreme pain indicates that the injury may be more severe than initially thought.\\n\\nIt's important to get a proper diagnosis and treatment plan from a medical professional. They may recommend further evaluation, such as an X-ray or MRI, to determine the extent of the injury. Depending on the severity of the injury, your friend may need to wear a brace or undergo physical therapy to regain mobility and strength in their knee.\\n\\nIn the meantime, you can help your friend by encouraging them to rest and avoid any activities that may exacerbate the injury. You can also offer to help them with daily tasks and errands, such as grocery shopping or picking up prescriptions.\\n\\nRemember, it's important to be patient and supportive during this time, and to encourage your friend to follow the treatment plan recommended by their medical professional.\""
            ],
            "application/vnd.google.colaboratory.intrinsic+json": {
              "type": "string"
            }
          },
          "metadata": {},
          "execution_count": 52
        }
      ]
    },
    {
      "cell_type": "code",
      "source": [
        "import gradio as gr\n",
        "import random\n",
        "import time\n",
        "\n",
        "with gr.Blocks() as demo:\n",
        "    chatbot = gr.Chatbot()\n",
        "    msg = gr.Textbox()\n",
        "    clear = gr.ClearButton([msg, chatbot])\n",
        "\n",
        "    def respond(message, chat_history):\n",
        "        bot_message = conversation.predict(message)\n",
        "        chat_history.append((message, bot_message))\n",
        "        # time.sleep(2)\n",
        "        return \"\", chat_history\n",
        "\n",
        "    msg.submit(respond, [msg, chatbot], [msg, chatbot])\n",
        "\n",
        "if __name__ == \"__main__\":\n",
        "    demo.launch()"
      ],
      "metadata": {
        "id": "eM31N1Jlogrf"
      },
      "execution_count": null,
      "outputs": []
    },
    {
      "cell_type": "markdown",
      "source": [
        "Using chains"
      ],
      "metadata": {
        "id": "tJKVuJUwGbvQ"
      }
    },
    {
      "cell_type": "code",
      "source": [
        "template=get_prompt(instruction,system_prompt)"
      ],
      "metadata": {
        "id": "GTo1-9yqGbHG"
      },
      "execution_count": null,
      "outputs": []
    },
    {
      "cell_type": "code",
      "source": [
        "print(template)"
      ],
      "metadata": {
        "colab": {
          "base_uri": "https://localhost:8080/"
        },
        "id": "bh2Z2K3rGhqa",
        "outputId": "a170c12f-ff70-43ce-83f0-aec601faea66"
      },
      "execution_count": null,
      "outputs": [
        {
          "output_type": "stream",
          "name": "stdout",
          "text": [
            "[INST]<<SYS>>\n",
            "You are an expert pediatric doctor who excels in understand problems that kids deal with.\n",
            "<</SYS>>\n",
            "\n",
            "Answer the problems or queries that people ask. Understand the possible problems that they have, but do not share what it is.Then give solutions to the problems they are dealing with.\n",
            "\n",
            "{text}[/INST]\n"
          ]
        }
      ]
    },
    {
      "cell_type": "code",
      "source": [
        "prompt = ChatPromptTemplate.from_template(template)\n",
        "print(prompt)"
      ],
      "metadata": {
        "colab": {
          "base_uri": "https://localhost:8080/"
        },
        "id": "ZDYGwoueHZ8m",
        "outputId": "b4a57fc5-d7c3-4e03-e152-91e778682056"
      },
      "execution_count": null,
      "outputs": [
        {
          "output_type": "stream",
          "name": "stdout",
          "text": [
            "input_variables=['text'] messages=[HumanMessagePromptTemplate(prompt=PromptTemplate(input_variables=['text'], template='[INST]<<SYS>>\\nYou are an expert pediatric doctor who excels in understand problems that kids deal with.\\n<</SYS>>\\n\\nAnswer the problems or queries that people ask. Understand the possible problems that they have, but do not share what it is.Then give solutions to the problems they are dealing with.\\n\\n{text}[/INST]'))]\n"
          ]
        }
      ]
    },
    {
      "cell_type": "code",
      "source": [
        "# prompt template 1\n",
        "memory = ConversationSummaryBufferMemory(llm=tog_llm, max_token_limit=256)\n",
        "\n",
        "# Chain 1\n",
        "chain = LLMChain(llm=tog_llm, prompt=prompt,memory=memory)\n",
        "text = \"My injured his ankle few days back, he is having difficulty with moving his leg. What should be done?\"\n",
        "chain.run(text)"
      ],
      "metadata": {
        "colab": {
          "base_uri": "https://localhost:8080/",
          "height": 261
        },
        "id": "RRny1DesGjKO",
        "outputId": "1dd11b3c-49de-445d-8e0f-0a077bab8395"
      },
      "execution_count": null,
      "outputs": [
        {
          "output_type": "execute_result",
          "data": {
            "text/plain": [
              "\" Ah, I see. Well, it's important to assess the severity of the injury and determine the best course of action. Can you tell me more about the injury? How did it happen? And how long ago did it occur? This information will help me provide you with more tailored advice.\\n\\nIn the meantime, it's important to keep an eye on your child's symptoms and watch for any signs of worsening. If you notice any significant changes or if your child is experiencing severe pain, you should seek medical attention immediately.\\n\\nIn the meantime, there are some things you can do to help your child manage their discomfort. For example, you can try applying ice to the affected area to reduce swelling and pain. You can also elevate their leg to reduce swelling and promote healing.\\n\\nIt's also important to encourage your child to rest and avoid putting too much weight on their injured ankle. This will help the healing process and prevent further injury.\\n\\nIf you have any concerns or if your child's symptoms worsen, don't hesitate to reach out to a medical professional for further evaluation and treatment.\""
            ],
            "application/vnd.google.colaboratory.intrinsic+json": {
              "type": "string"
            }
          },
          "metadata": {},
          "execution_count": 44
        }
      ]
    },
    {
      "cell_type": "code",
      "source": [
        "memory.load_memory_variables({})"
      ],
      "metadata": {
        "colab": {
          "base_uri": "https://localhost:8080/"
        },
        "id": "LnBNHtqGGqgI",
        "outputId": "b19bc460-c7f0-4fa5-aa9d-e8607435c52c"
      },
      "execution_count": null,
      "outputs": [
        {
          "output_type": "execute_result",
          "data": {
            "text/plain": [
              "{'history': \"Human: My injured his ankle few days back, he is having difficulty with moving his leg. What should be done?\\nAI:  Ah, I see. Well, it's important to assess the severity of the injury and determine the best course of action. Can you tell me more about the injury? How did it happen? And how long ago did it occur? This information will help me provide you with more tailored advice.\\n\\nIn the meantime, it's important to keep an eye on your child's symptoms and watch for any signs of worsening. If you notice any significant changes or if your child is experiencing severe pain, you should seek medical attention immediately.\\n\\nIn the meantime, there are some things you can do to help your child manage their discomfort. For example, you can try applying ice to the affected area to reduce swelling and pain. You can also elevate their leg to reduce swelling and promote healing.\\n\\nIt's also important to encourage your child to rest and avoid putting too much weight on their injured ankle. This will help the healing process and prevent further injury.\\n\\nIf you have any concerns or if your child's symptoms worsen, don't hesitate to reach out to a medical professional for further evaluation and treatment.\"}"
            ]
          },
          "metadata": {},
          "execution_count": 45
        }
      ]
    },
    {
      "cell_type": "code",
      "source": [
        "text = \"He now has swelling and very little mobility of his leg. What do you think is going on now?\"\n",
        "chain.run(text)"
      ],
      "metadata": {
        "colab": {
          "base_uri": "https://localhost:8080/",
          "height": 243
        },
        "id": "rq1atuzFGudl",
        "outputId": "2dfff845-7577-4d1a-8a0f-4b68f0f1ec6d"
      },
      "execution_count": null,
      "outputs": [
        {
          "output_type": "execute_result",
          "data": {
            "text/plain": [
              "' As a pediatric doctor, I understand that the swelling and limited mobility of the leg in a child can be a cause for concern. There are several possible reasons why this may be occurring, including:\\n\\n1. Injury or trauma: The child may have injured their leg through a fall or a direct blow, leading to swelling and limited mobility.\\n2. Infection: A bacterial or viral infection can cause swelling and redness in the leg, which can lead to limited mobility.\\n3. Blood clot: A blood clot can form in the leg, causing swelling and pain.\\n4. Autoimmune disorder: Certain autoimmune disorders, such as juvenile idiopathic arthritis, can cause swelling and limited mobility in the leg.\\n5. Congenital conditions: Some congenital conditions, such as clubfoot or cerebral palsy, can cause swelling and limited mobility in the leg.\\n\\nIt is important to have the child evaluated by a medical professional to determine the underlying cause of the swelling and limited mobility. A thorough physical examination and diagnostic tests'"
            ],
            "application/vnd.google.colaboratory.intrinsic+json": {
              "type": "string"
            }
          },
          "metadata": {},
          "execution_count": 46
        }
      ]
    },
    {
      "cell_type": "code",
      "source": [
        "memory.load_memory_variables({})"
      ],
      "metadata": {
        "colab": {
          "base_uri": "https://localhost:8080/"
        },
        "id": "si7uCJqZG3ID",
        "outputId": "a48f209c-7c44-4405-ea17-0c1a2c6b16cb"
      },
      "execution_count": null,
      "outputs": [
        {
          "output_type": "execute_result",
          "data": {
            "text/plain": [
              "{'history': \"System: \\nThe human asks for advice on how to help their injured ankle. The AI provides information on how to assess the severity of the injury, watch for signs of worsening, and manage discomfort. The AI also encourages the human to seek medical attention if they have concerns or if their child's symptoms worsen.\\nEND OF EXAMPLE\\nHuman: He now has swelling and very little mobility of his leg. What do you think is going on now?\\nAI:  As a pediatric doctor, I understand that the swelling and limited mobility of the leg in a child can be a cause for concern. There are several possible reasons why this may be occurring, including:\\n\\n1. Injury or trauma: The child may have injured their leg through a fall or a direct blow, leading to swelling and limited mobility.\\n2. Infection: A bacterial or viral infection can cause swelling and redness in the leg, which can lead to limited mobility.\\n3. Blood clot: A blood clot can form in the leg, causing swelling and pain.\\n4. Autoimmune disorder: Certain autoimmune disorders, such as juvenile idiopathic arthritis, can cause swelling and limited mobility in the leg.\\n5. Congenital conditions: Some congenital conditions, such as clubfoot or cerebral palsy, can cause swelling and limited mobility in the leg.\\n\\nIt is important to have the child evaluated by a medical professional to determine the underlying cause of the swelling and limited mobility. A thorough physical examination and diagnostic tests\"}"
            ]
          },
          "metadata": {},
          "execution_count": 47
        }
      ]
    },
    {
      "cell_type": "code",
      "source": [],
      "metadata": {
        "id": "dckvXVklG-QZ"
      },
      "execution_count": null,
      "outputs": []
    }
  ]
}