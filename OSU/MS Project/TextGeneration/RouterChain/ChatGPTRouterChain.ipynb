{
  "cells": [
    {
      "cell_type": "code",
      "execution_count": null,
      "metadata": {
        "colab": {
          "base_uri": "https://localhost:8080/"
        },
        "id": "czY3lu3HjFY1",
        "outputId": "a9f3ce1f-f537-400e-e809-62789af66956"
      },
      "outputs": [
        {
          "name": "stdout",
          "output_type": "stream",
          "text": [
            "Requirement already satisfied: langchain in /usr/local/lib/python3.10/dist-packages (0.0.335)\n",
            "Requirement already satisfied: PyYAML>=5.3 in /usr/local/lib/python3.10/dist-packages (from langchain) (6.0.1)\n",
            "Requirement already satisfied: SQLAlchemy<3,>=1.4 in /usr/local/lib/python3.10/dist-packages (from langchain) (2.0.23)\n",
            "Requirement already satisfied: aiohttp<4.0.0,>=3.8.3 in /usr/local/lib/python3.10/dist-packages (from langchain) (3.8.6)\n",
            "Requirement already satisfied: anyio<4.0 in /usr/local/lib/python3.10/dist-packages (from langchain) (3.7.1)\n",
            "Requirement already satisfied: async-timeout<5.0.0,>=4.0.0 in /usr/local/lib/python3.10/dist-packages (from langchain) (4.0.3)\n",
            "Requirement already satisfied: dataclasses-json<0.7,>=0.5.7 in /usr/local/lib/python3.10/dist-packages (from langchain) (0.6.2)\n",
            "Requirement already satisfied: jsonpatch<2.0,>=1.33 in /usr/local/lib/python3.10/dist-packages (from langchain) (1.33)\n",
            "Requirement already satisfied: langsmith<0.1.0,>=0.0.63 in /usr/local/lib/python3.10/dist-packages (from langchain) (0.0.63)\n",
            "Requirement already satisfied: numpy<2,>=1 in /usr/local/lib/python3.10/dist-packages (from langchain) (1.23.5)\n",
            "Requirement already satisfied: pydantic<3,>=1 in /usr/local/lib/python3.10/dist-packages (from langchain) (1.10.13)\n",
            "Requirement already satisfied: requests<3,>=2 in /usr/local/lib/python3.10/dist-packages (from langchain) (2.31.0)\n",
            "Requirement already satisfied: tenacity<9.0.0,>=8.1.0 in /usr/local/lib/python3.10/dist-packages (from langchain) (8.2.3)\n",
            "Requirement already satisfied: attrs>=17.3.0 in /usr/local/lib/python3.10/dist-packages (from aiohttp<4.0.0,>=3.8.3->langchain) (23.1.0)\n",
            "Requirement already satisfied: charset-normalizer<4.0,>=2.0 in /usr/local/lib/python3.10/dist-packages (from aiohttp<4.0.0,>=3.8.3->langchain) (3.3.2)\n",
            "Requirement already satisfied: multidict<7.0,>=4.5 in /usr/local/lib/python3.10/dist-packages (from aiohttp<4.0.0,>=3.8.3->langchain) (6.0.4)\n",
            "Requirement already satisfied: yarl<2.0,>=1.0 in /usr/local/lib/python3.10/dist-packages (from aiohttp<4.0.0,>=3.8.3->langchain) (1.9.2)\n",
            "Requirement already satisfied: frozenlist>=1.1.1 in /usr/local/lib/python3.10/dist-packages (from aiohttp<4.0.0,>=3.8.3->langchain) (1.4.0)\n",
            "Requirement already satisfied: aiosignal>=1.1.2 in /usr/local/lib/python3.10/dist-packages (from aiohttp<4.0.0,>=3.8.3->langchain) (1.3.1)\n",
            "Requirement already satisfied: idna>=2.8 in /usr/local/lib/python3.10/dist-packages (from anyio<4.0->langchain) (3.4)\n",
            "Requirement already satisfied: sniffio>=1.1 in /usr/local/lib/python3.10/dist-packages (from anyio<4.0->langchain) (1.3.0)\n",
            "Requirement already satisfied: exceptiongroup in /usr/local/lib/python3.10/dist-packages (from anyio<4.0->langchain) (1.1.3)\n",
            "Requirement already satisfied: marshmallow<4.0.0,>=3.18.0 in /usr/local/lib/python3.10/dist-packages (from dataclasses-json<0.7,>=0.5.7->langchain) (3.20.1)\n",
            "Requirement already satisfied: typing-inspect<1,>=0.4.0 in /usr/local/lib/python3.10/dist-packages (from dataclasses-json<0.7,>=0.5.7->langchain) (0.9.0)\n",
            "Requirement already satisfied: jsonpointer>=1.9 in /usr/local/lib/python3.10/dist-packages (from jsonpatch<2.0,>=1.33->langchain) (2.4)\n",
            "Requirement already satisfied: typing-extensions>=4.2.0 in /usr/local/lib/python3.10/dist-packages (from pydantic<3,>=1->langchain) (4.5.0)\n",
            "Requirement already satisfied: urllib3<3,>=1.21.1 in /usr/local/lib/python3.10/dist-packages (from requests<3,>=2->langchain) (2.0.7)\n",
            "Requirement already satisfied: certifi>=2017.4.17 in /usr/local/lib/python3.10/dist-packages (from requests<3,>=2->langchain) (2023.7.22)\n",
            "Requirement already satisfied: greenlet!=0.4.17 in /usr/local/lib/python3.10/dist-packages (from SQLAlchemy<3,>=1.4->langchain) (3.0.1)\n",
            "Requirement already satisfied: packaging>=17.0 in /usr/local/lib/python3.10/dist-packages (from marshmallow<4.0.0,>=3.18.0->dataclasses-json<0.7,>=0.5.7->langchain) (23.2)\n",
            "Requirement already satisfied: mypy-extensions>=0.3.0 in /usr/local/lib/python3.10/dist-packages (from typing-inspect<1,>=0.4.0->dataclasses-json<0.7,>=0.5.7->langchain) (1.0.0)\n",
            "Collecting openai\n",
            "  Downloading openai-1.2.3-py3-none-any.whl (220 kB)\n",
            "\u001b[2K     \u001b[90m━━━━━━━━━━━━━━━━━━━━━━━━━━━━━━━━━━━━━━━━\u001b[0m \u001b[32m220.3/220.3 kB\u001b[0m \u001b[31m3.3 MB/s\u001b[0m eta \u001b[36m0:00:00\u001b[0m\n",
            "\u001b[?25hRequirement already satisfied: anyio<4,>=3.5.0 in /usr/local/lib/python3.10/dist-packages (from openai) (3.7.1)\n",
            "Requirement already satisfied: distro<2,>=1.7.0 in /usr/lib/python3/dist-packages (from openai) (1.7.0)\n",
            "Collecting httpx<1,>=0.23.0 (from openai)\n",
            "  Downloading httpx-0.25.1-py3-none-any.whl (75 kB)\n",
            "\u001b[2K     \u001b[90m━━━━━━━━━━━━━━━━━━━━━━━━━━━━━━━━━━━━━━━━\u001b[0m \u001b[32m75.0/75.0 kB\u001b[0m \u001b[31m5.2 MB/s\u001b[0m eta \u001b[36m0:00:00\u001b[0m\n",
            "\u001b[?25hRequirement already satisfied: pydantic<3,>=1.9.0 in /usr/local/lib/python3.10/dist-packages (from openai) (1.10.13)\n",
            "Requirement already satisfied: tqdm>4 in /usr/local/lib/python3.10/dist-packages (from openai) (4.66.1)\n",
            "Requirement already satisfied: typing-extensions<5,>=4.5 in /usr/local/lib/python3.10/dist-packages (from openai) (4.5.0)\n",
            "Requirement already satisfied: idna>=2.8 in /usr/local/lib/python3.10/dist-packages (from anyio<4,>=3.5.0->openai) (3.4)\n",
            "Requirement already satisfied: sniffio>=1.1 in /usr/local/lib/python3.10/dist-packages (from anyio<4,>=3.5.0->openai) (1.3.0)\n",
            "Requirement already satisfied: exceptiongroup in /usr/local/lib/python3.10/dist-packages (from anyio<4,>=3.5.0->openai) (1.1.3)\n",
            "Requirement already satisfied: certifi in /usr/local/lib/python3.10/dist-packages (from httpx<1,>=0.23.0->openai) (2023.7.22)\n",
            "Collecting httpcore (from httpx<1,>=0.23.0->openai)\n",
            "  Downloading httpcore-1.0.2-py3-none-any.whl (76 kB)\n",
            "\u001b[2K     \u001b[90m━━━━━━━━━━━━━━━━━━━━━━━━━━━━━━━━━━━━━━━━\u001b[0m \u001b[32m76.9/76.9 kB\u001b[0m \u001b[31m9.4 MB/s\u001b[0m eta \u001b[36m0:00:00\u001b[0m\n",
            "\u001b[?25hCollecting h11<0.15,>=0.13 (from httpcore->httpx<1,>=0.23.0->openai)\n",
            "  Downloading h11-0.14.0-py3-none-any.whl (58 kB)\n",
            "\u001b[2K     \u001b[90m━━━━━━━━━━━━━━━━━━━━━━━━━━━━━━━━━━━━━━━━\u001b[0m \u001b[32m58.3/58.3 kB\u001b[0m \u001b[31m5.2 MB/s\u001b[0m eta \u001b[36m0:00:00\u001b[0m\n",
            "\u001b[?25hInstalling collected packages: h11, httpcore, httpx, openai\n",
            "\u001b[31mERROR: pip's dependency resolver does not currently take into account all the packages that are installed. This behaviour is the source of the following dependency conflicts.\n",
            "llmx 0.0.15a0 requires cohere, which is not installed.\n",
            "llmx 0.0.15a0 requires tiktoken, which is not installed.\u001b[0m\u001b[31m\n",
            "\u001b[0mSuccessfully installed h11-0.14.0 httpcore-1.0.2 httpx-0.25.1 openai-1.2.3\n"
          ]
        }
      ],
      "source": [
        "! pip install langchain\n",
        "! pip install openai"
      ]
    },
    {
      "cell_type": "code",
      "execution_count": null,
      "metadata": {
        "id": "5CeOtMhvhHug"
      },
      "outputs": [],
      "source": [
        "from langchain.chat_models import ChatOpenAI\n",
        "from langchain.prompts import ChatPromptTemplate\n",
        "from langchain.chains import LLMChain"
      ]
    },
    {
      "cell_type": "code",
      "execution_count": null,
      "metadata": {
        "id": "C7EPPY-BhVqA"
      },
      "outputs": [],
      "source": [
        "llm_model = \"gpt-3.5-turbo\"\n",
        "llm = ChatOpenAI(temperature=0.1,\n",
        "                 model=llm_model,\n",
        "                 openai_api_key= \"YourChatGPTAPIKey\")"
      ]
    },
    {
      "cell_type": "code",
      "execution_count": null,
      "metadata": {
        "id": "vXANyq1YhXhS"
      },
      "outputs": [],
      "source": [
        "ADHD_Inattention = \"\"\"You are a pediatric expert, and use the following suggestions if the question is related to ADHD Inattention.\n",
        "\n",
        "Suggestions:\n",
        "Provide daily structure and stick with it.\\\n",
        "Minimize distractions when doing tasks such as homework; child should not be in a high traffic level in the house , by the TV, or  having siblings playing close by.\\\n",
        "Break down tasks into simple sequential steps.\\\n",
        "Consider using timers, clocks as visual cues for the child.\\\n",
        "Allow child to stand during tasks like homework.\\\n",
        "Give breaks every 15 minutes.\\\n",
        "Use a daily planner.\\\n",
        "Reinforce good behavior with treats, tokens, tickets.\\\n",
        "Organize your house.\\\n",
        "Call child's name before giving directions; make sure he/she is focused on what you are saying.\\\n",
        "Establish good eye contact as a way to make sure he's attending.\\\n",
        "Have all materials in one place -e.\\g.\\, backpack.\\\n",
        "Focus on child's strengths.\\\n",
        "\n",
        "\n",
        "Here is a question:\n",
        "{input}\"\"\"\n",
        "\n",
        "\n",
        "ADHD_HI = \"\"\"You are a pediatric expert, and use the following suggestions if the question is related to ADHD Hyperactive or Impulsive behavior.\\\n",
        "\n",
        "Suggestions:\n",
        "If you want a behavior to continue, reward it.\\\n",
        "Charts should be used to remind child of chores.\\\n",
        "Schedule should be simplified.\\\n",
        "Verbal message should be in the first 2 sentences, otherwise impulsivity will get in the way.\\\n",
        "Limit screen time (can be used as a reward).\\\n",
        "Have child engage in sports.\\\n",
        "Child should engage in physical activity daily.\\\n",
        "Pick your battles.\\\n",
        "Don't sweat the small stuff.\\\n",
        "Provide clear expectations and rules.\\\n",
        "Be consistent.\\\n",
        "Rules are inflexible.\\\n",
        "Use charts.\\\n",
        "Reward appropriate behavior, rewards include access to a grab-bag, tokens, tickets.\\\n",
        "Use applicable items from the inattention section.\\\n",
        "Limit choices (consider only several options at a time.\\\n",
        "If you do not like a behavior but it's not dangerous or excessively disruptive, ignore it.\\\n",
        "If the behavior is dangerous or aggressive, punish it or have time out.\\\n",
        "Behaviors should change in small increments.\\\n",
        "\n",
        "\n",
        "\n",
        "Here is a question:\n",
        "{input}\"\"\"\n",
        "\n",
        "\n",
        "# history_template = \"\"\"You are a very good historian. \\\n",
        "# You have an excellent knowledge of and understanding of people,\\\n",
        "# events and contexts from a range of historical periods. \\\n",
        "# You have the ability to think, reflect, debate, discuss and \\\n",
        "# evaluate the past. You have a respect for historical evidence\\\n",
        "# and the ability to make use of it to support your explanations \\\n",
        "# and judgements.\n",
        "\n",
        "# Here is a question:\n",
        "# {input}\"\"\"\n",
        "\n",
        "\n",
        "# computerscience_template = \"\"\" You are a successful computer scientist.\\\n",
        "# You have a passion for creativity, collaboration,\\\n",
        "# forward-thinking, confidence, strong problem-solving capabilities,\\\n",
        "# understanding of theories and algorithms, and excellent communication \\\n",
        "# skills. You are great at answering coding questions. \\\n",
        "# You are so good because you know how to solve a problem by \\\n",
        "# describing the solution in imperative steps \\\n",
        "# that a machine can easily interpret and you know how to \\\n",
        "# choose a solution that has a good balance between \\\n",
        "# time complexity and space complexity.\n",
        "\n",
        "# Here is a question:\n",
        "# {input}\"\"\""
      ]
    },
    {
      "cell_type": "code",
      "execution_count": null,
      "metadata": {
        "id": "3HHI9egTie9S"
      },
      "outputs": [],
      "source": [
        "prompt_infos = [\n",
        "    {\n",
        "        \"name\": \"ADHD Inattention\",\n",
        "        \"description\": \"Good for giving suggestions about ADHD Inattention\",\n",
        "        \"prompt_template\": ADHD_Inattention\n",
        "    },\n",
        "    {\n",
        "        \"name\": \"ADHD H/I\",\n",
        "        \"description\": \"Good for giving suggestions about ADHD Hyperactive/Impulsive problems\",\n",
        "        \"prompt_template\": ADHD_HI\n",
        "    },\n",
        "    # {\n",
        "    #     \"name\": \"History\",\n",
        "    #     \"description\": \"Good for answering history questions\",\n",
        "    #     \"prompt_template\": history_template\n",
        "    # },\n",
        "    # {\n",
        "    #     \"name\": \"computer science\",\n",
        "    #     \"description\": \"Good for answering computer science questions\",\n",
        "    #     \"prompt_template\": computerscience_template\n",
        "    # }\n",
        "]"
      ]
    },
    {
      "cell_type": "code",
      "execution_count": null,
      "metadata": {
        "id": "B1EODMvYihIa"
      },
      "outputs": [],
      "source": [
        "from langchain.chains.router import MultiPromptChain\n",
        "from langchain.chains.router.llm_router import LLMRouterChain,RouterOutputParser\n",
        "from langchain.prompts import PromptTemplate\n",
        "from langchain.prompts import ChatPromptTemplate\n"
      ]
    },
    {
      "cell_type": "code",
      "execution_count": null,
      "metadata": {
        "id": "1LIeVrnOiisW"
      },
      "outputs": [],
      "source": [
        "\n",
        "destination_chains = {}\n",
        "for p_info in prompt_infos:\n",
        "    name = p_info[\"name\"]\n",
        "    prompt_template = p_info[\"prompt_template\"]\n",
        "    prompt = ChatPromptTemplate.from_template(template=prompt_template)\n",
        "    chain = LLMChain(llm=llm, prompt=prompt)\n",
        "    destination_chains[name] = chain\n",
        "\n",
        "destinations = [f\"{p['name']}: {p['description']}\" for p in prompt_infos]\n",
        "destinations_str = \"\\n\".join(destinations)"
      ]
    },
    {
      "cell_type": "code",
      "execution_count": null,
      "metadata": {
        "id": "9XD_4B6Liko2"
      },
      "outputs": [],
      "source": [
        "default_prompt = ChatPromptTemplate.from_template(\"{input}\")\n",
        "default_chain = LLMChain(llm=llm, prompt=default_prompt)"
      ]
    },
    {
      "cell_type": "code",
      "execution_count": null,
      "metadata": {
        "id": "Veup2McSimiE"
      },
      "outputs": [],
      "source": [
        "MULTI_PROMPT_ROUTER_TEMPLATE = \"\"\"Given a raw text input to a \\\n",
        "language model select the model prompt best suited for the input. \\\n",
        "You will be given the names of the available prompts and a \\\n",
        "description of what the prompt is best suited for. \\\n",
        "You may also revise the original input if you think that revising\\\n",
        "it will ultimately lead to a better response from the language model.\n",
        "\n",
        "<< FORMATTING >>\n",
        "Return a markdown code snippet with a JSON object formatted to look like:\n",
        "```json\n",
        "{{{{\n",
        "    \"destination\": string \\ name of the prompt to use or \"DEFAULT\"\n",
        "    \"next_inputs\": string \\ a potentially modified version of the original input\n",
        "}}}}\n",
        "```\n",
        "\n",
        "REMEMBER: \"destination\" MUST be one of the candidate prompt \\\n",
        "names specified below OR it can be \"DEFAULT\" if the input is not\\\n",
        "well suited for any of the candidate prompts.\n",
        "REMEMBER: \"next_inputs\" can just be the original input \\\n",
        "if you don't think any modifications are needed.\n",
        "\n",
        "<< CANDIDATE PROMPTS >>\n",
        "{destinations}\n",
        "\n",
        "<< INPUT >>\n",
        "{{input}}\n",
        "\n",
        "<< OUTPUT (remember to include the ```json)>>\"\"\""
      ]
    },
    {
      "cell_type": "code",
      "execution_count": null,
      "metadata": {
        "id": "uKSL8NOTio1O"
      },
      "outputs": [],
      "source": [
        "router_template = MULTI_PROMPT_ROUTER_TEMPLATE.format(\n",
        "    destinations=destinations_str\n",
        ")\n",
        "router_prompt = PromptTemplate(\n",
        "    template=router_template,\n",
        "    input_variables=[\"input\"],\n",
        "    output_parser=RouterOutputParser(),\n",
        ")\n",
        "\n",
        "router_chain = LLMRouterChain.from_llm(llm, router_prompt)"
      ]
    },
    {
      "cell_type": "code",
      "execution_count": null,
      "metadata": {
        "id": "6iXjdukYiro-"
      },
      "outputs": [],
      "source": [
        "chain = MultiPromptChain(router_chain=router_chain,\n",
        "                         destination_chains=destination_chains,\n",
        "                         default_chain=default_chain, verbose=True\n",
        "                        )"
      ]
    },
    {
      "cell_type": "code",
      "execution_count": null,
      "metadata": {
        "colab": {
          "base_uri": "https://localhost:8080/"
        },
        "id": "2IYLMaFdj4AR",
        "outputId": "5069a62a-29db-4dda-bf00-757297694dc2"
      },
      "outputs": [
        {
          "name": "stdout",
          "output_type": "stream",
          "text": [
            "\n",
            "\n",
            "\u001b[1m> Entering new MultiPromptChain chain...\u001b[0m\n"
          ]
        },
        {
          "name": "stderr",
          "output_type": "stream",
          "text": [
            "/usr/local/lib/python3.10/dist-packages/langchain/chains/llm.py:321: UserWarning: The predict_and_parse method is deprecated, instead pass an output parser directly to LLMChain.\n",
            "  warnings.warn(\n"
          ]
        },
        {
          "name": "stdout",
          "output_type": "stream",
          "text": [
            "ADHD Inattention: {'input': \"During reading time, Sarah often stares out the window, completely missing the teacher's questions about the story.As a parent, what should I do?\"}\n",
            "\u001b[1m> Finished chain.\u001b[0m\n",
            "As a parent, there are several strategies you can try to help Sarah improve her focus during reading time:\n",
            "\n",
            "1. Provide daily structure and stick with it: Establish a consistent routine for reading time and ensure that it is a quiet and distraction-free environment.\n",
            "\n",
            "2. Minimize distractions: Make sure Sarah is not sitting near a window or any other potential distractions. Remove any toys or electronic devices that may divert her attention.\n",
            "\n",
            "3. Break down tasks into simple sequential steps: Help Sarah understand the expectations during reading time by breaking down the activity into smaller, manageable steps. For example, you can ask her to read a paragraph and then summarize what she read.\n",
            "\n",
            "4. Use visual cues: Consider using a timer or clock to visually indicate the duration of reading time. This can help Sarah stay focused and aware of the time she needs to spend on the task.\n",
            "\n",
            "5. Allow movement: Some children with ADHD benefit from movement while engaging in tasks. Allow Sarah to stand or fidget with a stress ball or other sensory tool during reading time, as long as it doesn't disrupt her or others.\n",
            "\n",
            "6. Take regular breaks: Incorporate short breaks every 15 minutes to give Sarah a chance to recharge and refocus. Encourage her to engage in a quick physical activity or stretch during these breaks.\n",
            "\n",
            "7. Use a daily planner: Help Sarah stay organized by using a daily planner or visual schedule. This can assist her in keeping track of her reading assignments and deadlines.\n",
            "\n",
            "8. Reinforce good behavior: Provide positive reinforcement for Sarah's efforts and improvements during reading time. This can be in the form of treats, tokens, or tickets that she can collect and exchange for rewards.\n",
            "\n",
            "9. Establish good eye contact: Before giving directions or discussing the story, make sure Sarah is focused and paying attention. Call her name and establish eye contact to ensure she is actively listening.\n",
            "\n",
            "10. Focus on strengths: Encourage and praise Sarah for her strengths and abilities during reading time. This positive reinforcement can boost her confidence and motivation to stay engaged.\n",
            "\n",
            "Remember, it's important to work closely with Sarah's teacher and healthcare provider to develop a comprehensive plan that addresses her specific needs and challenges related to ADHD inattention.\n"
          ]
        }
      ],
      "source": [
        "final1 = chain.run(\"During reading time, Sarah often stares out the window, completely missing the teacher's questions about the story.As a parent, what should I do?\")\n",
        "print(final1)"
      ]
    },
    {
      "cell_type": "code",
      "execution_count": null,
      "metadata": {
        "colab": {
          "base_uri": "https://localhost:8080/"
        },
        "id": "6dOXF3Pbls07",
        "outputId": "b40e20ed-6805-4117-b267-778a84d2745b"
      },
      "outputs": [
        {
          "name": "stdout",
          "output_type": "stream",
          "text": [
            "\n",
            "\n",
            "\u001b[1m> Entering new MultiPromptChain chain...\u001b[0m\n"
          ]
        },
        {
          "name": "stderr",
          "output_type": "stream",
          "text": [
            "/usr/local/lib/python3.10/dist-packages/langchain/chains/llm.py:321: UserWarning: The predict_and_parse method is deprecated, instead pass an output parser directly to LLMChain.\n",
            "  warnings.warn(\n"
          ]
        },
        {
          "name": "stdout",
          "output_type": "stream",
          "text": [
            "ADHD H/I: {'input': 'Tommy frequently interrupts the teacher during class discussions, blurting out answers without raising his hand. As a parent, what should I do?'}\n",
            "\u001b[1m> Finished chain.\u001b[0m\n",
            "As a parent, there are several strategies you can try to address Tommy's impulsive behavior in the classroom:\n",
            "\n",
            "1. Provide clear expectations and rules: Talk to Tommy about the importance of raising his hand and waiting for his turn to speak during class discussions. Explain why it is important to respect the teacher and other students.\n",
            "\n",
            "2. Use charts: Create a visual chart or reminder for Tommy that highlights the expected behavior in the classroom. This can serve as a visual cue to remind him to raise his hand before speaking.\n",
            "\n",
            "3. Reward appropriate behavior: When Tommy successfully raises his hand and waits for his turn to speak, provide positive reinforcement. This can be in the form of verbal praise, a small reward, or access to a preferred activity.\n",
            "\n",
            "4. Limit screen time: Consider using screen time as a reward for Tommy's improved behavior. For example, he can earn extra screen time for each day he successfully raises his hand during class discussions.\n",
            "\n",
            "5. Pick your battles: While it is important to address Tommy's impulsive behavior, it is also important to prioritize which behaviors to focus on. If his interruptions are not excessively disruptive or dangerous, you may choose to ignore them and instead focus on reinforcing positive behaviors.\n",
            "\n",
            "6. Be consistent: Consistency is key in addressing impulsive behavior. Make sure to consistently reinforce the expectation of raising his hand and waiting for his turn to speak.\n",
            "\n",
            "Remember, behavior change takes time and patience. It is important to work closely with Tommy's teacher to ensure a consistent approach both at home and in the classroom.\n"
          ]
        }
      ],
      "source": [
        "final2 = chain.run(\"Tommy frequently interrupts the teacher during class discussions, blurting out answers without raising his hand. As a parent, what should I do?\")\n",
        "print(final2)"
      ]
    },
    {
      "cell_type": "code",
      "execution_count": null,
      "metadata": {
        "id": "-eyic9O6mO90"
      },
      "outputs": [],
      "source": []
    }
  ],
  "metadata": {
    "colab": {
      "provenance": []
    },
    "kernelspec": {
      "display_name": "Python 3",
      "name": "python3"
    },
    "language_info": {
      "name": "python"
    }
  },
  "nbformat": 4,
  "nbformat_minor": 0
}
